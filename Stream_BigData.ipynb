{
 "cells": [
  {
   "attachments": {},
   "cell_type": "markdown",
   "metadata": {
    "application/vnd.databricks.v1+cell": {
     "cellMetadata": {
      "byteLimit": 2048000,
      "rowLimit": 10000
     },
     "inputWidgets": {},
     "nuid": "5ff2bf76-9ce1-47e6-8550-32694406b6a6",
     "showTitle": false,
     "title": ""
    }
   },
   "source": [
    "# Steam:Big Data\n",
    "Objective: \n",
    "- Use Big Data tools like Databricks and PySpark to conduct an analysis in order to understand the factors that affect sales and drive the video game industry.\n",
    "- The performed analysis will be divided in three different parts: macro-level, genres and platform analysis.\n",
    "\n",
    "  - Macro-level analysis:\n",
    "    - Which publisher has released the most games on Steam?\n",
    "\n",
    "    - What are the best rated games?\n",
    "\n",
    "    - Are there years with more releases? Were there more or fewer game releases during the Covid, for example?\n",
    "\n",
    "    - How are the prices distributed? Are there many games with a discount?\n",
    "\n",
    "    - What are the most represented languages?\n",
    "\n",
    "    - Are there many games prohibited for children under 16/18?\n",
    "  - Genres analysis:\n",
    "  \n",
    "    - What are the most represented genres?\n",
    "    \n",
    "    - Are there any genres that have a better positive/negative review ratio?\n",
    "    \n",
    "    - Do some publishers have favorite genres?\n",
    "    \n",
    "    - What are the most lucrative genres?\n",
    "\n",
    "  - Platform Analysis:\n",
    "    - Are most games available on Windows/Mac/Linux instead?\n",
    "\n",
    "    - Do certain genres tend to be preferentially available on certain platforms?"
   ]
  },
  {
   "cell_type": "markdown",
   "metadata": {
    "application/vnd.databricks.v1+cell": {
     "cellMetadata": {
      "byteLimit": 2048000,
      "rowLimit": 10000
     },
     "inputWidgets": {},
     "nuid": "4977741a-f7ea-43e4-8118-174fb66fa078",
     "showTitle": false,
     "title": ""
    }
   },
   "source": [
    "## Imports"
   ]
  },
  {
   "cell_type": "code",
   "execution_count": null,
   "metadata": {
    "application/vnd.databricks.v1+cell": {
     "cellMetadata": {
      "byteLimit": 2048000,
      "rowLimit": 10000
     },
     "inputWidgets": {},
     "nuid": "b803a51b-9173-46a4-bd71-bf0f65201c75",
     "showTitle": false,
     "title": ""
    }
   },
   "outputs": [],
   "source": [
    "# libraries\n",
    "from pyspark.sql.functions import *\n",
    "from pyspark.sql.types import *\n",
    "import pyspark"
   ]
  },
  {
   "cell_type": "code",
   "execution_count": null,
   "metadata": {
    "application/vnd.databricks.v1+cell": {
     "cellMetadata": {
      "byteLimit": 2048000,
      "rowLimit": 10000
     },
     "inputWidgets": {},
     "nuid": "323a51f9-acae-4bab-a5a3-f50e5d7a5873",
     "showTitle": false,
     "title": ""
    }
   },
   "outputs": [
    {
     "name": "stdout",
     "output_type": "stream",
     "text": [
      "root\n",
      " |-- data: struct (nullable = true)\n",
      " |    |-- appid: long (nullable = true)\n",
      " |    |-- categories: array (nullable = true)\n",
      " |    |    |-- element: string (containsNull = true)\n",
      " |    |-- ccu: long (nullable = true)\n",
      " |    |-- developer: string (nullable = true)\n",
      " |    |-- discount: string (nullable = true)\n",
      " |    |-- genre: string (nullable = true)\n",
      " |    |-- header_image: string (nullable = true)\n",
      " |    |-- initialprice: string (nullable = true)\n",
      " |    |-- languages: string (nullable = true)\n",
      " |    |-- name: string (nullable = true)\n",
      " |    |-- negative: long (nullable = true)\n",
      " |    |-- owners: string (nullable = true)\n",
      " |    |-- platforms: struct (nullable = true)\n",
      " |    |    |-- linux: boolean (nullable = true)\n",
      " |    |    |-- mac: boolean (nullable = true)\n",
      " |    |    |-- windows: boolean (nullable = true)\n",
      " |    |-- positive: long (nullable = true)\n",
      " |    |-- price: string (nullable = true)\n",
      " |    |-- publisher: string (nullable = true)\n",
      " |    |-- release_date: string (nullable = true)\n",
      " |    |-- required_age: string (nullable = true)\n",
      " |    |-- short_description: string (nullable = true)\n",
      " |    |-- tags: struct (nullable = true)\n",
      " |    |    |-- 1980s: long (nullable = true)\n",
      " |    |    |-- 1990's: long (nullable = true)\n",
      " |    |    |-- 2.5D: long (nullable = true)\n",
      " |    |    |-- 2D: long (nullable = true)\n",
      " |    |    |-- 2D Fighter: long (nullable = true)\n",
      " |    |    |-- 2D Platformer: long (nullable = true)\n",
      " |    |    |-- 360 Video: long (nullable = true)\n",
      " |    |    |-- 3D: long (nullable = true)\n",
      " |    |    |-- 3D Fighter: long (nullable = true)\n",
      " |    |    |-- 3D Platformer: long (nullable = true)\n",
      " |    |    |-- 3D Vision: long (nullable = true)\n",
      " |    |    |-- 4 Player Local: long (nullable = true)\n",
      " |    |    |-- 4X: long (nullable = true)\n",
      " |    |    |-- 6DOF: long (nullable = true)\n",
      " |    |    |-- 8-bit Music: long (nullable = true)\n",
      " |    |    |-- ATV: long (nullable = true)\n",
      " |    |    |-- Abstract: long (nullable = true)\n",
      " |    |    |-- Action: long (nullable = true)\n",
      " |    |    |-- Action RPG: long (nullable = true)\n",
      " |    |    |-- Action RTS: long (nullable = true)\n",
      " |    |    |-- Action Roguelike: long (nullable = true)\n",
      " |    |    |-- Action-Adventure: long (nullable = true)\n",
      " |    |    |-- Addictive: long (nullable = true)\n",
      " |    |    |-- Adventure: long (nullable = true)\n",
      " |    |    |-- Agriculture: long (nullable = true)\n",
      " |    |    |-- Aliens: long (nullable = true)\n",
      " |    |    |-- Alternate History: long (nullable = true)\n",
      " |    |    |-- Ambient: long (nullable = true)\n",
      " |    |    |-- America: long (nullable = true)\n",
      " |    |    |-- Animation & Modeling: long (nullable = true)\n",
      " |    |    |-- Anime: long (nullable = true)\n",
      " |    |    |-- Arcade: long (nullable = true)\n",
      " |    |    |-- Archery: long (nullable = true)\n",
      " |    |    |-- Arena Shooter: long (nullable = true)\n",
      " |    |    |-- Artificial Intelligence: long (nullable = true)\n",
      " |    |    |-- Assassin: long (nullable = true)\n",
      " |    |    |-- Asymmetric VR: long (nullable = true)\n",
      " |    |    |-- Asynchronous Multiplayer: long (nullable = true)\n",
      " |    |    |-- Atmospheric: long (nullable = true)\n",
      " |    |    |-- Audio Production: long (nullable = true)\n",
      " |    |    |-- Auto Battler: long (nullable = true)\n",
      " |    |    |-- Automation: long (nullable = true)\n",
      " |    |    |-- Automobile Sim: long (nullable = true)\n",
      " |    |    |-- BMX: long (nullable = true)\n",
      " |    |    |-- Base-Building: long (nullable = true)\n",
      " |    |    |-- Baseball: long (nullable = true)\n",
      " |    |    |-- Based On A Novel: long (nullable = true)\n",
      " |    |    |-- Basketball: long (nullable = true)\n",
      " |    |    |-- Battle Royale: long (nullable = true)\n",
      " |    |    |-- Beat 'em up: long (nullable = true)\n",
      " |    |    |-- Beautiful: long (nullable = true)\n",
      " |    |    |-- Benchmark: long (nullable = true)\n",
      " |    |    |-- Bikes: long (nullable = true)\n",
      " |    |    |-- Blood: long (nullable = true)\n",
      " |    |    |-- Board Game: long (nullable = true)\n",
      " |    |    |-- Boss Rush: long (nullable = true)\n",
      " |    |    |-- Bowling: long (nullable = true)\n",
      " |    |    |-- Boxing: long (nullable = true)\n",
      " |    |    |-- Building: long (nullable = true)\n",
      " |    |    |-- Bullet Hell: long (nullable = true)\n",
      " |    |    |-- Bullet Time: long (nullable = true)\n",
      " |    |    |-- CRPG: long (nullable = true)\n",
      " |    |    |-- Capitalism: long (nullable = true)\n",
      " |    |    |-- Card Battler: long (nullable = true)\n",
      " |    |    |-- Card Game: long (nullable = true)\n",
      " |    |    |-- Cartoon: long (nullable = true)\n",
      " |    |    |-- Cartoony: long (nullable = true)\n",
      " |    |    |-- Casual: long (nullable = true)\n",
      " |    |    |-- Cats: long (nullable = true)\n",
      " |    |    |-- Character Action Game: long (nullable = true)\n",
      " |    |    |-- Character Customization: long (nullable = true)\n",
      " |    |    |-- Chess: long (nullable = true)\n",
      " |    |    |-- Choices Matter: long (nullable = true)\n",
      " |    |    |-- Choose Your Own Adventure: long (nullable = true)\n",
      " |    |    |-- Cinematic: long (nullable = true)\n",
      " |    |    |-- City Builder: long (nullable = true)\n",
      " |    |    |-- Class-Based: long (nullable = true)\n",
      " |    |    |-- Classic: long (nullable = true)\n",
      " |    |    |-- Clicker: long (nullable = true)\n",
      " |    |    |-- Co-op: long (nullable = true)\n",
      " |    |    |-- Co-op Campaign: long (nullable = true)\n",
      " |    |    |-- Coding: long (nullable = true)\n",
      " |    |    |-- Cold War: long (nullable = true)\n",
      " |    |    |-- Collectathon: long (nullable = true)\n",
      " |    |    |-- Colony Sim: long (nullable = true)\n",
      " |    |    |-- Colorful: long (nullable = true)\n",
      " |    |    |-- Combat: long (nullable = true)\n",
      " |    |    |-- Combat Racing: long (nullable = true)\n",
      " |    |    |-- Comedy: long (nullable = true)\n",
      " |    |    |-- Comic Book: long (nullable = true)\n",
      " |    |    |-- Competitive: long (nullable = true)\n",
      " |    |    |-- Conspiracy: long (nullable = true)\n",
      " |    |    |-- Controller: long (nullable = true)\n",
      " |    |    |-- Conversation: long (nullable = true)\n",
      " |    |    |-- Cooking: long (nullable = true)\n",
      " |    |    |-- Cozy: long (nullable = true)\n",
      " |    |    |-- Crafting: long (nullable = true)\n",
      " |    |    |-- Creature Collector: long (nullable = true)\n",
      " |    |    |-- Cricket: long (nullable = true)\n",
      " |    |    |-- Crime: long (nullable = true)\n",
      " |    |    |-- Crowdfunded: long (nullable = true)\n",
      " |    |    |-- Cult Classic: long (nullable = true)\n",
      " |    |    |-- Cute: long (nullable = true)\n",
      " |    |    |-- Cyberpunk: long (nullable = true)\n",
      " |    |    |-- Cycling: long (nullable = true)\n",
      " |    |    |-- Dark: long (nullable = true)\n",
      " |    |    |-- Dark Comedy: long (nullable = true)\n",
      " |    |    |-- Dark Fantasy: long (nullable = true)\n",
      " |    |    |-- Dark Humor: long (nullable = true)\n",
      " |    |    |-- Dating Sim: long (nullable = true)\n",
      " |    |    |-- Deckbuilding: long (nullable = true)\n",
      " |    |    |-- Demons: long (nullable = true)\n",
      " |    |    |-- Design & Illustration: long (nullable = true)\n",
      " |    |    |-- Destruction: long (nullable = true)\n",
      " |    |    |-- Detective: long (nullable = true)\n",
      " |    |    |-- Difficult: long (nullable = true)\n",
      " |    |    |-- Dinosaurs: long (nullable = true)\n",
      " |    |    |-- Diplomacy: long (nullable = true)\n",
      " |    |    |-- Documentary: long (nullable = true)\n",
      " |    |    |-- Dog: long (nullable = true)\n",
      " |    |    |-- Dragons: long (nullable = true)\n",
      " |    |    |-- Drama: long (nullable = true)\n",
      " |    |    |-- Driving: long (nullable = true)\n",
      " |    |    |-- Dungeon Crawler: long (nullable = true)\n",
      " |    |    |-- Dungeons & Dragons: long (nullable = true)\n",
      " |    |    |-- Dynamic Narration: long (nullable = true)\n",
      " |    |    |-- Dystopian : long (nullable = true)\n",
      " |    |    |-- Early Access: long (nullable = true)\n",
      " |    |    |-- Economy: long (nullable = true)\n",
      " |    |    |-- Education: long (nullable = true)\n",
      " |    |    |-- Electronic: long (nullable = true)\n",
      " |    |    |-- Electronic Music: long (nullable = true)\n",
      " |    |    |-- Emotional: long (nullable = true)\n",
      " |    |    |-- Epic: long (nullable = true)\n",
      " |    |    |-- Episodic: long (nullable = true)\n",
      " |    |    |-- Escape Room: long (nullable = true)\n",
      " |    |    |-- Experience: long (nullable = true)\n",
      " |    |    |-- Experimental: long (nullable = true)\n",
      " |    |    |-- Exploration: long (nullable = true)\n",
      " |    |    |-- FMV: long (nullable = true)\n",
      " |    |    |-- FPS: long (nullable = true)\n",
      " |    |    |-- Faith: long (nullable = true)\n",
      " |    |    |-- Family Friendly: long (nullable = true)\n",
      " |    |    |-- Fantasy: long (nullable = true)\n",
      " |    |    |-- Farming: long (nullable = true)\n",
      " |    |    |-- Farming Sim: long (nullable = true)\n",
      " |    |    |-- Fast-Paced: long (nullable = true)\n",
      " |    |    |-- Feature Film: long (nullable = true)\n",
      " |    |    |-- Female Protagonist: long (nullable = true)\n",
      " |    |    |-- Fighting: long (nullable = true)\n",
      " |    |    |-- First-Person: long (nullable = true)\n",
      " |    |    |-- Fishing: long (nullable = true)\n",
      " |    |    |-- Flight: long (nullable = true)\n",
      " |    |    |-- Football: long (nullable = true)\n",
      " |    |    |-- Foreign: long (nullable = true)\n",
      " |    |    |-- Free to Play: long (nullable = true)\n",
      " |    |    |-- Funny: long (nullable = true)\n",
      " |    |    |-- Futuristic: long (nullable = true)\n",
      " |    |    |-- Gambling: long (nullable = true)\n",
      " |    |    |-- Game Development: long (nullable = true)\n",
      " |    |    |-- GameMaker: long (nullable = true)\n",
      " |    |    |-- Games Workshop: long (nullable = true)\n",
      " |    |    |-- Gaming: long (nullable = true)\n",
      " |    |    |-- God Game: long (nullable = true)\n",
      " |    |    |-- Golf: long (nullable = true)\n",
      " |    |    |-- Gore: long (nullable = true)\n",
      " |    |    |-- Gothic: long (nullable = true)\n",
      " |    |    |-- Grand Strategy: long (nullable = true)\n",
      " |    |    |-- Great Soundtrack: long (nullable = true)\n",
      " |    |    |-- Grid-Based Movement: long (nullable = true)\n",
      " |    |    |-- Gun Customization: long (nullable = true)\n",
      " |    |    |-- Hack and Slash: long (nullable = true)\n",
      " |    |    |-- Hacking: long (nullable = true)\n",
      " |    |    |-- Hand-drawn: long (nullable = true)\n",
      " |    |    |-- Hardware: long (nullable = true)\n",
      " |    |    |-- Heist: long (nullable = true)\n",
      " |    |    |-- Hentai: long (nullable = true)\n",
      " |    |    |-- Hero Shooter: long (nullable = true)\n",
      " |    |    |-- Hex Grid: long (nullable = true)\n",
      " |    |    |-- Hidden Object: long (nullable = true)\n",
      " |    |    |-- Historical: long (nullable = true)\n",
      " |    |    |-- Hockey: long (nullable = true)\n",
      " |    |    |-- Horror: long (nullable = true)\n",
      " |    |    |-- Horses: long (nullable = true)\n",
      " |    |    |-- Hunting: long (nullable = true)\n",
      " |    |    |-- Idler: long (nullable = true)\n",
      " |    |    |-- Illuminati: long (nullable = true)\n",
      " |    |    |-- Immersive: long (nullable = true)\n",
      " |    |    |-- Immersive Sim: long (nullable = true)\n",
      " |    |    |-- Indie: long (nullable = true)\n",
      " |    |    |-- Instrumental Music: long (nullable = true)\n",
      " |    |    |-- Intentionally Awkward Controls: long (nullable = true)\n",
      " |    |    |-- Interactive Fiction: long (nullable = true)\n",
      " |    |    |-- Inventory Management: long (nullable = true)\n",
      " |    |    |-- Investigation: long (nullable = true)\n",
      " |    |    |-- Isometric: long (nullable = true)\n",
      " |    |    |-- JRPG: long (nullable = true)\n",
      " |    |    |-- Jet: long (nullable = true)\n",
      " |    |    |-- Job Simulator: long (nullable = true)\n",
      " |    |    |-- Jump Scare: long (nullable = true)\n",
      " |    |    |-- Kickstarter: long (nullable = true)\n",
      " |    |    |-- LEGO: long (nullable = true)\n",
      " |    |    |-- LGBTQ+: long (nullable = true)\n",
      " |    |    |-- Lemmings: long (nullable = true)\n",
      " |    |    |-- Level Editor: long (nullable = true)\n",
      " |    |    |-- Life Sim: long (nullable = true)\n",
      " |    |    |-- Linear: long (nullable = true)\n",
      " |    |    |-- Local Co-Op: long (nullable = true)\n",
      " |    |    |-- Local Multiplayer: long (nullable = true)\n",
      " |    |    |-- Logic: long (nullable = true)\n",
      " |    |    |-- Loot: long (nullable = true)\n",
      " |    |    |-- Looter Shooter: long (nullable = true)\n",
      " |    |    |-- Lore-Rich: long (nullable = true)\n",
      " |    |    |-- Lovecraftian: long (nullable = true)\n",
      " |    |    |-- MMORPG: long (nullable = true)\n",
      " |    |    |-- MOBA: long (nullable = true)\n",
      " |    |    |-- Magic: long (nullable = true)\n",
      " |    |    |-- Mahjong: long (nullable = true)\n",
      " |    |    |-- Management: long (nullable = true)\n",
      " |    |    |-- Mars: long (nullable = true)\n",
      " |    |    |-- Martial Arts: long (nullable = true)\n",
      " |    |    |-- Massively Multiplayer: long (nullable = true)\n",
      " |    |    |-- Masterpiece: long (nullable = true)\n",
      " |    |    |-- Match 3: long (nullable = true)\n",
      " |    |    |-- Mature: long (nullable = true)\n",
      " |    |    |-- Mechs: long (nullable = true)\n",
      " |    |    |-- Medical Sim: long (nullable = true)\n",
      " |    |    |-- Medieval: long (nullable = true)\n",
      " |    |    |-- Memes: long (nullable = true)\n",
      " |    |    |-- Metroidvania: long (nullable = true)\n",
      " |    |    |-- Military: long (nullable = true)\n",
      " |    |    |-- Mini Golf: long (nullable = true)\n",
      " |    |    |-- Minigames: long (nullable = true)\n",
      " |    |    |-- Minimalist: long (nullable = true)\n",
      " |    |    |-- Mining: long (nullable = true)\n",
      " |    |    |-- Mod: long (nullable = true)\n",
      " |    |    |-- Moddable: long (nullable = true)\n",
      " |    |    |-- Modern: long (nullable = true)\n",
      " |    |    |-- Motocross: long (nullable = true)\n",
      " |    |    |-- Motorbike: long (nullable = true)\n",
      " |    |    |-- Mouse only: long (nullable = true)\n",
      " |    |    |-- Movie: long (nullable = true)\n",
      " |    |    |-- Multiplayer: long (nullable = true)\n",
      " |    |    |-- Multiple Endings: long (nullable = true)\n",
      " |    |    |-- Music: long (nullable = true)\n",
      " |    |    |-- Music-Based Procedural Generation: long (nullable = true)\n",
      " |    |    |-- Musou: long (nullable = true)\n",
      " |    |    |-- Mystery: long (nullable = true)\n",
      " |    |    |-- Mystery Dungeon: long (nullable = true)\n",
      " |    |    |-- Mythology: long (nullable = true)\n",
      " |    |    |-- NSFW: long (nullable = true)\n",
      " |    |    |-- Narration: long (nullable = true)\n",
      " |    |    |-- Narrative: long (nullable = true)\n",
      " |    |    |-- Nature: long (nullable = true)\n",
      " |    |    |-- Naval: long (nullable = true)\n",
      " |    |    |-- Naval Combat: long (nullable = true)\n",
      " |    |    |-- Ninja: long (nullable = true)\n",
      " |    |    |-- Noir: long (nullable = true)\n",
      " |    |    |-- Nonlinear: long (nullable = true)\n",
      " |    |    |-- Nostalgia: long (nullable = true)\n",
      " |    |    |-- Nudity: long (nullable = true)\n",
      " |    |    |-- Offroad: long (nullable = true)\n",
      " |    |    |-- Old School: long (nullable = true)\n",
      " |    |    |-- On-Rails Shooter: long (nullable = true)\n",
      " |    |    |-- Online Co-Op: long (nullable = true)\n",
      " |    |    |-- Open World: long (nullable = true)\n",
      " |    |    |-- Open World Survival Craft: long (nullable = true)\n",
      " |    |    |-- Otome: long (nullable = true)\n",
      " |    |    |-- Outbreak Sim: long (nullable = true)\n",
      " |    |    |-- Parkour: long (nullable = true)\n",
      " |    |    |-- Parody : long (nullable = true)\n",
      " |    |    |-- Party: long (nullable = true)\n",
      " |    |    |-- Party Game: long (nullable = true)\n",
      " |    |    |-- Party-Based RPG: long (nullable = true)\n",
      " |    |    |-- Perma Death: long (nullable = true)\n",
      " |    |    |-- Philosophical: long (nullable = true)\n",
      " |    |    |-- Photo Editing: long (nullable = true)\n",
      " |    |    |-- Physics: long (nullable = true)\n",
      " |    |    |-- Pinball: long (nullable = true)\n",
      " |    |    |-- Pirates: long (nullable = true)\n",
      " |    |    |-- Pixel Graphics: long (nullable = true)\n",
      " |    |    |-- Platformer: long (nullable = true)\n",
      " |    |    |-- Point & Click: long (nullable = true)\n",
      " |    |    |-- Political: long (nullable = true)\n",
      " |    |    |-- Political Sim: long (nullable = true)\n",
      " |    |    |-- Politics: long (nullable = true)\n",
      " |    |    |-- Pool: long (nullable = true)\n",
      " |    |    |-- Post-apocalyptic: long (nullable = true)\n",
      " |    |    |-- Precision Platformer: long (nullable = true)\n",
      " |    |    |-- Procedural Generation: long (nullable = true)\n",
      " |    |    |-- Programming: long (nullable = true)\n",
      " |    |    |-- Psychedelic: long (nullable = true)\n",
      " |    |    |-- Psychological: long (nullable = true)\n",
      " |    |    |-- Psychological Horror: long (nullable = true)\n",
      " |    |    |-- Puzzle: long (nullable = true)\n",
      " |    |    |-- Puzzle-Platformer: long (nullable = true)\n",
      " |    |    |-- PvE: long (nullable = true)\n",
      " |    |    |-- PvP: long (nullable = true)\n",
      " |    |    |-- Quick-Time Events: long (nullable = true)\n",
      " |    |    |-- RPG: long (nullable = true)\n",
      " |    |    |-- RPGMaker: long (nullable = true)\n",
      " |    |    |-- RTS: long (nullable = true)\n",
      " |    |    |-- Racing: long (nullable = true)\n",
      " |    |    |-- Real Time Tactics: long (nullable = true)\n",
      " |    |    |-- Real-Time: long (nullable = true)\n",
      " |    |    |-- Real-Time with Pause: long (nullable = true)\n",
      " |    |    |-- Realistic: long (nullable = true)\n",
      " |    |    |-- Reboot: long (nullable = true)\n",
      " |    |    |-- Relaxing: long (nullable = true)\n",
      " |    |    |-- Remake: long (nullable = true)\n",
      " |    |    |-- Replay Value: long (nullable = true)\n",
      " |    |    |-- Resource Management: long (nullable = true)\n",
      " |    |    |-- Retro: long (nullable = true)\n",
      " |    |    |-- Rhythm: long (nullable = true)\n",
      " |    |    |-- Robots: long (nullable = true)\n",
      " |    |    |-- Rock Music: long (nullable = true)\n",
      " |    |    |-- Rogue-like: long (nullable = true)\n",
      " |    |    |-- Rogue-lite: long (nullable = true)\n",
      " |    |    |-- Roguelike Deckbuilder: long (nullable = true)\n",
      " |    |    |-- Roguevania: long (nullable = true)\n",
      " |    |    |-- Romance: long (nullable = true)\n",
      " |    |    |-- Rome: long (nullable = true)\n",
      " |    |    |-- Rugby: long (nullable = true)\n",
      " |    |    |-- Runner: long (nullable = true)\n",
      " |    |    |-- Sailing: long (nullable = true)\n",
      " |    |    |-- Sandbox: long (nullable = true)\n",
      " |    |    |-- Satire: long (nullable = true)\n",
      " |    |    |-- Sci-fi: long (nullable = true)\n",
      " |    |    |-- Science: long (nullable = true)\n",
      " |    |    |-- Score Attack: long (nullable = true)\n",
      " |    |    |-- Sequel: long (nullable = true)\n",
      " |    |    |-- Sexual Content: long (nullable = true)\n",
      " |    |    |-- Shoot 'Em Up: long (nullable = true)\n",
      " |    |    |-- Shooter: long (nullable = true)\n",
      " |    |    |-- Shop Keeper: long (nullable = true)\n",
      " |    |    |-- Short: long (nullable = true)\n",
      " |    |    |-- Side Scroller: long (nullable = true)\n",
      " |    |    |-- Silent Protagonist: long (nullable = true)\n",
      " |    |    |-- Simulation: long (nullable = true)\n",
      " |    |    |-- Singleplayer: long (nullable = true)\n",
      " |    |    |-- Skateboarding: long (nullable = true)\n",
      " |    |    |-- Skating: long (nullable = true)\n",
      " |    |    |-- Skiing: long (nullable = true)\n",
      " |    |    |-- Sniper: long (nullable = true)\n",
      " |    |    |-- Snooker: long (nullable = true)\n",
      " |    |    |-- Snow: long (nullable = true)\n",
      " |    |    |-- Snowboarding: long (nullable = true)\n",
      " |    |    |-- Soccer: long (nullable = true)\n",
      " |    |    |-- Social Deduction: long (nullable = true)\n",
      " |    |    |-- Software: long (nullable = true)\n",
      " |    |    |-- Software Training: long (nullable = true)\n",
      " |    |    |-- Sokoban: long (nullable = true)\n",
      " |    |    |-- Solitaire: long (nullable = true)\n",
      " |    |    |-- Souls-like: long (nullable = true)\n",
      " |    |    |-- Soundtrack: long (nullable = true)\n",
      " |    |    |-- Space: long (nullable = true)\n",
      " |    |    |-- Space Sim: long (nullable = true)\n",
      " |    |    |-- Spaceships: long (nullable = true)\n",
      " |    |    |-- Spectacle fighter: long (nullable = true)\n",
      " |    |    |-- Spelling: long (nullable = true)\n",
      " |    |    |-- Split Screen: long (nullable = true)\n",
      " |    |    |-- Sports: long (nullable = true)\n",
      " |    |    |-- Stealth: long (nullable = true)\n",
      " |    |    |-- Steam Machine: long (nullable = true)\n",
      " |    |    |-- Steampunk: long (nullable = true)\n",
      " |    |    |-- Story Rich: long (nullable = true)\n",
      " |    |    |-- Strategy: long (nullable = true)\n",
      " |    |    |-- Strategy RPG: long (nullable = true)\n",
      " |    |    |-- Stylized: long (nullable = true)\n",
      " |    |    |-- Submarine: long (nullable = true)\n",
      " |    |    |-- Superhero: long (nullable = true)\n",
      " |    |    |-- Supernatural: long (nullable = true)\n",
      " |    |    |-- Surreal: long (nullable = true)\n",
      " |    |    |-- Survival: long (nullable = true)\n",
      " |    |    |-- Survival Horror: long (nullable = true)\n",
      " |    |    |-- Swordplay: long (nullable = true)\n",
      " |    |    |-- Tabletop: long (nullable = true)\n",
      " |    |    |-- Tactical: long (nullable = true)\n",
      " |    |    |-- Tactical RPG: long (nullable = true)\n",
      " |    |    |-- Tanks: long (nullable = true)\n",
      " |    |    |-- Team-Based: long (nullable = true)\n",
      " |    |    |-- Tennis: long (nullable = true)\n",
      " |    |    |-- Text-Based: long (nullable = true)\n",
      " |    |    |-- Third Person: long (nullable = true)\n",
      " |    |    |-- Third-Person Shooter: long (nullable = true)\n",
      " |    |    |-- Thriller: long (nullable = true)\n",
      " |    |    |-- Tile-Matching: long (nullable = true)\n",
      " |    |    |-- Time Attack: long (nullable = true)\n",
      " |    |    |-- Time Management: long (nullable = true)\n",
      " |    |    |-- Time Manipulation: long (nullable = true)\n",
      " |    |    |-- Time Travel: long (nullable = true)\n",
      " |    |    |-- Top-Down: long (nullable = true)\n",
      " |    |    |-- Top-Down Shooter: long (nullable = true)\n",
      " |    |    |-- Touch-Friendly: long (nullable = true)\n",
      " |    |    |-- Tower Defense: long (nullable = true)\n",
      " |    |    |-- TrackIR: long (nullable = true)\n",
      " |    |    |-- Trading: long (nullable = true)\n",
      " |    |    |-- Trading Card Game: long (nullable = true)\n",
      " |    |    |-- Traditional Roguelike: long (nullable = true)\n",
      " |    |    |-- Trains: long (nullable = true)\n",
      " |    |    |-- Transhumanism: long (nullable = true)\n",
      " |    |    |-- Transportation: long (nullable = true)\n",
      " |    |    |-- Trivia: long (nullable = true)\n",
      " |    |    |-- Turn-Based: long (nullable = true)\n",
      " |    |    |-- Turn-Based Combat: long (nullable = true)\n",
      " |    |    |-- Turn-Based Strategy: long (nullable = true)\n",
      " |    |    |-- Turn-Based Tactics: long (nullable = true)\n",
      " |    |    |-- Tutorial: long (nullable = true)\n",
      " |    |    |-- Twin Stick Shooter: long (nullable = true)\n",
      " |    |    |-- Typing: long (nullable = true)\n",
      " |    |    |-- Underground: long (nullable = true)\n",
      " |    |    |-- Underwater: long (nullable = true)\n",
      " |    |    |-- Unforgiving: long (nullable = true)\n",
      " |    |    |-- Utilities: long (nullable = true)\n",
      " |    |    |-- VR: long (nullable = true)\n",
      " |    |    |-- VR Only: long (nullable = true)\n",
      " |    |    |-- Vampire: long (nullable = true)\n",
      " |    |    |-- Vehicular Combat: long (nullable = true)\n",
      " |    |    |-- Video Production: long (nullable = true)\n",
      " |    |    |-- Vikings: long (nullable = true)\n",
      " |    |    |-- Villain Protagonist: long (nullable = true)\n",
      " |    |    |-- Violent: long (nullable = true)\n",
      " |    |    |-- Visual Novel: long (nullable = true)\n",
      " |    |    |-- Voice Control: long (nullable = true)\n",
      " |    |    |-- Volleyball: long (nullable = true)\n",
      " |    |    |-- Voxel: long (nullable = true)\n",
      " |    |    |-- Walking Simulator: long (nullable = true)\n",
      " |    |    |-- War: long (nullable = true)\n",
      " |    |    |-- Wargame: long (nullable = true)\n",
      " |    |    |-- Warhammer 40K: long (nullable = true)\n",
      " |    |    |-- Web Publishing: long (nullable = true)\n",
      " |    |    |-- Well-Written: long (nullable = true)\n",
      " |    |    |-- Werewolves: long (nullable = true)\n",
      " |    |    |-- Western: long (nullable = true)\n",
      " |    |    |-- Wholesome: long (nullable = true)\n",
      " |    |    |-- Word Game: long (nullable = true)\n",
      " |    |    |-- World War I: long (nullable = true)\n",
      " |    |    |-- World War II: long (nullable = true)\n",
      " |    |    |-- Wrestling: long (nullable = true)\n",
      " |    |    |-- Zombies: long (nullable = true)\n",
      " |    |    |-- e-sports: long (nullable = true)\n",
      " |    |-- type: string (nullable = true)\n",
      " |    |-- website: string (nullable = true)\n",
      " |-- id: string (nullable = true)\n",
      "\n"
     ]
    }
   ],
   "source": [
    "# import data from S3 bucket into pyspark dataframe\n",
    "path = \"s3://full-stack-bigdata-datasets/Big_Data/Project_Steam/steam_game_output.json\"\n",
    "df = spark.read.format(\"json\").option(\"header\", \"true\").load(path)\n",
    "\n",
    "# view schema\n",
    "df.printSchema()"
   ]
  },
  {
   "cell_type": "markdown",
   "metadata": {
    "application/vnd.databricks.v1+cell": {
     "cellMetadata": {
      "byteLimit": 2048000,
      "rowLimit": 10000
     },
     "inputWidgets": {},
     "nuid": "3e17e620-e563-4356-a948-87e335f6ee26",
     "showTitle": false,
     "title": ""
    }
   },
   "source": [
    "- It is a nested schema, so it will be necessary to do some tidying up and transformations before getting to analysis."
   ]
  },
  {
   "cell_type": "markdown",
   "metadata": {
    "application/vnd.databricks.v1+cell": {
     "cellMetadata": {
      "byteLimit": 2048000,
      "rowLimit": 10000
     },
     "inputWidgets": {},
     "nuid": "2fb64a28-bd7a-41d2-bf32-53603a77528d",
     "showTitle": false,
     "title": ""
    }
   },
   "source": [
    "## Basic Exploration"
   ]
  },
  {
   "cell_type": "code",
   "execution_count": null,
   "metadata": {
    "application/vnd.databricks.v1+cell": {
     "cellMetadata": {
      "byteLimit": 2048000,
      "rowLimit": 10000
     },
     "inputWidgets": {},
     "nuid": "d5bfff62-c4a8-42a9-9ae7-59cfd751cbbb",
     "showTitle": false,
     "title": ""
    }
   },
   "outputs": [
    {
     "name": "stdout",
     "output_type": "stream",
     "text": [
      "+--------------------+-------+\n",
      "|                data|     id|\n",
      "+--------------------+-------+\n",
      "|{10, [Multi-playe...|     10|\n",
      "|{1000000, [Single...|1000000|\n",
      "|{1000010, [Single...|1000010|\n",
      "|{1000030, [Multi-...|1000030|\n",
      "|{1000040, [Single...|1000040|\n",
      "+--------------------+-------+\n",
      "only showing top 5 rows\n",
      "\n"
     ]
    }
   ],
   "source": [
    "# show top 5 rows\n",
    "df.show(5)"
   ]
  },
  {
   "cell_type": "code",
   "execution_count": null,
   "metadata": {
    "application/vnd.databricks.v1+cell": {
     "cellMetadata": {
      "byteLimit": 2048000,
      "rowLimit": 10000
     },
     "inputWidgets": {},
     "nuid": "5fed2fe3-9d03-4f41-9536-92454b7e7c9b",
     "showTitle": false,
     "title": ""
    }
   },
   "outputs": [
    {
     "name": "stdout",
     "output_type": "stream",
     "text": [
      "Out[4]: [Row(data=Row(appid=10, categories=['Multi-player', 'Valve Anti-Cheat enabled', 'Online PvP', 'Shared/Split Screen PvP', 'PvP'], ccu=13990, developer='Valve', discount='0', genre='Action', header_image='https://cdn.akamai.steamstatic.com/steam/apps/10/header.jpg?t=1666823513', initialprice='999', languages='English, French, German, Italian, Spanish - Spain, Simplified Chinese, Traditional Chinese, Korean', name='Counter-Strike', negative=5199, owners='10,000,000 .. 20,000,000', platforms=Row(linux=True, mac=True, windows=True), positive=201215, price='999', publisher='Valve', release_date='2000/11/1', required_age='0', short_description=\"Play the world's number 1 online action game. Engage in an incredibly realistic brand of terrorist warfare in this wildly popular team-based game. Ally with teammates to complete strategic missions. Take out enemy sites. Rescue hostages. Your role affects your team's success. Your team's success affects your role.\", tags=Row(1980s=266, 1990's=1191, 2.5D=None, 2D=None, 2D Fighter=None, 2D Platformer=None, 360 Video=None, 3D=None, 3D Fighter=None, 3D Platformer=None, 3D Vision=None, 4 Player Local=None, 4X=None, 6DOF=None, 8-bit Music=None, ATV=None, Abstract=None, Action=5426, Action RPG=None, Action RTS=None, Action Roguelike=None, Action-Adventure=None, Addictive=None, Adventure=None, Agriculture=None, Aliens=None, Alternate History=None, Ambient=None, America=None, Animation & Modeling=None, Anime=None, Arcade=None, Archery=None, Arena Shooter=None, Artificial Intelligence=None, Assassin=227, Asymmetric VR=None, Asynchronous Multiplayer=None, Atmospheric=None, Audio Production=None, Auto Battler=None, Automation=None, Automobile Sim=None, BMX=None, Base-Building=None, Baseball=None, Based On A Novel=None, Basketball=None, Battle Royale=None, Beat 'em up=None, Beautiful=None, Benchmark=None, Bikes=None, Blood=None, Board Game=None, Boss Rush=None, Bowling=None, Boxing=None, Building=None, Bullet Hell=None, Bullet Time=None, CRPG=None, Capitalism=None, Card Battler=None, Card Game=None, Cartoon=None, Cartoony=None, Casual=None, Cats=None, Character Action Game=None, Character Customization=None, Chess=None, Choices Matter=None, Choose Your Own Adventure=None, Cinematic=None, City Builder=None, Class-Based=None, Classic=2784, Clicker=None, Co-op=None, Co-op Campaign=None, Coding=None, Cold War=None, Collectathon=None, Colony Sim=None, Colorful=None, Combat=None, Combat Racing=None, Comedy=None, Comic Book=None, Competitive=1607, Conspiracy=None, Controller=None, Conversation=None, Cooking=None, Cozy=None, Crafting=None, Creature Collector=None, Cricket=None, Crime=None, Crowdfunded=None, Cult Classic=None, Cute=None, Cyberpunk=None, Cycling=None, Dark=None, Dark Comedy=None, Dark Fantasy=None, Dark Humor=None, Dating Sim=None, Deckbuilding=None, Demons=None, Design & Illustration=None, Destruction=None, Detective=None, Difficult=None, Dinosaurs=None, Diplomacy=None, Documentary=None, Dog=None, Dragons=None, Drama=None, Driving=None, Dungeon Crawler=None, Dungeons & Dragons=None, Dynamic Narration=None, Dystopian =None, Early Access=None, Economy=None, Education=None, Electronic=None, Electronic Music=None, Emotional=None, Epic=None, Episodic=None, Escape Room=None, Experience=None, Experimental=None, Exploration=None, FMV=None, FPS=4831, Faith=None, Family Friendly=None, Fantasy=None, Farming=None, Farming Sim=None, Fast-Paced=None, Feature Film=None, Female Protagonist=None, Fighting=None, First-Person=1707, Fishing=None, Flight=None, Football=None, Foreign=None, Free to Play=None, Funny=None, Futuristic=None, Gambling=None, Game Development=None, GameMaker=None, Games Workshop=None, Gaming=None, God Game=None, Golf=None, Gore=None, Gothic=None, Grand Strategy=None, Great Soundtrack=None, Grid-Based Movement=None, Gun Customization=None, Hack and Slash=None, Hacking=None, Hand-drawn=None, Hardware=None, Heist=None, Hentai=None, Hero Shooter=None, Hex Grid=None, Hidden Object=None, Historical=None, Hockey=None, Horror=None, Horses=None, Hunting=None, Idler=None, Illuminati=None, Immersive=None, Immersive Sim=None, Indie=None, Instrumental Music=None, Intentionally Awkward Controls=None, Interactive Fiction=None, Inventory Management=None, Investigation=None, Isometric=None, JRPG=None, Jet=None, Job Simulator=None, Jump Scare=None, Kickstarter=None, LEGO=None, LGBTQ+=None, Lemmings=None, Level Editor=None, Life Sim=None, Linear=None, Local Co-Op=None, Local Multiplayer=None, Logic=None, Loot=None, Looter Shooter=None, Lore-Rich=None, Lovecraftian=None, MMORPG=None, MOBA=None, Magic=None, Mahjong=None, Management=None, Mars=None, Martial Arts=None, Massively Multiplayer=None, Masterpiece=None, Match 3=None, Mature=None, Mechs=None, Medical Sim=None, Medieval=None, Memes=None, Metroidvania=None, Military=632, Mini Golf=None, Minigames=None, Minimalist=None, Mining=None, Mod=None, Moddable=None, Modern=None, Motocross=None, Motorbike=None, Mouse only=None, Movie=None, Multiplayer=3392, Multiple Endings=None, Music=None, Music-Based Procedural Generation=None, Musou=None, Mystery=None, Mystery Dungeon=None, Mythology=None, NSFW=None, Narration=None, Narrative=None, Nature=None, Naval=None, Naval Combat=None, Ninja=None, Noir=None, Nonlinear=None, Nostalgia=131, Nudity=None, Offroad=None, Old School=769, On-Rails Shooter=None, Online Co-Op=None, Open World=None, Open World Survival Craft=None, Otome=None, Outbreak Sim=None, Parkour=None, Parody =None, Party=None, Party Game=None, Party-Based RPG=None, Perma Death=None, Philosophical=None, Photo Editing=None, Physics=None, Pinball=None, Pirates=None, Pixel Graphics=None, Platformer=None, Point & Click=None, Political=None, Political Sim=None, Politics=None, Pool=None, Post-apocalyptic=None, Precision Platformer=None, Procedural Generation=None, Programming=None, Psychedelic=None, Psychological=None, Psychological Horror=None, Puzzle=None, Puzzle-Platformer=None, PvE=None, PvP=881, Quick-Time Events=None, RPG=None, RPGMaker=None, RTS=None, Racing=None, Real Time Tactics=None, Real-Time=None, Real-Time with Pause=None, Realistic=None, Reboot=None, Relaxing=None, Remake=None, Replay Value=None, Resource Management=None, Retro=None, Rhythm=None, Robots=None, Rock Music=None, Rogue-like=None, Rogue-lite=None, Roguelike Deckbuilder=None, Roguevania=None, Romance=None, Rome=None, Rugby=None, Runner=None, Sailing=None, Sandbox=None, Satire=None, Sci-fi=None, Science=None, Score Attack=289, Sequel=None, Sexual Content=None, Shoot 'Em Up=None, Shooter=3353, Shop Keeper=None, Short=None, Side Scroller=None, Silent Protagonist=None, Simulation=None, Singleplayer=None, Skateboarding=None, Skating=None, Skiing=None, Sniper=None, Snooker=None, Snow=None, Snowboarding=None, Soccer=None, Social Deduction=None, Software=None, Software Training=None, Sokoban=None, Solitaire=None, Souls-like=None, Soundtrack=None, Space=None, Space Sim=None, Spaceships=None, Spectacle fighter=None, Spelling=None, Split Screen=None, Sports=None, Stealth=None, Steam Machine=None, Steampunk=None, Story Rich=None, Strategy=614, Strategy RPG=None, Stylized=None, Submarine=None, Superhero=None, Supernatural=None, Surreal=None, Survival=304, Survival Horror=None, Swordplay=None, Tabletop=None, Tactical=1344, Tactical RPG=None, Tanks=None, Team-Based=1864, Tennis=None, Text-Based=None, Third Person=None, Third-Person Shooter=None, Thriller=None, Tile-Matching=None, Time Attack=None, Time Management=None, Time Manipulation=None, Time Travel=None, Top-Down=None, Top-Down Shooter=None, Touch-Friendly=None, Tower Defense=None, TrackIR=None, Trading=None, Trading Card Game=None, Traditional Roguelike=None, Trains=None, Transhumanism=None, Transportation=None, Trivia=None, Turn-Based=None, Turn-Based Combat=None, Turn-Based Strategy=None, Turn-Based Tactics=None, Tutorial=None, Twin Stick Shooter=None, Typing=None, Underground=None, Underwater=None, Unforgiving=None, Utilities=None, VR=None, VR Only=None, Vampire=None, Vehicular Combat=None, Video Production=None, Vikings=None, Villain Protagonist=None, Violent=None, Visual Novel=None, Voice Control=None, Volleyball=None, Voxel=None, Walking Simulator=None, War=None, Wargame=None, Warhammer 40K=None, Web Publishing=None, Well-Written=None, Werewolves=None, Western=None, Wholesome=None, Word Game=None, World War I=None, World War II=None, Wrestling=None, Zombies=None, e-sports=1192), type='game', website=''), id='10')]"
     ]
    }
   ],
   "source": [
    "# show one sample\n",
    "df.take(1)"
   ]
  },
  {
   "cell_type": "code",
   "execution_count": null,
   "metadata": {
    "application/vnd.databricks.v1+cell": {
     "cellMetadata": {
      "byteLimit": 2048000,
      "rowLimit": 10000
     },
     "inputWidgets": {},
     "nuid": "c9e573df-fb44-4a68-b0d0-51cc2a12b022",
     "showTitle": false,
     "title": ""
    }
   },
   "outputs": [
    {
     "name": "stdout",
     "output_type": "stream",
     "text": [
      "Out[5]: pyspark.sql.dataframe.DataFrame"
     ]
    }
   ],
   "source": [
    "type(df)"
   ]
  },
  {
   "cell_type": "code",
   "execution_count": null,
   "metadata": {
    "application/vnd.databricks.v1+cell": {
     "cellMetadata": {
      "byteLimit": 2048000,
      "rowLimit": 10000
     },
     "inputWidgets": {},
     "nuid": "1822d469-4ba7-48b2-96a2-abec0c211487",
     "showTitle": false,
     "title": ""
    }
   },
   "outputs": [
    {
     "name": "stdout",
     "output_type": "stream",
     "text": [
      "Out[6]: 55691"
     ]
    }
   ],
   "source": [
    "# length of dataframe\n",
    "df.count()"
   ]
  },
  {
   "cell_type": "markdown",
   "metadata": {
    "application/vnd.databricks.v1+cell": {
     "cellMetadata": {
      "byteLimit": 2048000,
      "rowLimit": 10000
     },
     "inputWidgets": {},
     "nuid": "d35b64bb-1e1f-452f-bddd-52e1a9c4fd92",
     "showTitle": false,
     "title": ""
    }
   },
   "source": [
    "## Exploratory Data Analysis"
   ]
  },
  {
   "cell_type": "markdown",
   "metadata": {
    "application/vnd.databricks.v1+cell": {
     "cellMetadata": {
      "byteLimit": 2048000,
      "rowLimit": 10000
     },
     "inputWidgets": {},
     "nuid": "21ab6bbb-3e4f-457e-a9b0-450d712ec2a0",
     "showTitle": false,
     "title": ""
    }
   },
   "source": [
    "### Macro-Level Analysis\n",
    " - Which publisher has released the most games on Steam?\n",
    "\n",
    "  - What are the best rated games?\n",
    "\n",
    "  - Are there years with more releases? Were there more or fewer game releases during the Covid, for example?\n",
    "\n",
    "  - How are the prizes distributed? Are there many games with a discount?\n",
    "\n",
    "  - What are the most represented languages?\n",
    "\n",
    "  - Are there many games prohibited for children under 16/18?"
   ]
  },
  {
   "cell_type": "code",
   "execution_count": null,
   "metadata": {
    "application/vnd.databricks.v1+cell": {
     "cellMetadata": {
      "byteLimit": 2048000,
      "rowLimit": 10000
     },
     "inputWidgets": {},
     "nuid": "b575a2cd-b05c-4eec-ac6d-429391efeeca",
     "showTitle": false,
     "title": ""
    }
   },
   "outputs": [
    {
     "name": "stdout",
     "output_type": "stream",
     "text": [
      "root\n",
      " |-- data: struct (nullable = true)\n",
      " |    |-- appid: long (nullable = true)\n",
      " |    |-- categories: array (nullable = true)\n",
      " |    |    |-- element: string (containsNull = true)\n",
      " |    |-- ccu: long (nullable = true)\n",
      " |    |-- developer: string (nullable = true)\n",
      " |    |-- discount: string (nullable = true)\n",
      " |    |-- genre: string (nullable = true)\n",
      " |    |-- header_image: string (nullable = true)\n",
      " |    |-- initialprice: string (nullable = true)\n",
      " |    |-- languages: string (nullable = true)\n",
      " |    |-- name: string (nullable = true)\n",
      " |    |-- negative: long (nullable = true)\n",
      " |    |-- owners: string (nullable = true)\n",
      " |    |-- platforms: struct (nullable = true)\n",
      " |    |    |-- linux: boolean (nullable = true)\n",
      " |    |    |-- mac: boolean (nullable = true)\n",
      " |    |    |-- windows: boolean (nullable = true)\n",
      " |    |-- positive: long (nullable = true)\n",
      " |    |-- price: string (nullable = true)\n",
      " |    |-- publisher: string (nullable = true)\n",
      " |    |-- release_date: string (nullable = true)\n",
      " |    |-- required_age: string (nullable = true)\n",
      " |    |-- short_description: string (nullable = true)\n",
      " |    |-- tags: struct (nullable = true)\n",
      " |    |    |-- 1980s: long (nullable = true)\n",
      " |    |    |-- 1990's: long (nullable = true)\n",
      " |    |    |-- 2.5D: long (nullable = true)\n",
      " |    |    |-- 2D: long (nullable = true)\n",
      " |    |    |-- 2D Fighter: long (nullable = true)\n",
      " |    |    |-- 2D Platformer: long (nullable = true)\n",
      " |    |    |-- 360 Video: long (nullable = true)\n",
      " |    |    |-- 3D: long (nullable = true)\n",
      " |    |    |-- 3D Fighter: long (nullable = true)\n",
      " |    |    |-- 3D Platformer: long (nullable = true)\n",
      " |    |    |-- 3D Vision: long (nullable = true)\n",
      " |    |    |-- 4 Player Local: long (nullable = true)\n",
      " |    |    |-- 4X: long (nullable = true)\n",
      " |    |    |-- 6DOF: long (nullable = true)\n",
      " |    |    |-- 8-bit Music: long (nullable = true)\n",
      " |    |    |-- ATV: long (nullable = true)\n",
      " |    |    |-- Abstract: long (nullable = true)\n",
      " |    |    |-- Action: long (nullable = true)\n",
      " |    |    |-- Action RPG: long (nullable = true)\n",
      " |    |    |-- Action RTS: long (nullable = true)\n",
      " |    |    |-- Action Roguelike: long (nullable = true)\n",
      " |    |    |-- Action-Adventure: long (nullable = true)\n",
      " |    |    |-- Addictive: long (nullable = true)\n",
      " |    |    |-- Adventure: long (nullable = true)\n",
      " |    |    |-- Agriculture: long (nullable = true)\n",
      " |    |    |-- Aliens: long (nullable = true)\n",
      " |    |    |-- Alternate History: long (nullable = true)\n",
      " |    |    |-- Ambient: long (nullable = true)\n",
      " |    |    |-- America: long (nullable = true)\n",
      " |    |    |-- Animation & Modeling: long (nullable = true)\n",
      " |    |    |-- Anime: long (nullable = true)\n",
      " |    |    |-- Arcade: long (nullable = true)\n",
      " |    |    |-- Archery: long (nullable = true)\n",
      " |    |    |-- Arena Shooter: long (nullable = true)\n",
      " |    |    |-- Artificial Intelligence: long (nullable = true)\n",
      " |    |    |-- Assassin: long (nullable = true)\n",
      " |    |    |-- Asymmetric VR: long (nullable = true)\n",
      " |    |    |-- Asynchronous Multiplayer: long (nullable = true)\n",
      " |    |    |-- Atmospheric: long (nullable = true)\n",
      " |    |    |-- Audio Production: long (nullable = true)\n",
      " |    |    |-- Auto Battler: long (nullable = true)\n",
      " |    |    |-- Automation: long (nullable = true)\n",
      " |    |    |-- Automobile Sim: long (nullable = true)\n",
      " |    |    |-- BMX: long (nullable = true)\n",
      " |    |    |-- Base-Building: long (nullable = true)\n",
      " |    |    |-- Baseball: long (nullable = true)\n",
      " |    |    |-- Based On A Novel: long (nullable = true)\n",
      " |    |    |-- Basketball: long (nullable = true)\n",
      " |    |    |-- Battle Royale: long (nullable = true)\n",
      " |    |    |-- Beat 'em up: long (nullable = true)\n",
      " |    |    |-- Beautiful: long (nullable = true)\n",
      " |    |    |-- Benchmark: long (nullable = true)\n",
      " |    |    |-- Bikes: long (nullable = true)\n",
      " |    |    |-- Blood: long (nullable = true)\n",
      " |    |    |-- Board Game: long (nullable = true)\n",
      " |    |    |-- Boss Rush: long (nullable = true)\n",
      " |    |    |-- Bowling: long (nullable = true)\n",
      " |    |    |-- Boxing: long (nullable = true)\n",
      " |    |    |-- Building: long (nullable = true)\n",
      " |    |    |-- Bullet Hell: long (nullable = true)\n",
      " |    |    |-- Bullet Time: long (nullable = true)\n",
      " |    |    |-- CRPG: long (nullable = true)\n",
      " |    |    |-- Capitalism: long (nullable = true)\n",
      " |    |    |-- Card Battler: long (nullable = true)\n",
      " |    |    |-- Card Game: long (nullable = true)\n",
      " |    |    |-- Cartoon: long (nullable = true)\n",
      " |    |    |-- Cartoony: long (nullable = true)\n",
      " |    |    |-- Casual: long (nullable = true)\n",
      " |    |    |-- Cats: long (nullable = true)\n",
      " |    |    |-- Character Action Game: long (nullable = true)\n",
      " |    |    |-- Character Customization: long (nullable = true)\n",
      " |    |    |-- Chess: long (nullable = true)\n",
      " |    |    |-- Choices Matter: long (nullable = true)\n",
      " |    |    |-- Choose Your Own Adventure: long (nullable = true)\n",
      " |    |    |-- Cinematic: long (nullable = true)\n",
      " |    |    |-- City Builder: long (nullable = true)\n",
      " |    |    |-- Class-Based: long (nullable = true)\n",
      " |    |    |-- Classic: long (nullable = true)\n",
      " |    |    |-- Clicker: long (nullable = true)\n",
      " |    |    |-- Co-op: long (nullable = true)\n",
      " |    |    |-- Co-op Campaign: long (nullable = true)\n",
      " |    |    |-- Coding: long (nullable = true)\n",
      " |    |    |-- Cold War: long (nullable = true)\n",
      " |    |    |-- Collectathon: long (nullable = true)\n",
      " |    |    |-- Colony Sim: long (nullable = true)\n",
      " |    |    |-- Colorful: long (nullable = true)\n",
      " |    |    |-- Combat: long (nullable = true)\n",
      " |    |    |-- Combat Racing: long (nullable = true)\n",
      " |    |    |-- Comedy: long (nullable = true)\n",
      " |    |    |-- Comic Book: long (nullable = true)\n",
      " |    |    |-- Competitive: long (nullable = true)\n",
      " |    |    |-- Conspiracy: long (nullable = true)\n",
      " |    |    |-- Controller: long (nullable = true)\n",
      " |    |    |-- Conversation: long (nullable = true)\n",
      " |    |    |-- Cooking: long (nullable = true)\n",
      " |    |    |-- Cozy: long (nullable = true)\n",
      " |    |    |-- Crafting: long (nullable = true)\n",
      " |    |    |-- Creature Collector: long (nullable = true)\n",
      " |    |    |-- Cricket: long (nullable = true)\n",
      " |    |    |-- Crime: long (nullable = true)\n",
      " |    |    |-- Crowdfunded: long (nullable = true)\n",
      " |    |    |-- Cult Classic: long (nullable = true)\n",
      " |    |    |-- Cute: long (nullable = true)\n",
      " |    |    |-- Cyberpunk: long (nullable = true)\n",
      " |    |    |-- Cycling: long (nullable = true)\n",
      " |    |    |-- Dark: long (nullable = true)\n",
      " |    |    |-- Dark Comedy: long (nullable = true)\n",
      " |    |    |-- Dark Fantasy: long (nullable = true)\n",
      " |    |    |-- Dark Humor: long (nullable = true)\n",
      " |    |    |-- Dating Sim: long (nullable = true)\n",
      " |    |    |-- Deckbuilding: long (nullable = true)\n",
      " |    |    |-- Demons: long (nullable = true)\n",
      " |    |    |-- Design & Illustration: long (nullable = true)\n",
      " |    |    |-- Destruction: long (nullable = true)\n",
      " |    |    |-- Detective: long (nullable = true)\n",
      " |    |    |-- Difficult: long (nullable = true)\n",
      " |    |    |-- Dinosaurs: long (nullable = true)\n",
      " |    |    |-- Diplomacy: long (nullable = true)\n",
      " |    |    |-- Documentary: long (nullable = true)\n",
      " |    |    |-- Dog: long (nullable = true)\n",
      " |    |    |-- Dragons: long (nullable = true)\n",
      " |    |    |-- Drama: long (nullable = true)\n",
      " |    |    |-- Driving: long (nullable = true)\n",
      " |    |    |-- Dungeon Crawler: long (nullable = true)\n",
      " |    |    |-- Dungeons & Dragons: long (nullable = true)\n",
      " |    |    |-- Dynamic Narration: long (nullable = true)\n",
      " |    |    |-- Dystopian : long (nullable = true)\n",
      " |    |    |-- Early Access: long (nullable = true)\n",
      " |    |    |-- Economy: long (nullable = true)\n",
      " |    |    |-- Education: long (nullable = true)\n",
      " |    |    |-- Electronic: long (nullable = true)\n",
      " |    |    |-- Electronic Music: long (nullable = true)\n",
      " |    |    |-- Emotional: long (nullable = true)\n",
      " |    |    |-- Epic: long (nullable = true)\n",
      " |    |    |-- Episodic: long (nullable = true)\n",
      " |    |    |-- Escape Room: long (nullable = true)\n",
      " |    |    |-- Experience: long (nullable = true)\n",
      " |    |    |-- Experimental: long (nullable = true)\n",
      " |    |    |-- Exploration: long (nullable = true)\n",
      " |    |    |-- FMV: long (nullable = true)\n",
      " |    |    |-- FPS: long (nullable = true)\n",
      " |    |    |-- Faith: long (nullable = true)\n",
      " |    |    |-- Family Friendly: long (nullable = true)\n",
      " |    |    |-- Fantasy: long (nullable = true)\n",
      " |    |    |-- Farming: long (nullable = true)\n",
      " |    |    |-- Farming Sim: long (nullable = true)\n",
      " |    |    |-- Fast-Paced: long (nullable = true)\n",
      " |    |    |-- Feature Film: long (nullable = true)\n",
      " |    |    |-- Female Protagonist: long (nullable = true)\n",
      " |    |    |-- Fighting: long (nullable = true)\n",
      " |    |    |-- First-Person: long (nullable = true)\n",
      " |    |    |-- Fishing: long (nullable = true)\n",
      " |    |    |-- Flight: long (nullable = true)\n",
      " |    |    |-- Football: long (nullable = true)\n",
      " |    |    |-- Foreign: long (nullable = true)\n",
      " |    |    |-- Free to Play: long (nullable = true)\n",
      " |    |    |-- Funny: long (nullable = true)\n",
      " |    |    |-- Futuristic: long (nullable = true)\n",
      " |    |    |-- Gambling: long (nullable = true)\n",
      " |    |    |-- Game Development: long (nullable = true)\n",
      " |    |    |-- GameMaker: long (nullable = true)\n",
      " |    |    |-- Games Workshop: long (nullable = true)\n",
      " |    |    |-- Gaming: long (nullable = true)\n",
      " |    |    |-- God Game: long (nullable = true)\n",
      " |    |    |-- Golf: long (nullable = true)\n",
      " |    |    |-- Gore: long (nullable = true)\n",
      " |    |    |-- Gothic: long (nullable = true)\n",
      " |    |    |-- Grand Strategy: long (nullable = true)\n",
      " |    |    |-- Great Soundtrack: long (nullable = true)\n",
      " |    |    |-- Grid-Based Movement: long (nullable = true)\n",
      " |    |    |-- Gun Customization: long (nullable = true)\n",
      " |    |    |-- Hack and Slash: long (nullable = true)\n",
      " |    |    |-- Hacking: long (nullable = true)\n",
      " |    |    |-- Hand-drawn: long (nullable = true)\n",
      " |    |    |-- Hardware: long (nullable = true)\n",
      " |    |    |-- Heist: long (nullable = true)\n",
      " |    |    |-- Hentai: long (nullable = true)\n",
      " |    |    |-- Hero Shooter: long (nullable = true)\n",
      " |    |    |-- Hex Grid: long (nullable = true)\n",
      " |    |    |-- Hidden Object: long (nullable = true)\n",
      " |    |    |-- Historical: long (nullable = true)\n",
      " |    |    |-- Hockey: long (nullable = true)\n",
      " |    |    |-- Horror: long (nullable = true)\n",
      " |    |    |-- Horses: long (nullable = true)\n",
      " |    |    |-- Hunting: long (nullable = true)\n",
      " |    |    |-- Idler: long (nullable = true)\n",
      " |    |    |-- Illuminati: long (nullable = true)\n",
      " |    |    |-- Immersive: long (nullable = true)\n",
      " |    |    |-- Immersive Sim: long (nullable = true)\n",
      " |    |    |-- Indie: long (nullable = true)\n",
      " |    |    |-- Instrumental Music: long (nullable = true)\n",
      " |    |    |-- Intentionally Awkward Controls: long (nullable = true)\n",
      " |    |    |-- Interactive Fiction: long (nullable = true)\n",
      " |    |    |-- Inventory Management: long (nullable = true)\n",
      " |    |    |-- Investigation: long (nullable = true)\n",
      " |    |    |-- Isometric: long (nullable = true)\n",
      " |    |    |-- JRPG: long (nullable = true)\n",
      " |    |    |-- Jet: long (nullable = true)\n",
      " |    |    |-- Job Simulator: long (nullable = true)\n",
      " |    |    |-- Jump Scare: long (nullable = true)\n",
      " |    |    |-- Kickstarter: long (nullable = true)\n",
      " |    |    |-- LEGO: long (nullable = true)\n",
      " |    |    |-- LGBTQ+: long (nullable = true)\n",
      " |    |    |-- Lemmings: long (nullable = true)\n",
      " |    |    |-- Level Editor: long (nullable = true)\n",
      " |    |    |-- Life Sim: long (nullable = true)\n",
      " |    |    |-- Linear: long (nullable = true)\n",
      " |    |    |-- Local Co-Op: long (nullable = true)\n",
      " |    |    |-- Local Multiplayer: long (nullable = true)\n",
      " |    |    |-- Logic: long (nullable = true)\n",
      " |    |    |-- Loot: long (nullable = true)\n",
      " |    |    |-- Looter Shooter: long (nullable = true)\n",
      " |    |    |-- Lore-Rich: long (nullable = true)\n",
      " |    |    |-- Lovecraftian: long (nullable = true)\n",
      " |    |    |-- MMORPG: long (nullable = true)\n",
      " |    |    |-- MOBA: long (nullable = true)\n",
      " |    |    |-- Magic: long (nullable = true)\n",
      " |    |    |-- Mahjong: long (nullable = true)\n",
      " |    |    |-- Management: long (nullable = true)\n",
      " |    |    |-- Mars: long (nullable = true)\n",
      " |    |    |-- Martial Arts: long (nullable = true)\n",
      " |    |    |-- Massively Multiplayer: long (nullable = true)\n",
      " |    |    |-- Masterpiece: long (nullable = true)\n",
      " |    |    |-- Match 3: long (nullable = true)\n",
      " |    |    |-- Mature: long (nullable = true)\n",
      " |    |    |-- Mechs: long (nullable = true)\n",
      " |    |    |-- Medical Sim: long (nullable = true)\n",
      " |    |    |-- Medieval: long (nullable = true)\n",
      " |    |    |-- Memes: long (nullable = true)\n",
      " |    |    |-- Metroidvania: long (nullable = true)\n",
      " |    |    |-- Military: long (nullable = true)\n",
      " |    |    |-- Mini Golf: long (nullable = true)\n",
      " |    |    |-- Minigames: long (nullable = true)\n",
      " |    |    |-- Minimalist: long (nullable = true)\n",
      " |    |    |-- Mining: long (nullable = true)\n",
      " |    |    |-- Mod: long (nullable = true)\n",
      " |    |    |-- Moddable: long (nullable = true)\n",
      " |    |    |-- Modern: long (nullable = true)\n",
      " |    |    |-- Motocross: long (nullable = true)\n",
      " |    |    |-- Motorbike: long (nullable = true)\n",
      " |    |    |-- Mouse only: long (nullable = true)\n",
      " |    |    |-- Movie: long (nullable = true)\n",
      " |    |    |-- Multiplayer: long (nullable = true)\n",
      " |    |    |-- Multiple Endings: long (nullable = true)\n",
      " |    |    |-- Music: long (nullable = true)\n",
      " |    |    |-- Music-Based Procedural Generation: long (nullable = true)\n",
      " |    |    |-- Musou: long (nullable = true)\n",
      " |    |    |-- Mystery: long (nullable = true)\n",
      " |    |    |-- Mystery Dungeon: long (nullable = true)\n",
      " |    |    |-- Mythology: long (nullable = true)\n",
      " |    |    |-- NSFW: long (nullable = true)\n",
      " |    |    |-- Narration: long (nullable = true)\n",
      " |    |    |-- Narrative: long (nullable = true)\n",
      " |    |    |-- Nature: long (nullable = true)\n",
      " |    |    |-- Naval: long (nullable = true)\n",
      " |    |    |-- Naval Combat: long (nullable = true)\n",
      " |    |    |-- Ninja: long (nullable = true)\n",
      " |    |    |-- Noir: long (nullable = true)\n",
      " |    |    |-- Nonlinear: long (nullable = true)\n",
      " |    |    |-- Nostalgia: long (nullable = true)\n",
      " |    |    |-- Nudity: long (nullable = true)\n",
      " |    |    |-- Offroad: long (nullable = true)\n",
      " |    |    |-- Old School: long (nullable = true)\n",
      " |    |    |-- On-Rails Shooter: long (nullable = true)\n",
      " |    |    |-- Online Co-Op: long (nullable = true)\n",
      " |    |    |-- Open World: long (nullable = true)\n",
      " |    |    |-- Open World Survival Craft: long (nullable = true)\n",
      " |    |    |-- Otome: long (nullable = true)\n",
      " |    |    |-- Outbreak Sim: long (nullable = true)\n",
      " |    |    |-- Parkour: long (nullable = true)\n",
      " |    |    |-- Parody : long (nullable = true)\n",
      " |    |    |-- Party: long (nullable = true)\n",
      " |    |    |-- Party Game: long (nullable = true)\n",
      " |    |    |-- Party-Based RPG: long (nullable = true)\n",
      " |    |    |-- Perma Death: long (nullable = true)\n",
      " |    |    |-- Philosophical: long (nullable = true)\n",
      " |    |    |-- Photo Editing: long (nullable = true)\n",
      " |    |    |-- Physics: long (nullable = true)\n",
      " |    |    |-- Pinball: long (nullable = true)\n",
      " |    |    |-- Pirates: long (nullable = true)\n",
      " |    |    |-- Pixel Graphics: long (nullable = true)\n",
      " |    |    |-- Platformer: long (nullable = true)\n",
      " |    |    |-- Point & Click: long (nullable = true)\n",
      " |    |    |-- Political: long (nullable = true)\n",
      " |    |    |-- Political Sim: long (nullable = true)\n",
      " |    |    |-- Politics: long (nullable = true)\n",
      " |    |    |-- Pool: long (nullable = true)\n",
      " |    |    |-- Post-apocalyptic: long (nullable = true)\n",
      " |    |    |-- Precision Platformer: long (nullable = true)\n",
      " |    |    |-- Procedural Generation: long (nullable = true)\n",
      " |    |    |-- Programming: long (nullable = true)\n",
      " |    |    |-- Psychedelic: long (nullable = true)\n",
      " |    |    |-- Psychological: long (nullable = true)\n",
      " |    |    |-- Psychological Horror: long (nullable = true)\n",
      " |    |    |-- Puzzle: long (nullable = true)\n",
      " |    |    |-- Puzzle-Platformer: long (nullable = true)\n",
      " |    |    |-- PvE: long (nullable = true)\n",
      " |    |    |-- PvP: long (nullable = true)\n",
      " |    |    |-- Quick-Time Events: long (nullable = true)\n",
      " |    |    |-- RPG: long (nullable = true)\n",
      " |    |    |-- RPGMaker: long (nullable = true)\n",
      " |    |    |-- RTS: long (nullable = true)\n",
      " |    |    |-- Racing: long (nullable = true)\n",
      " |    |    |-- Real Time Tactics: long (nullable = true)\n",
      " |    |    |-- Real-Time: long (nullable = true)\n",
      " |    |    |-- Real-Time with Pause: long (nullable = true)\n",
      " |    |    |-- Realistic: long (nullable = true)\n",
      " |    |    |-- Reboot: long (nullable = true)\n",
      " |    |    |-- Relaxing: long (nullable = true)\n",
      " |    |    |-- Remake: long (nullable = true)\n",
      " |    |    |-- Replay Value: long (nullable = true)\n",
      " |    |    |-- Resource Management: long (nullable = true)\n",
      " |    |    |-- Retro: long (nullable = true)\n",
      " |    |    |-- Rhythm: long (nullable = true)\n",
      " |    |    |-- Robots: long (nullable = true)\n",
      " |    |    |-- Rock Music: long (nullable = true)\n",
      " |    |    |-- Rogue-like: long (nullable = true)\n",
      " |    |    |-- Rogue-lite: long (nullable = true)\n",
      " |    |    |-- Roguelike Deckbuilder: long (nullable = true)\n",
      " |    |    |-- Roguevania: long (nullable = true)\n",
      " |    |    |-- Romance: long (nullable = true)\n",
      " |    |    |-- Rome: long (nullable = true)\n",
      " |    |    |-- Rugby: long (nullable = true)\n",
      " |    |    |-- Runner: long (nullable = true)\n",
      " |    |    |-- Sailing: long (nullable = true)\n",
      " |    |    |-- Sandbox: long (nullable = true)\n",
      " |    |    |-- Satire: long (nullable = true)\n",
      " |    |    |-- Sci-fi: long (nullable = true)\n",
      " |    |    |-- Science: long (nullable = true)\n",
      " |    |    |-- Score Attack: long (nullable = true)\n",
      " |    |    |-- Sequel: long (nullable = true)\n",
      " |    |    |-- Sexual Content: long (nullable = true)\n",
      " |    |    |-- Shoot 'Em Up: long (nullable = true)\n",
      " |    |    |-- Shooter: long (nullable = true)\n",
      " |    |    |-- Shop Keeper: long (nullable = true)\n",
      " |    |    |-- Short: long (nullable = true)\n",
      " |    |    |-- Side Scroller: long (nullable = true)\n",
      " |    |    |-- Silent Protagonist: long (nullable = true)\n",
      " |    |    |-- Simulation: long (nullable = true)\n",
      " |    |    |-- Singleplayer: long (nullable = true)\n",
      " |    |    |-- Skateboarding: long (nullable = true)\n",
      " |    |    |-- Skating: long (nullable = true)\n",
      " |    |    |-- Skiing: long (nullable = true)\n",
      " |    |    |-- Sniper: long (nullable = true)\n",
      " |    |    |-- Snooker: long (nullable = true)\n",
      " |    |    |-- Snow: long (nullable = true)\n",
      " |    |    |-- Snowboarding: long (nullable = true)\n",
      " |    |    |-- Soccer: long (nullable = true)\n",
      " |    |    |-- Social Deduction: long (nullable = true)\n",
      " |    |    |-- Software: long (nullable = true)\n",
      " |    |    |-- Software Training: long (nullable = true)\n",
      " |    |    |-- Sokoban: long (nullable = true)\n",
      " |    |    |-- Solitaire: long (nullable = true)\n",
      " |    |    |-- Souls-like: long (nullable = true)\n",
      " |    |    |-- Soundtrack: long (nullable = true)\n",
      " |    |    |-- Space: long (nullable = true)\n",
      " |    |    |-- Space Sim: long (nullable = true)\n",
      " |    |    |-- Spaceships: long (nullable = true)\n",
      " |    |    |-- Spectacle fighter: long (nullable = true)\n",
      " |    |    |-- Spelling: long (nullable = true)\n",
      " |    |    |-- Split Screen: long (nullable = true)\n",
      " |    |    |-- Sports: long (nullable = true)\n",
      " |    |    |-- Stealth: long (nullable = true)\n",
      " |    |    |-- Steam Machine: long (nullable = true)\n",
      " |    |    |-- Steampunk: long (nullable = true)\n",
      " |    |    |-- Story Rich: long (nullable = true)\n",
      " |    |    |-- Strategy: long (nullable = true)\n",
      " |    |    |-- Strategy RPG: long (nullable = true)\n",
      " |    |    |-- Stylized: long (nullable = true)\n",
      " |    |    |-- Submarine: long (nullable = true)\n",
      " |    |    |-- Superhero: long (nullable = true)\n",
      " |    |    |-- Supernatural: long (nullable = true)\n",
      " |    |    |-- Surreal: long (nullable = true)\n",
      " |    |    |-- Survival: long (nullable = true)\n",
      " |    |    |-- Survival Horror: long (nullable = true)\n",
      " |    |    |-- Swordplay: long (nullable = true)\n",
      " |    |    |-- Tabletop: long (nullable = true)\n",
      " |    |    |-- Tactical: long (nullable = true)\n",
      " |    |    |-- Tactical RPG: long (nullable = true)\n",
      " |    |    |-- Tanks: long (nullable = true)\n",
      " |    |    |-- Team-Based: long (nullable = true)\n",
      " |    |    |-- Tennis: long (nullable = true)\n",
      " |    |    |-- Text-Based: long (nullable = true)\n",
      " |    |    |-- Third Person: long (nullable = true)\n",
      " |    |    |-- Third-Person Shooter: long (nullable = true)\n",
      " |    |    |-- Thriller: long (nullable = true)\n",
      " |    |    |-- Tile-Matching: long (nullable = true)\n",
      " |    |    |-- Time Attack: long (nullable = true)\n",
      " |    |    |-- Time Management: long (nullable = true)\n",
      " |    |    |-- Time Manipulation: long (nullable = true)\n",
      " |    |    |-- Time Travel: long (nullable = true)\n",
      " |    |    |-- Top-Down: long (nullable = true)\n",
      " |    |    |-- Top-Down Shooter: long (nullable = true)\n",
      " |    |    |-- Touch-Friendly: long (nullable = true)\n",
      " |    |    |-- Tower Defense: long (nullable = true)\n",
      " |    |    |-- TrackIR: long (nullable = true)\n",
      " |    |    |-- Trading: long (nullable = true)\n",
      " |    |    |-- Trading Card Game: long (nullable = true)\n",
      " |    |    |-- Traditional Roguelike: long (nullable = true)\n",
      " |    |    |-- Trains: long (nullable = true)\n",
      " |    |    |-- Transhumanism: long (nullable = true)\n",
      " |    |    |-- Transportation: long (nullable = true)\n",
      " |    |    |-- Trivia: long (nullable = true)\n",
      " |    |    |-- Turn-Based: long (nullable = true)\n",
      " |    |    |-- Turn-Based Combat: long (nullable = true)\n",
      " |    |    |-- Turn-Based Strategy: long (nullable = true)\n",
      " |    |    |-- Turn-Based Tactics: long (nullable = true)\n",
      " |    |    |-- Tutorial: long (nullable = true)\n",
      " |    |    |-- Twin Stick Shooter: long (nullable = true)\n",
      " |    |    |-- Typing: long (nullable = true)\n",
      " |    |    |-- Underground: long (nullable = true)\n",
      " |    |    |-- Underwater: long (nullable = true)\n",
      " |    |    |-- Unforgiving: long (nullable = true)\n",
      " |    |    |-- Utilities: long (nullable = true)\n",
      " |    |    |-- VR: long (nullable = true)\n",
      " |    |    |-- VR Only: long (nullable = true)\n",
      " |    |    |-- Vampire: long (nullable = true)\n",
      " |    |    |-- Vehicular Combat: long (nullable = true)\n",
      " |    |    |-- Video Production: long (nullable = true)\n",
      " |    |    |-- Vikings: long (nullable = true)\n",
      " |    |    |-- Villain Protagonist: long (nullable = true)\n",
      " |    |    |-- Violent: long (nullable = true)\n",
      " |    |    |-- Visual Novel: long (nullable = true)\n",
      " |    |    |-- Voice Control: long (nullable = true)\n",
      " |    |    |-- Volleyball: long (nullable = true)\n",
      " |    |    |-- Voxel: long (nullable = true)\n",
      " |    |    |-- Walking Simulator: long (nullable = true)\n",
      " |    |    |-- War: long (nullable = true)\n",
      " |    |    |-- Wargame: long (nullable = true)\n",
      " |    |    |-- Warhammer 40K: long (nullable = true)\n",
      " |    |    |-- Web Publishing: long (nullable = true)\n",
      " |    |    |-- Well-Written: long (nullable = true)\n",
      " |    |    |-- Werewolves: long (nullable = true)\n",
      " |    |    |-- Western: long (nullable = true)\n",
      " |    |    |-- Wholesome: long (nullable = true)\n",
      " |    |    |-- Word Game: long (nullable = true)\n",
      " |    |    |-- World War I: long (nullable = true)\n",
      " |    |    |-- World War II: long (nullable = true)\n",
      " |    |    |-- Wrestling: long (nullable = true)\n",
      " |    |    |-- Zombies: long (nullable = true)\n",
      " |    |    |-- e-sports: long (nullable = true)\n",
      " |    |-- type: string (nullable = true)\n",
      " |    |-- website: string (nullable = true)\n",
      " |-- id: string (nullable = true)\n",
      "\n"
     ]
    }
   ],
   "source": [
    "df.printSchema()"
   ]
  },
  {
   "cell_type": "markdown",
   "metadata": {
    "application/vnd.databricks.v1+cell": {
     "cellMetadata": {
      "byteLimit": 2048000,
      "rowLimit": 10000
     },
     "inputWidgets": {},
     "nuid": "9531bdcb-d1a5-41f8-bffd-1d8ec23bd85f",
     "showTitle": false,
     "title": ""
    }
   },
   "source": [
    "### Which publisher has released the most games on Steam?"
   ]
  },
  {
   "cell_type": "code",
   "execution_count": null,
   "metadata": {
    "application/vnd.databricks.v1+cell": {
     "cellMetadata": {
      "byteLimit": 2048000,
      "rowLimit": 10000
     },
     "inputWidgets": {},
     "nuid": "0eba3693-a1a2-40ce-bbbf-532047b957ae",
     "showTitle": false,
     "title": ""
    }
   },
   "outputs": [
    {
     "name": "stdout",
     "output_type": "stream",
     "text": [
      "+--------------+-----+\n",
      "|     publisher|count|\n",
      "+--------------+-----+\n",
      "|Big Fish Games|  422|\n",
      "|        8floor|  202|\n",
      "|          SEGA|  165|\n",
      "|Strategy First|  151|\n",
      "|   Square Enix|  141|\n",
      "+--------------+-----+\n",
      "only showing top 5 rows\n",
      "\n"
     ]
    }
   ],
   "source": [
    "# show top 5 publishers\n",
    "\n",
    "# group data by publisher count and order descendingly, by count\n",
    "df.groupBy(\"data.publisher\").count().orderBy(desc(\"count\")).show(5)"
   ]
  },
  {
   "cell_type": "markdown",
   "metadata": {
    "application/vnd.databricks.v1+cell": {
     "cellMetadata": {
      "byteLimit": 2048000,
      "rowLimit": 10000
     },
     "inputWidgets": {},
     "nuid": "cca19dd6-7e4e-4b7b-bbeb-bb7a1ed90a01",
     "showTitle": false,
     "title": ""
    }
   },
   "source": [
    "### What are the best rated games?"
   ]
  },
  {
   "cell_type": "markdown",
   "metadata": {
    "application/vnd.databricks.v1+cell": {
     "cellMetadata": {
      "byteLimit": 2048000,
      "rowLimit": 10000
     },
     "inputWidgets": {},
     "nuid": "9fe4b01c-864b-49c5-ab0e-f7a7d5f34a92",
     "showTitle": false,
     "title": ""
    }
   },
   "source": [
    "### Are there years with more releases? Were there more or fewer game releases during the Covid, for example?"
   ]
  },
  {
   "cell_type": "code",
   "execution_count": null,
   "metadata": {
    "application/vnd.databricks.v1+cell": {
     "cellMetadata": {
      "byteLimit": 2048000,
      "rowLimit": 10000
     },
     "inputWidgets": {},
     "nuid": "cf9c702d-f8f1-4b86-918f-2ee6b4e0b69f",
     "showTitle": false,
     "title": ""
    }
   },
   "outputs": [
    {
     "name": "stdout",
     "output_type": "stream",
     "text": [
      "+------------+-----+\n",
      "|release_date|count|\n",
      "+------------+-----+\n",
      "|            |   99|\n",
      "|  2020/01/17|   74|\n",
      "|  2022/09/30|   64|\n",
      "|  2020/10/15|   63|\n",
      "|  2021/09/30|   62|\n",
      "+------------+-----+\n",
      "only showing top 5 rows\n",
      "\n"
     ]
    }
   ],
   "source": [
    "# group data by release date\n",
    "df.groupBy(\"data.release_date\").count().orderBy(desc(\"count\")).show(5)"
   ]
  },
  {
   "cell_type": "code",
   "execution_count": null,
   "metadata": {
    "application/vnd.databricks.v1+cell": {
     "cellMetadata": {
      "byteLimit": 2048000,
      "rowLimit": 10000
     },
     "inputWidgets": {},
     "nuid": "3bbb47c1-0c67-45dc-b862-5f893155870c",
     "showTitle": false,
     "title": ""
    }
   },
   "outputs": [
    {
     "name": "stdout",
     "output_type": "stream",
     "text": [
      "root\n",
      " |-- release_date: date (nullable = true)\n",
      "\n"
     ]
    }
   ],
   "source": [
    "# select date column and convert it to DateType\n",
    "release_date = df.select(\"data.release_date\")\n",
    "release_date = release_date.withColumn(\"release_date\", col(\"release_date\").cast(DateType()))\n",
    "release_date.printSchema()"
   ]
  },
  {
   "cell_type": "code",
   "execution_count": null,
   "metadata": {
    "application/vnd.databricks.v1+cell": {
     "cellMetadata": {
      "byteLimit": 2048000,
      "rowLimit": 10000
     },
     "inputWidgets": {},
     "nuid": "8c9d0ae8-3737-44d7-95af-292e782f2b64",
     "showTitle": false,
     "title": ""
    }
   },
   "outputs": [
    {
     "name": "stdout",
     "output_type": "stream",
     "text": [
      "+--------------------+-------+--------------+\n",
      "|                data|     id|  release_date|\n",
      "+--------------------+-------+--------------+\n",
      "|{10, [Multi-playe...|     10| [2000, 11, 1]|\n",
      "|{1000000, [Single...|1000000|[2021, 05, 14]|\n",
      "|{1000010, [Single...|1000010|[2020, 10, 16]|\n",
      "|{1000030, [Multi-...|1000030|[2020, 10, 14]|\n",
      "|{1000040, [Single...|1000040|[2019, 03, 30]|\n",
      "+--------------------+-------+--------------+\n",
      "only showing top 5 rows\n",
      "\n"
     ]
    }
   ],
   "source": [
    "# split data in \"release_date column\", where parentheses is located\n",
    "release_explode = df.withColumn(\"release_date\", split(df[\"data.release_date\"], \"/\"))\n",
    "release_explode.show(5)"
   ]
  },
  {
   "cell_type": "code",
   "execution_count": null,
   "metadata": {
    "application/vnd.databricks.v1+cell": {
     "cellMetadata": {
      "byteLimit": 2048000,
      "rowLimit": 10000
     },
     "inputWidgets": {},
     "nuid": "868c3139-707b-4f89-9bd3-5f3c13e177da",
     "showTitle": false,
     "title": ""
    }
   },
   "outputs": [
    {
     "name": "stdout",
     "output_type": "stream",
     "text": [
      "+--------------------+-------+------------+\n",
      "|                data|     id|release_date|\n",
      "+--------------------+-------+------------+\n",
      "|{10, [Multi-playe...|     10|        2000|\n",
      "|{10, [Multi-playe...|     10|          11|\n",
      "|{10, [Multi-playe...|     10|           1|\n",
      "|{1000000, [Single...|1000000|        2021|\n",
      "|{1000000, [Single...|1000000|          05|\n",
      "+--------------------+-------+------------+\n",
      "only showing top 5 rows\n",
      "\n"
     ]
    }
   ],
   "source": [
    "# explode \"release_date\" column\n",
    "# it is necessary to remove day and months\n",
    "df_date_explode = release_explode.withColumn(\"release_date\", explode(\"release_date\"))\n",
    "df_date_explode.show(5)"
   ]
  },
  {
   "cell_type": "code",
   "execution_count": null,
   "metadata": {
    "application/vnd.databricks.v1+cell": {
     "cellMetadata": {
      "byteLimit": 2048000,
      "rowLimit": 10000
     },
     "inputWidgets": {},
     "nuid": "f9320c2d-d9eb-4c27-800f-ecf4c3285540",
     "showTitle": false,
     "title": ""
    }
   },
   "outputs": [
    {
     "name": "stdout",
     "output_type": "stream",
     "text": [
      "+--------------------+-------+------------+\n",
      "|                data|     id|release_date|\n",
      "+--------------------+-------+------------+\n",
      "|{10, [Multi-playe...|     10|        2000|\n",
      "|{1000000, [Single...|1000000|        2021|\n",
      "|{1000010, [Single...|1000010|        2020|\n",
      "|{1000030, [Multi-...|1000030|        2020|\n",
      "|{1000040, [Single...|1000040|        2019|\n",
      "+--------------------+-------+------------+\n",
      "only showing top 5 rows\n",
      "\n"
     ]
    }
   ],
   "source": [
    "# keep records where length of release date is 4, in order to remove days and months\n",
    "df_date_explode = df_date_explode.where(length(\"release_date\") == 4)\n",
    "df_date_explode.show(5)"
   ]
  },
  {
   "cell_type": "code",
   "execution_count": null,
   "metadata": {
    "application/vnd.databricks.v1+cell": {
     "cellMetadata": {
      "byteLimit": 2048000,
      "rowLimit": 10000
     },
     "inputWidgets": {},
     "nuid": "c22fea9a-8d13-4680-8805-42ae27ee7ed4",
     "showTitle": false,
     "title": ""
    }
   },
   "outputs": [
    {
     "name": "stdout",
     "output_type": "stream",
     "text": [
      "+------------+-----+\n",
      "|release_date|count|\n",
      "+------------+-----+\n",
      "|        2021| 8823|\n",
      "|        2020| 8305|\n",
      "|        2018| 7678|\n",
      "|        2022| 7455|\n",
      "|        2019| 6968|\n",
      "|        2017| 6017|\n",
      "|        2016| 4185|\n",
      "|        2015| 2576|\n",
      "|        2014| 1557|\n",
      "|        2013|  471|\n",
      "|        2012|  345|\n",
      "|        2009|  311|\n",
      "|        2010|  288|\n",
      "|        2011|  267|\n",
      "|        2008|  159|\n",
      "|        2007|   98|\n",
      "|        2006|   61|\n",
      "|        2005|    6|\n",
      "|        2004|    6|\n",
      "|        2001|    4|\n",
      "|        1999|    3|\n",
      "|        2003|    3|\n",
      "|        2000|    2|\n",
      "|        1997|    2|\n",
      "|        2002|    1|\n",
      "|        1998|    1|\n",
      "+------------+-----+\n",
      "\n"
     ]
    }
   ],
   "source": [
    "# count number of records per year\n",
    "counts_release_date = df_date_explode.groupBy(\"release_date\").count().orderBy(desc(\"count\"))\n",
    "counts_release_date.show(50)"
   ]
  },
  {
   "cell_type": "code",
   "execution_count": null,
   "metadata": {
    "application/vnd.databricks.v1+cell": {
     "cellMetadata": {
      "byteLimit": 2048000,
      "rowLimit": 10000
     },
     "inputWidgets": {},
     "nuid": "6329cda2-ead7-4fbc-9da9-09c14b3b6b93",
     "showTitle": false,
     "title": ""
    }
   },
   "outputs": [
    {
     "data": {
      "text/html": [
       "<style scoped>\n",
       "  .table-result-container {\n",
       "    max-height: 300px;\n",
       "    overflow: auto;\n",
       "  }\n",
       "  table, th, td {\n",
       "    border: 1px solid black;\n",
       "    border-collapse: collapse;\n",
       "  }\n",
       "  th, td {\n",
       "    padding: 5px;\n",
       "  }\n",
       "  th {\n",
       "    text-align: left;\n",
       "  }\n",
       "</style><div class='table-result-container'><table class='table-result'><thead style='background-color: white'><tr><th>release_date</th><th>count</th></tr></thead><tbody><tr><td>2021</td><td>8823</td></tr><tr><td>2020</td><td>8305</td></tr><tr><td>2018</td><td>7678</td></tr><tr><td>2022</td><td>7455</td></tr><tr><td>2019</td><td>6968</td></tr><tr><td>2017</td><td>6017</td></tr><tr><td>2016</td><td>4185</td></tr><tr><td>2015</td><td>2576</td></tr><tr><td>2014</td><td>1557</td></tr><tr><td>2013</td><td>471</td></tr><tr><td>2012</td><td>345</td></tr><tr><td>2009</td><td>311</td></tr><tr><td>2010</td><td>288</td></tr><tr><td>2011</td><td>267</td></tr><tr><td>2008</td><td>159</td></tr><tr><td>2007</td><td>98</td></tr><tr><td>2006</td><td>61</td></tr><tr><td>2005</td><td>6</td></tr><tr><td>2004</td><td>6</td></tr><tr><td>2001</td><td>4</td></tr><tr><td>1999</td><td>3</td></tr><tr><td>2003</td><td>3</td></tr><tr><td>2000</td><td>2</td></tr><tr><td>1997</td><td>2</td></tr><tr><td>2002</td><td>1</td></tr><tr><td>1998</td><td>1</td></tr></tbody></table></div>"
      ]
     },
     "metadata": {
      "application/vnd.databricks.v1+output": {
       "addedWidgets": {},
       "aggData": [],
       "aggError": "",
       "aggOverflow": false,
       "aggSchema": [],
       "aggSeriesLimitReached": false,
       "aggType": "",
       "arguments": {},
       "columnCustomDisplayInfos": {},
       "data": [
        [
         "2021",
         8823
        ],
        [
         "2020",
         8305
        ],
        [
         "2018",
         7678
        ],
        [
         "2022",
         7455
        ],
        [
         "2019",
         6968
        ],
        [
         "2017",
         6017
        ],
        [
         "2016",
         4185
        ],
        [
         "2015",
         2576
        ],
        [
         "2014",
         1557
        ],
        [
         "2013",
         471
        ],
        [
         "2012",
         345
        ],
        [
         "2009",
         311
        ],
        [
         "2010",
         288
        ],
        [
         "2011",
         267
        ],
        [
         "2008",
         159
        ],
        [
         "2007",
         98
        ],
        [
         "2006",
         61
        ],
        [
         "2005",
         6
        ],
        [
         "2004",
         6
        ],
        [
         "2001",
         4
        ],
        [
         "1999",
         3
        ],
        [
         "2003",
         3
        ],
        [
         "2000",
         2
        ],
        [
         "1997",
         2
        ],
        [
         "2002",
         1
        ],
        [
         "1998",
         1
        ]
       ],
       "datasetInfos": [],
       "dbfsResultPath": null,
       "isJsonSchema": true,
       "metadata": {},
       "overflow": false,
       "plotOptions": {
        "customPlotOptions": {},
        "displayType": "table",
        "pivotAggregation": null,
        "pivotColumns": null,
        "xColumns": null,
        "yColumns": null
       },
       "removedWidgets": [],
       "schema": [
        {
         "metadata": "{}",
         "name": "release_date",
         "type": "\"string\""
        },
        {
         "metadata": "{}",
         "name": "count",
         "type": "\"long\""
        }
       ],
       "type": "table"
      }
     },
     "output_type": "display_data"
    },
    {
     "data": {
      "text/plain": [
       "Databricks visualization. Run in Databricks to view."
      ]
     },
     "metadata": {
      "application/vnd.databricks.v1.subcommand+json": {
       "bindings": {},
       "collapsed": false,
       "command": "%python\n__backend_agg_display_orig = display\n__backend_agg_dfs = []\ndef __backend_agg_display_new(df):\n    __backend_agg_df_modules = [\"pandas.core.frame\", \"databricks.koalas.frame\", \"pyspark.sql.dataframe\", \"pyspark.pandas.frame\", \"pyspark.sql.connect.dataframe\"]\n    if (type(df).__module__ in __backend_agg_df_modules and type(df).__name__ == 'DataFrame') or isinstance(df, list):\n        __backend_agg_dfs.append(df)\n\ndisplay = __backend_agg_display_new\n\ndef __backend_agg_user_code_fn():\n    import base64\n    exec(base64.standard_b64decode(\"IyB2aXoKZGlzcGxheShjb3VudHNfcmVsZWFzZV9kYXRlKQ==\").decode())\n\ntry:\n    # run user code\n    __backend_agg_user_code_fn()\n\n    #reset display function\n    display = __backend_agg_display_orig\n\n    if len(__backend_agg_dfs) > 0:\n        # create a temp view\n        if type(__backend_agg_dfs[0]).__module__ == \"databricks.koalas.frame\":\n            # koalas dataframe\n            __backend_agg_dfs[0].to_spark().createOrReplaceTempView(\"DatabricksView8debdaa\")\n        elif type(__backend_agg_dfs[0]).__module__ == \"pandas.core.frame\" or isinstance(__backend_agg_dfs[0], list):\n            # pandas dataframe\n            spark.createDataFrame(__backend_agg_dfs[0]).createOrReplaceTempView(\"DatabricksView8debdaa\")\n        else:\n            __backend_agg_dfs[0].createOrReplaceTempView(\"DatabricksView8debdaa\")\n        #run backend agg\n        display(spark.sql(\"\"\"WITH q AS (select * from DatabricksView8debdaa) SELECT `release_date`,SUM(`count`) `column_d2feb670220` FROM q GROUP BY `release_date`\"\"\"))\n    else:\n        displayHTML(\"dataframe no longer exists. If you're using dataframe.display(), use display(dataframe) instead.\")\n\n\nfinally:\n    spark.sql(\"drop view if exists DatabricksView8debdaa\")\n    display = __backend_agg_display_orig\n    del __backend_agg_display_new\n    del __backend_agg_display_orig\n    del __backend_agg_dfs\n    del __backend_agg_user_code_fn\n\n",
       "commandTitle": "Visualization 1",
       "commandType": "auto",
       "commandVersion": 0,
       "commentThread": [],
       "commentsVisible": false,
       "contentSha256Hex": null,
       "customPlotOptions": {
        "redashChart": [
         {
          "key": "type",
          "value": "CHART"
         },
         {
          "key": "options",
          "value": {
           "alignYAxesAtZero": true,
           "coefficient": 1,
           "columnConfigurationMap": {
            "x": {
             "column": "release_date",
             "id": "column_d2feb670219"
            },
            "y": [
             {
              "column": "count",
              "id": "column_d2feb670220",
              "transform": "SUM"
             }
            ]
           },
           "dateTimeFormat": "DD/MM/YYYY HH:mm",
           "direction": {
            "type": "counterclockwise"
           },
           "error_y": {
            "type": "data",
            "visible": true
           },
           "globalSeriesType": "column",
           "legend": {
            "traceorder": "normal"
           },
           "missingValuesAsZero": true,
           "numberFormat": "0,0[.]00000",
           "percentFormat": "0[.]00%",
           "series": {
            "error_y": {
             "type": "data",
             "visible": true
            },
            "stacking": null
           },
           "seriesOptions": {
            "column_d2feb670220": {
             "name": "count",
             "yAxis": 0
            }
           },
           "showDataLabels": false,
           "sizemode": "diameter",
           "sortX": true,
           "sortY": true,
           "swappedAxes": true,
           "textFormat": "",
           "useAggregationsUi": true,
           "valuesOptions": {},
           "version": 2,
           "xAxis": {
            "labels": {
             "enabled": true
            },
            "type": "-"
           },
           "yAxis": [
            {
             "type": "-"
            },
            {
             "opposite": true,
             "type": "-"
            }
           ]
          }
         }
        ]
       },
       "datasetPreviewNameToCmdIdMap": {},
       "diffDeletes": [],
       "diffInserts": [],
       "displayType": "redashChart",
       "error": null,
       "errorSummary": null,
       "errorTraceType": null,
       "finishTime": 0,
       "globalVars": {},
       "guid": "8b937ccd-ce72-43fe-8f07-838ddfb0bae6",
       "height": "auto",
       "hideCommandCode": false,
       "hideCommandResult": false,
       "iPythonMetadata": null,
       "inputWidgets": {},
       "isLockedInExamMode": false,
       "latestUser": "a user",
       "latestUserId": null,
       "listResultMetadata": null,
       "metadata": {
        "byteLimit": 2048000,
        "rowLimit": 10000
       },
       "nuid": "26942ac0-a54d-49f8-b898-289a5c2a0d7e",
       "origId": 2604485717952799,
       "parentHierarchy": [
        "a72e0da2-dd5b-4a9b-b3c1-9f90c1c97216"
       ],
       "pivotAggregation": null,
       "pivotColumns": null,
       "position": 2.534481018781662,
       "resultDbfsErrorMessage": null,
       "resultDbfsStatus": "INLINED_IN_TREE",
       "results": null,
       "showCommandTitle": false,
       "startTime": 0,
       "state": "finished",
       "streamStates": {},
       "subcommandOptions": {
        "queryPlan": {
         "groups": [
          {
           "column": "release_date",
           "type": "column"
          }
         ],
         "selects": [
          {
           "column": "release_date",
           "type": "column"
          },
          {
           "alias": "column_d2feb670220",
           "args": [
            {
             "column": "count",
             "type": "column"
            }
           ],
           "function": "SUM",
           "type": "function"
          }
         ]
        }
       },
       "submitTime": 0,
       "subtype": "tableResultSubCmd.visualization",
       "tableResultIndex": 0,
       "useConsistentColors": false,
       "version": "CommandV1",
       "width": "auto",
       "workflows": [],
       "xColumns": null,
       "yColumns": null
      }
     },
     "output_type": "display_data"
    }
   ],
   "source": [
    "# viz\n",
    "display(counts_release_date)"
   ]
  },
  {
   "cell_type": "markdown",
   "metadata": {
    "application/vnd.databricks.v1+cell": {
     "cellMetadata": {
      "byteLimit": 2048000,
      "rowLimit": 10000
     },
     "inputWidgets": {},
     "nuid": "ad61af93-0c0c-4bf6-acd6-161a18d4235a",
     "showTitle": false,
     "title": ""
    }
   },
   "source": [
    "##### Insight\n",
    "- The year with most releases? 2021\n",
    "- Covid did not have any effect on releases, in fact 2021 was the year with the most of them\n",
    "- Between 2014 and 2017 the growth rate was around 50% of releases between each year"
   ]
  },
  {
   "cell_type": "markdown",
   "metadata": {
    "application/vnd.databricks.v1+cell": {
     "cellMetadata": {
      "byteLimit": 2048000,
      "rowLimit": 10000
     },
     "inputWidgets": {},
     "nuid": "908db85e-44a3-49e8-ac3d-f0e63b579c3f",
     "showTitle": false,
     "title": ""
    }
   },
   "source": [
    "### How are the prices distributed? Are there many games with a discount?"
   ]
  },
  {
   "cell_type": "markdown",
   "metadata": {
    "application/vnd.databricks.v1+cell": {
     "cellMetadata": {
      "byteLimit": 2048000,
      "rowLimit": 10000
     },
     "inputWidgets": {},
     "nuid": "055bdfda-5e40-47e0-9a2a-d976440e307c",
     "showTitle": false,
     "title": ""
    }
   },
   "source": [
    "#### Prices Distribution"
   ]
  },
  {
   "cell_type": "code",
   "execution_count": null,
   "metadata": {
    "application/vnd.databricks.v1+cell": {
     "cellMetadata": {
      "byteLimit": 2048000,
      "rowLimit": 10000
     },
     "inputWidgets": {},
     "nuid": "b7b11aea-6ba7-4659-9cc6-0256a637ee40",
     "showTitle": false,
     "title": ""
    }
   },
   "outputs": [
    {
     "name": "stdout",
     "output_type": "stream",
     "text": [
      "root\n",
      " |-- price: integer (nullable = true)\n",
      "\n"
     ]
    }
   ],
   "source": [
    "# select price column and convert it to integer\n",
    "price = df.select(\"data.price\")\n",
    "price = price.withColumn(\"price\", col(\"price\").cast(IntegerType()))\n",
    "price.printSchema()"
   ]
  },
  {
   "cell_type": "code",
   "execution_count": null,
   "metadata": {
    "application/vnd.databricks.v1+cell": {
     "cellMetadata": {
      "byteLimit": 2048000,
      "rowLimit": 10000
     },
     "inputWidgets": {},
     "nuid": "80584ed6-f11a-4340-880c-8d9e6d1da850",
     "showTitle": false,
     "title": ""
    }
   },
   "outputs": [
    {
     "name": "stdout",
     "output_type": "stream",
     "text": [
      "+-------+-----------------+\n",
      "|summary|            price|\n",
      "+-------+-----------------+\n",
      "|  count|            55691|\n",
      "|   mean|773.2849832109317|\n",
      "| stddev| 1093.13458272345|\n",
      "|    min|                0|\n",
      "|    max|            99900|\n",
      "+-------+-----------------+\n",
      "\n"
     ]
    }
   ],
   "source": [
    "# statistical summary\n",
    "price.describe().show()"
   ]
  },
  {
   "cell_type": "code",
   "execution_count": null,
   "metadata": {
    "application/vnd.databricks.v1+cell": {
     "cellMetadata": {
      "byteLimit": 2048000,
      "rowLimit": 10000
     },
     "inputWidgets": {},
     "nuid": "c4896984-93fa-4cf4-a82d-7a0205965dbf",
     "showTitle": false,
     "title": ""
    }
   },
   "outputs": [
    {
     "name": "stdout",
     "output_type": "stream",
     "text": [
      "+----------+\n",
      "|max(price)|\n",
      "+----------+\n",
      "|     99900|\n",
      "+----------+\n",
      "\n"
     ]
    }
   ],
   "source": [
    "# highest priced game\n",
    "max_price = price.select(max(\"price\"))\n",
    "max_price.show()"
   ]
  },
  {
   "cell_type": "code",
   "execution_count": null,
   "metadata": {
    "application/vnd.databricks.v1+cell": {
     "cellMetadata": {
      "byteLimit": 2048000,
      "rowLimit": 10000
     },
     "inputWidgets": {},
     "nuid": "a5c1bdd1-353c-4f7f-bd96-a95239302a4a",
     "showTitle": false,
     "title": ""
    }
   },
   "outputs": [
    {
     "name": "stdout",
     "output_type": "stream",
     "text": [
      "+---------------------------------+\n",
      "|name                             |\n",
      "+---------------------------------+\n",
      "|Ascent Free-Roaming VR Experience|\n",
      "+---------------------------------+\n",
      "\n"
     ]
    }
   ],
   "source": [
    "# what is the name of the game that costs $99,900?\n",
    "# use filter and fetch name that matches conditions\n",
    "df.filter(df[\"data.price\"] == \"99900\").select(\"data.name\").show(20, False)"
   ]
  },
  {
   "cell_type": "markdown",
   "metadata": {
    "application/vnd.databricks.v1+cell": {
     "cellMetadata": {
      "byteLimit": 2048000,
      "rowLimit": 10000
     },
     "inputWidgets": {},
     "nuid": "e5290037-ed63-41ca-8a34-10053cbfce5a",
     "showTitle": false,
     "title": ""
    }
   },
   "source": [
    "##### Insight\n",
    "- Average game costs $773\n",
    "- 20% of games cost less than $100\n",
    "- 50% of games cost less than $500\n",
    "- 90% of games cost less than $2,000\n",
    "- Surprisigly there is a game that costs $99.900. It is called \"Ascent Free-Roaming VR Experience\"."
   ]
  },
  {
   "cell_type": "markdown",
   "metadata": {
    "application/vnd.databricks.v1+cell": {
     "cellMetadata": {
      "byteLimit": 2048000,
      "rowLimit": 10000
     },
     "inputWidgets": {},
     "nuid": "4afeff3c-36f6-491f-9a9e-233bf9bf780b",
     "showTitle": false,
     "title": ""
    }
   },
   "source": [
    "#### Discounts"
   ]
  },
  {
   "cell_type": "code",
   "execution_count": null,
   "metadata": {
    "application/vnd.databricks.v1+cell": {
     "cellMetadata": {
      "byteLimit": 2048000,
      "rowLimit": 10000
     },
     "inputWidgets": {},
     "nuid": "dd874453-1ef6-4310-9004-7862298b1b8a",
     "showTitle": false,
     "title": ""
    }
   },
   "outputs": [
    {
     "name": "stdout",
     "output_type": "stream",
     "text": [
      "+-------+------------------+\n",
      "|summary|          discount|\n",
      "+-------+------------------+\n",
      "|  count|             55691|\n",
      "|   mean| 2.603777989262179|\n",
      "| stddev|12.887080174743176|\n",
      "|    min|                 0|\n",
      "|    max|                90|\n",
      "+-------+------------------+\n",
      "\n"
     ]
    }
   ],
   "source": [
    "df.select(\"data.discount\").describe().show()"
   ]
  },
  {
   "cell_type": "code",
   "execution_count": null,
   "metadata": {
    "application/vnd.databricks.v1+cell": {
     "cellMetadata": {
      "byteLimit": 2048000,
      "rowLimit": 10000
     },
     "inputWidgets": {},
     "nuid": "dbacdb5e-8a9e-49ae-92b4-65acde9682be",
     "showTitle": false,
     "title": ""
    }
   },
   "outputs": [
    {
     "name": "stdout",
     "output_type": "stream",
     "text": [
      "root\n",
      " |-- discount: integer (nullable = true)\n",
      "\n"
     ]
    }
   ],
   "source": [
    "# select discount column and convert it to integer\n",
    "discount = df.select(\"data.discount\")\n",
    "discount = discount.withColumn(\"discount\", col(\"discount\").cast(IntegerType()))\n",
    "discount.printSchema()"
   ]
  },
  {
   "cell_type": "code",
   "execution_count": null,
   "metadata": {
    "application/vnd.databricks.v1+cell": {
     "cellMetadata": {
      "byteLimit": 2048000,
      "rowLimit": 10000
     },
     "inputWidgets": {},
     "nuid": "616b007e-d344-4e77-9ac7-d7b1e7fc89bb",
     "showTitle": false,
     "title": ""
    }
   },
   "outputs": [
    {
     "name": "stdout",
     "output_type": "stream",
     "text": [
      "+-------+------------------+\n",
      "|summary|          discount|\n",
      "+-------+------------------+\n",
      "|  count|              2518|\n",
      "|   mean| 57.58816521048451|\n",
      "| stddev|22.512945353983127|\n",
      "|    min|                10|\n",
      "|    max|                90|\n",
      "+-------+------------------+\n",
      "\n"
     ]
    }
   ],
   "source": [
    "# what is the average for those games that have discounts?\n",
    "# exclude games with no discount (0)\n",
    "discount.filter(discount[\"discount\"] > 0).describe().show()"
   ]
  },
  {
   "cell_type": "markdown",
   "metadata": {
    "application/vnd.databricks.v1+cell": {
     "cellMetadata": {
      "byteLimit": 2048000,
      "rowLimit": 10000
     },
     "inputWidgets": {},
     "nuid": "8eb28e96-0a8d-4675-9157-ee6bf946601a",
     "showTitle": false,
     "title": ""
    }
   },
   "source": [
    "##### Insight\n",
    "- 95.48% of games do not have discounts\n",
    "- The mean discount for those games that do have one is of 57.58%, the minimum being 10% and max 90%"
   ]
  },
  {
   "cell_type": "markdown",
   "metadata": {
    "application/vnd.databricks.v1+cell": {
     "cellMetadata": {
      "byteLimit": 2048000,
      "rowLimit": 10000
     },
     "inputWidgets": {},
     "nuid": "19999165-05eb-43d6-8a17-61f5782896ec",
     "showTitle": false,
     "title": ""
    }
   },
   "source": [
    "### What are the most represented languages?"
   ]
  },
  {
   "cell_type": "code",
   "execution_count": null,
   "metadata": {
    "application/vnd.databricks.v1+cell": {
     "cellMetadata": {
      "byteLimit": 2048000,
      "rowLimit": 10000
     },
     "inputWidgets": {},
     "nuid": "5f122287-447c-4131-b543-d635ab5709ec",
     "showTitle": false,
     "title": ""
    }
   },
   "outputs": [
    {
     "name": "stdout",
     "output_type": "stream",
     "text": [
      "+------------------------------------------+-----+\n",
      "|languages                                 |count|\n",
      "+------------------------------------------+-----+\n",
      "|English                                   |29163|\n",
      "|English, Russian                          |1881 |\n",
      "|English, Simplified Chinese               |1200 |\n",
      "|English, Japanese                         |1015 |\n",
      "|English, Not supported, Simplified Chinese|683  |\n",
      "+------------------------------------------+-----+\n",
      "only showing top 5 rows\n",
      "\n"
     ]
    }
   ],
   "source": [
    "# group data by most appearances of languages\n",
    "df.groupBy(\"data.languages\").count().orderBy(desc(\"count\")).show(5, False)"
   ]
  },
  {
   "cell_type": "code",
   "execution_count": null,
   "metadata": {
    "application/vnd.databricks.v1+cell": {
     "cellMetadata": {
      "byteLimit": 2048000,
      "rowLimit": 10000
     },
     "inputWidgets": {},
     "nuid": "11358dba-b13e-4127-ac34-00f80315f8f8",
     "showTitle": false,
     "title": ""
    }
   },
   "outputs": [
    {
     "name": "stdout",
     "output_type": "stream",
     "text": [
      "+--------------------+-------+--------------------+\n",
      "|                data|     id|            language|\n",
      "+--------------------+-------+--------------------+\n",
      "|{10, [Multi-playe...|     10|[English,  French...|\n",
      "|{1000000, [Single...|1000000|[English,  Korean...|\n",
      "|{1000010, [Single...|1000010|[Simplified Chine...|\n",
      "|{1000030, [Multi-...|1000030|           [English]|\n",
      "|{1000040, [Single...|1000040|[Simplified Chinese]|\n",
      "+--------------------+-------+--------------------+\n",
      "only showing top 5 rows\n",
      "\n"
     ]
    }
   ],
   "source": [
    "# convert \"languages\" column to array, separate where comma is\n",
    "# in order to explode the column\n",
    "language_explode = df.withColumn(\"language\", split(df[\"data.languages\"], \",\"))\n",
    "language_explode.show(5)"
   ]
  },
  {
   "cell_type": "code",
   "execution_count": null,
   "metadata": {
    "application/vnd.databricks.v1+cell": {
     "cellMetadata": {
      "byteLimit": 2048000,
      "rowLimit": 10000
     },
     "inputWidgets": {},
     "nuid": "9b316d72-6f80-4a1f-b1e8-735bd9b6f93e",
     "showTitle": false,
     "title": ""
    }
   },
   "outputs": [
    {
     "name": "stdout",
     "output_type": "stream",
     "text": [
      "root\n",
      " |-- data: struct (nullable = true)\n",
      " |    |-- appid: long (nullable = true)\n",
      " |    |-- categories: array (nullable = true)\n",
      " |    |    |-- element: string (containsNull = true)\n",
      " |    |-- ccu: long (nullable = true)\n",
      " |    |-- developer: string (nullable = true)\n",
      " |    |-- discount: string (nullable = true)\n",
      " |    |-- genre: string (nullable = true)\n",
      " |    |-- header_image: string (nullable = true)\n",
      " |    |-- initialprice: string (nullable = true)\n",
      " |    |-- languages: string (nullable = true)\n",
      " |    |-- name: string (nullable = true)\n",
      " |    |-- negative: long (nullable = true)\n",
      " |    |-- owners: string (nullable = true)\n",
      " |    |-- platforms: struct (nullable = true)\n",
      " |    |    |-- linux: boolean (nullable = true)\n",
      " |    |    |-- mac: boolean (nullable = true)\n",
      " |    |    |-- windows: boolean (nullable = true)\n",
      " |    |-- positive: long (nullable = true)\n",
      " |    |-- price: string (nullable = true)\n",
      " |    |-- publisher: string (nullable = true)\n",
      " |    |-- release_date: string (nullable = true)\n",
      " |    |-- required_age: string (nullable = true)\n",
      " |    |-- short_description: string (nullable = true)\n",
      " |    |-- tags: struct (nullable = true)\n",
      " |    |    |-- 1980s: long (nullable = true)\n",
      " |    |    |-- 1990's: long (nullable = true)\n",
      " |    |    |-- 2.5D: long (nullable = true)\n",
      " |    |    |-- 2D: long (nullable = true)\n",
      " |    |    |-- 2D Fighter: long (nullable = true)\n",
      " |    |    |-- 2D Platformer: long (nullable = true)\n",
      " |    |    |-- 360 Video: long (nullable = true)\n",
      " |    |    |-- 3D: long (nullable = true)\n",
      " |    |    |-- 3D Fighter: long (nullable = true)\n",
      " |    |    |-- 3D Platformer: long (nullable = true)\n",
      " |    |    |-- 3D Vision: long (nullable = true)\n",
      " |    |    |-- 4 Player Local: long (nullable = true)\n",
      " |    |    |-- 4X: long (nullable = true)\n",
      " |    |    |-- 6DOF: long (nullable = true)\n",
      " |    |    |-- 8-bit Music: long (nullable = true)\n",
      " |    |    |-- ATV: long (nullable = true)\n",
      " |    |    |-- Abstract: long (nullable = true)\n",
      " |    |    |-- Action: long (nullable = true)\n",
      " |    |    |-- Action RPG: long (nullable = true)\n",
      " |    |    |-- Action RTS: long (nullable = true)\n",
      " |    |    |-- Action Roguelike: long (nullable = true)\n",
      " |    |    |-- Action-Adventure: long (nullable = true)\n",
      " |    |    |-- Addictive: long (nullable = true)\n",
      " |    |    |-- Adventure: long (nullable = true)\n",
      " |    |    |-- Agriculture: long (nullable = true)\n",
      " |    |    |-- Aliens: long (nullable = true)\n",
      " |    |    |-- Alternate History: long (nullable = true)\n",
      " |    |    |-- Ambient: long (nullable = true)\n",
      " |    |    |-- America: long (nullable = true)\n",
      " |    |    |-- Animation & Modeling: long (nullable = true)\n",
      " |    |    |-- Anime: long (nullable = true)\n",
      " |    |    |-- Arcade: long (nullable = true)\n",
      " |    |    |-- Archery: long (nullable = true)\n",
      " |    |    |-- Arena Shooter: long (nullable = true)\n",
      " |    |    |-- Artificial Intelligence: long (nullable = true)\n",
      " |    |    |-- Assassin: long (nullable = true)\n",
      " |    |    |-- Asymmetric VR: long (nullable = true)\n",
      " |    |    |-- Asynchronous Multiplayer: long (nullable = true)\n",
      " |    |    |-- Atmospheric: long (nullable = true)\n",
      " |    |    |-- Audio Production: long (nullable = true)\n",
      " |    |    |-- Auto Battler: long (nullable = true)\n",
      " |    |    |-- Automation: long (nullable = true)\n",
      " |    |    |-- Automobile Sim: long (nullable = true)\n",
      " |    |    |-- BMX: long (nullable = true)\n",
      " |    |    |-- Base-Building: long (nullable = true)\n",
      " |    |    |-- Baseball: long (nullable = true)\n",
      " |    |    |-- Based On A Novel: long (nullable = true)\n",
      " |    |    |-- Basketball: long (nullable = true)\n",
      " |    |    |-- Battle Royale: long (nullable = true)\n",
      " |    |    |-- Beat 'em up: long (nullable = true)\n",
      " |    |    |-- Beautiful: long (nullable = true)\n",
      " |    |    |-- Benchmark: long (nullable = true)\n",
      " |    |    |-- Bikes: long (nullable = true)\n",
      " |    |    |-- Blood: long (nullable = true)\n",
      " |    |    |-- Board Game: long (nullable = true)\n",
      " |    |    |-- Boss Rush: long (nullable = true)\n",
      " |    |    |-- Bowling: long (nullable = true)\n",
      " |    |    |-- Boxing: long (nullable = true)\n",
      " |    |    |-- Building: long (nullable = true)\n",
      " |    |    |-- Bullet Hell: long (nullable = true)\n",
      " |    |    |-- Bullet Time: long (nullable = true)\n",
      " |    |    |-- CRPG: long (nullable = true)\n",
      " |    |    |-- Capitalism: long (nullable = true)\n",
      " |    |    |-- Card Battler: long (nullable = true)\n",
      " |    |    |-- Card Game: long (nullable = true)\n",
      " |    |    |-- Cartoon: long (nullable = true)\n",
      " |    |    |-- Cartoony: long (nullable = true)\n",
      " |    |    |-- Casual: long (nullable = true)\n",
      " |    |    |-- Cats: long (nullable = true)\n",
      " |    |    |-- Character Action Game: long (nullable = true)\n",
      " |    |    |-- Character Customization: long (nullable = true)\n",
      " |    |    |-- Chess: long (nullable = true)\n",
      " |    |    |-- Choices Matter: long (nullable = true)\n",
      " |    |    |-- Choose Your Own Adventure: long (nullable = true)\n",
      " |    |    |-- Cinematic: long (nullable = true)\n",
      " |    |    |-- City Builder: long (nullable = true)\n",
      " |    |    |-- Class-Based: long (nullable = true)\n",
      " |    |    |-- Classic: long (nullable = true)\n",
      " |    |    |-- Clicker: long (nullable = true)\n",
      " |    |    |-- Co-op: long (nullable = true)\n",
      " |    |    |-- Co-op Campaign: long (nullable = true)\n",
      " |    |    |-- Coding: long (nullable = true)\n",
      " |    |    |-- Cold War: long (nullable = true)\n",
      " |    |    |-- Collectathon: long (nullable = true)\n",
      " |    |    |-- Colony Sim: long (nullable = true)\n",
      " |    |    |-- Colorful: long (nullable = true)\n",
      " |    |    |-- Combat: long (nullable = true)\n",
      " |    |    |-- Combat Racing: long (nullable = true)\n",
      " |    |    |-- Comedy: long (nullable = true)\n",
      " |    |    |-- Comic Book: long (nullable = true)\n",
      " |    |    |-- Competitive: long (nullable = true)\n",
      " |    |    |-- Conspiracy: long (nullable = true)\n",
      " |    |    |-- Controller: long (nullable = true)\n",
      " |    |    |-- Conversation: long (nullable = true)\n",
      " |    |    |-- Cooking: long (nullable = true)\n",
      " |    |    |-- Cozy: long (nullable = true)\n",
      " |    |    |-- Crafting: long (nullable = true)\n",
      " |    |    |-- Creature Collector: long (nullable = true)\n",
      " |    |    |-- Cricket: long (nullable = true)\n",
      " |    |    |-- Crime: long (nullable = true)\n",
      " |    |    |-- Crowdfunded: long (nullable = true)\n",
      " |    |    |-- Cult Classic: long (nullable = true)\n",
      " |    |    |-- Cute: long (nullable = true)\n",
      " |    |    |-- Cyberpunk: long (nullable = true)\n",
      " |    |    |-- Cycling: long (nullable = true)\n",
      " |    |    |-- Dark: long (nullable = true)\n",
      " |    |    |-- Dark Comedy: long (nullable = true)\n",
      " |    |    |-- Dark Fantasy: long (nullable = true)\n",
      " |    |    |-- Dark Humor: long (nullable = true)\n",
      " |    |    |-- Dating Sim: long (nullable = true)\n",
      " |    |    |-- Deckbuilding: long (nullable = true)\n",
      " |    |    |-- Demons: long (nullable = true)\n",
      " |    |    |-- Design & Illustration: long (nullable = true)\n",
      " |    |    |-- Destruction: long (nullable = true)\n",
      " |    |    |-- Detective: long (nullable = true)\n",
      " |    |    |-- Difficult: long (nullable = true)\n",
      " |    |    |-- Dinosaurs: long (nullable = true)\n",
      " |    |    |-- Diplomacy: long (nullable = true)\n",
      " |    |    |-- Documentary: long (nullable = true)\n",
      " |    |    |-- Dog: long (nullable = true)\n",
      " |    |    |-- Dragons: long (nullable = true)\n",
      " |    |    |-- Drama: long (nullable = true)\n",
      " |    |    |-- Driving: long (nullable = true)\n",
      " |    |    |-- Dungeon Crawler: long (nullable = true)\n",
      " |    |    |-- Dungeons & Dragons: long (nullable = true)\n",
      " |    |    |-- Dynamic Narration: long (nullable = true)\n",
      " |    |    |-- Dystopian : long (nullable = true)\n",
      " |    |    |-- Early Access: long (nullable = true)\n",
      " |    |    |-- Economy: long (nullable = true)\n",
      " |    |    |-- Education: long (nullable = true)\n",
      " |    |    |-- Electronic: long (nullable = true)\n",
      " |    |    |-- Electronic Music: long (nullable = true)\n",
      " |    |    |-- Emotional: long (nullable = true)\n",
      " |    |    |-- Epic: long (nullable = true)\n",
      " |    |    |-- Episodic: long (nullable = true)\n",
      " |    |    |-- Escape Room: long (nullable = true)\n",
      " |    |    |-- Experience: long (nullable = true)\n",
      " |    |    |-- Experimental: long (nullable = true)\n",
      " |    |    |-- Exploration: long (nullable = true)\n",
      " |    |    |-- FMV: long (nullable = true)\n",
      " |    |    |-- FPS: long (nullable = true)\n",
      " |    |    |-- Faith: long (nullable = true)\n",
      " |    |    |-- Family Friendly: long (nullable = true)\n",
      " |    |    |-- Fantasy: long (nullable = true)\n",
      " |    |    |-- Farming: long (nullable = true)\n",
      " |    |    |-- Farming Sim: long (nullable = true)\n",
      " |    |    |-- Fast-Paced: long (nullable = true)\n",
      " |    |    |-- Feature Film: long (nullable = true)\n",
      " |    |    |-- Female Protagonist: long (nullable = true)\n",
      " |    |    |-- Fighting: long (nullable = true)\n",
      " |    |    |-- First-Person: long (nullable = true)\n",
      " |    |    |-- Fishing: long (nullable = true)\n",
      " |    |    |-- Flight: long (nullable = true)\n",
      " |    |    |-- Football: long (nullable = true)\n",
      " |    |    |-- Foreign: long (nullable = true)\n",
      " |    |    |-- Free to Play: long (nullable = true)\n",
      " |    |    |-- Funny: long (nullable = true)\n",
      " |    |    |-- Futuristic: long (nullable = true)\n",
      " |    |    |-- Gambling: long (nullable = true)\n",
      " |    |    |-- Game Development: long (nullable = true)\n",
      " |    |    |-- GameMaker: long (nullable = true)\n",
      " |    |    |-- Games Workshop: long (nullable = true)\n",
      " |    |    |-- Gaming: long (nullable = true)\n",
      " |    |    |-- God Game: long (nullable = true)\n",
      " |    |    |-- Golf: long (nullable = true)\n",
      " |    |    |-- Gore: long (nullable = true)\n",
      " |    |    |-- Gothic: long (nullable = true)\n",
      " |    |    |-- Grand Strategy: long (nullable = true)\n",
      " |    |    |-- Great Soundtrack: long (nullable = true)\n",
      " |    |    |-- Grid-Based Movement: long (nullable = true)\n",
      " |    |    |-- Gun Customization: long (nullable = true)\n",
      " |    |    |-- Hack and Slash: long (nullable = true)\n",
      " |    |    |-- Hacking: long (nullable = true)\n",
      " |    |    |-- Hand-drawn: long (nullable = true)\n",
      " |    |    |-- Hardware: long (nullable = true)\n",
      " |    |    |-- Heist: long (nullable = true)\n",
      " |    |    |-- Hentai: long (nullable = true)\n",
      " |    |    |-- Hero Shooter: long (nullable = true)\n",
      " |    |    |-- Hex Grid: long (nullable = true)\n",
      " |    |    |-- Hidden Object: long (nullable = true)\n",
      " |    |    |-- Historical: long (nullable = true)\n",
      " |    |    |-- Hockey: long (nullable = true)\n",
      " |    |    |-- Horror: long (nullable = true)\n",
      " |    |    |-- Horses: long (nullable = true)\n",
      " |    |    |-- Hunting: long (nullable = true)\n",
      " |    |    |-- Idler: long (nullable = true)\n",
      " |    |    |-- Illuminati: long (nullable = true)\n",
      " |    |    |-- Immersive: long (nullable = true)\n",
      " |    |    |-- Immersive Sim: long (nullable = true)\n",
      " |    |    |-- Indie: long (nullable = true)\n",
      " |    |    |-- Instrumental Music: long (nullable = true)\n",
      " |    |    |-- Intentionally Awkward Controls: long (nullable = true)\n",
      " |    |    |-- Interactive Fiction: long (nullable = true)\n",
      " |    |    |-- Inventory Management: long (nullable = true)\n",
      " |    |    |-- Investigation: long (nullable = true)\n",
      " |    |    |-- Isometric: long (nullable = true)\n",
      " |    |    |-- JRPG: long (nullable = true)\n",
      " |    |    |-- Jet: long (nullable = true)\n",
      " |    |    |-- Job Simulator: long (nullable = true)\n",
      " |    |    |-- Jump Scare: long (nullable = true)\n",
      " |    |    |-- Kickstarter: long (nullable = true)\n",
      " |    |    |-- LEGO: long (nullable = true)\n",
      " |    |    |-- LGBTQ+: long (nullable = true)\n",
      " |    |    |-- Lemmings: long (nullable = true)\n",
      " |    |    |-- Level Editor: long (nullable = true)\n",
      " |    |    |-- Life Sim: long (nullable = true)\n",
      " |    |    |-- Linear: long (nullable = true)\n",
      " |    |    |-- Local Co-Op: long (nullable = true)\n",
      " |    |    |-- Local Multiplayer: long (nullable = true)\n",
      " |    |    |-- Logic: long (nullable = true)\n",
      " |    |    |-- Loot: long (nullable = true)\n",
      " |    |    |-- Looter Shooter: long (nullable = true)\n",
      " |    |    |-- Lore-Rich: long (nullable = true)\n",
      " |    |    |-- Lovecraftian: long (nullable = true)\n",
      " |    |    |-- MMORPG: long (nullable = true)\n",
      " |    |    |-- MOBA: long (nullable = true)\n",
      " |    |    |-- Magic: long (nullable = true)\n",
      " |    |    |-- Mahjong: long (nullable = true)\n",
      " |    |    |-- Management: long (nullable = true)\n",
      " |    |    |-- Mars: long (nullable = true)\n",
      " |    |    |-- Martial Arts: long (nullable = true)\n",
      " |    |    |-- Massively Multiplayer: long (nullable = true)\n",
      " |    |    |-- Masterpiece: long (nullable = true)\n",
      " |    |    |-- Match 3: long (nullable = true)\n",
      " |    |    |-- Mature: long (nullable = true)\n",
      " |    |    |-- Mechs: long (nullable = true)\n",
      " |    |    |-- Medical Sim: long (nullable = true)\n",
      " |    |    |-- Medieval: long (nullable = true)\n",
      " |    |    |-- Memes: long (nullable = true)\n",
      " |    |    |-- Metroidvania: long (nullable = true)\n",
      " |    |    |-- Military: long (nullable = true)\n",
      " |    |    |-- Mini Golf: long (nullable = true)\n",
      " |    |    |-- Minigames: long (nullable = true)\n",
      " |    |    |-- Minimalist: long (nullable = true)\n",
      " |    |    |-- Mining: long (nullable = true)\n",
      " |    |    |-- Mod: long (nullable = true)\n",
      " |    |    |-- Moddable: long (nullable = true)\n",
      " |    |    |-- Modern: long (nullable = true)\n",
      " |    |    |-- Motocross: long (nullable = true)\n",
      " |    |    |-- Motorbike: long (nullable = true)\n",
      " |    |    |-- Mouse only: long (nullable = true)\n",
      " |    |    |-- Movie: long (nullable = true)\n",
      " |    |    |-- Multiplayer: long (nullable = true)\n",
      " |    |    |-- Multiple Endings: long (nullable = true)\n",
      " |    |    |-- Music: long (nullable = true)\n",
      " |    |    |-- Music-Based Procedural Generation: long (nullable = true)\n",
      " |    |    |-- Musou: long (nullable = true)\n",
      " |    |    |-- Mystery: long (nullable = true)\n",
      " |    |    |-- Mystery Dungeon: long (nullable = true)\n",
      " |    |    |-- Mythology: long (nullable = true)\n",
      " |    |    |-- NSFW: long (nullable = true)\n",
      " |    |    |-- Narration: long (nullable = true)\n",
      " |    |    |-- Narrative: long (nullable = true)\n",
      " |    |    |-- Nature: long (nullable = true)\n",
      " |    |    |-- Naval: long (nullable = true)\n",
      " |    |    |-- Naval Combat: long (nullable = true)\n",
      " |    |    |-- Ninja: long (nullable = true)\n",
      " |    |    |-- Noir: long (nullable = true)\n",
      " |    |    |-- Nonlinear: long (nullable = true)\n",
      " |    |    |-- Nostalgia: long (nullable = true)\n",
      " |    |    |-- Nudity: long (nullable = true)\n",
      " |    |    |-- Offroad: long (nullable = true)\n",
      " |    |    |-- Old School: long (nullable = true)\n",
      " |    |    |-- On-Rails Shooter: long (nullable = true)\n",
      " |    |    |-- Online Co-Op: long (nullable = true)\n",
      " |    |    |-- Open World: long (nullable = true)\n",
      " |    |    |-- Open World Survival Craft: long (nullable = true)\n",
      " |    |    |-- Otome: long (nullable = true)\n",
      " |    |    |-- Outbreak Sim: long (nullable = true)\n",
      " |    |    |-- Parkour: long (nullable = true)\n",
      " |    |    |-- Parody : long (nullable = true)\n",
      " |    |    |-- Party: long (nullable = true)\n",
      " |    |    |-- Party Game: long (nullable = true)\n",
      " |    |    |-- Party-Based RPG: long (nullable = true)\n",
      " |    |    |-- Perma Death: long (nullable = true)\n",
      " |    |    |-- Philosophical: long (nullable = true)\n",
      " |    |    |-- Photo Editing: long (nullable = true)\n",
      " |    |    |-- Physics: long (nullable = true)\n",
      " |    |    |-- Pinball: long (nullable = true)\n",
      " |    |    |-- Pirates: long (nullable = true)\n",
      " |    |    |-- Pixel Graphics: long (nullable = true)\n",
      " |    |    |-- Platformer: long (nullable = true)\n",
      " |    |    |-- Point & Click: long (nullable = true)\n",
      " |    |    |-- Political: long (nullable = true)\n",
      " |    |    |-- Political Sim: long (nullable = true)\n",
      " |    |    |-- Politics: long (nullable = true)\n",
      " |    |    |-- Pool: long (nullable = true)\n",
      " |    |    |-- Post-apocalyptic: long (nullable = true)\n",
      " |    |    |-- Precision Platformer: long (nullable = true)\n",
      " |    |    |-- Procedural Generation: long (nullable = true)\n",
      " |    |    |-- Programming: long (nullable = true)\n",
      " |    |    |-- Psychedelic: long (nullable = true)\n",
      " |    |    |-- Psychological: long (nullable = true)\n",
      " |    |    |-- Psychological Horror: long (nullable = true)\n",
      " |    |    |-- Puzzle: long (nullable = true)\n",
      " |    |    |-- Puzzle-Platformer: long (nullable = true)\n",
      " |    |    |-- PvE: long (nullable = true)\n",
      " |    |    |-- PvP: long (nullable = true)\n",
      " |    |    |-- Quick-Time Events: long (nullable = true)\n",
      " |    |    |-- RPG: long (nullable = true)\n",
      " |    |    |-- RPGMaker: long (nullable = true)\n",
      " |    |    |-- RTS: long (nullable = true)\n",
      " |    |    |-- Racing: long (nullable = true)\n",
      " |    |    |-- Real Time Tactics: long (nullable = true)\n",
      " |    |    |-- Real-Time: long (nullable = true)\n",
      " |    |    |-- Real-Time with Pause: long (nullable = true)\n",
      " |    |    |-- Realistic: long (nullable = true)\n",
      " |    |    |-- Reboot: long (nullable = true)\n",
      " |    |    |-- Relaxing: long (nullable = true)\n",
      " |    |    |-- Remake: long (nullable = true)\n",
      " |    |    |-- Replay Value: long (nullable = true)\n",
      " |    |    |-- Resource Management: long (nullable = true)\n",
      " |    |    |-- Retro: long (nullable = true)\n",
      " |    |    |-- Rhythm: long (nullable = true)\n",
      " |    |    |-- Robots: long (nullable = true)\n",
      " |    |    |-- Rock Music: long (nullable = true)\n",
      " |    |    |-- Rogue-like: long (nullable = true)\n",
      " |    |    |-- Rogue-lite: long (nullable = true)\n",
      " |    |    |-- Roguelike Deckbuilder: long (nullable = true)\n",
      " |    |    |-- Roguevania: long (nullable = true)\n",
      " |    |    |-- Romance: long (nullable = true)\n",
      " |    |    |-- Rome: long (nullable = true)\n",
      " |    |    |-- Rugby: long (nullable = true)\n",
      " |    |    |-- Runner: long (nullable = true)\n",
      " |    |    |-- Sailing: long (nullable = true)\n",
      " |    |    |-- Sandbox: long (nullable = true)\n",
      " |    |    |-- Satire: long (nullable = true)\n",
      " |    |    |-- Sci-fi: long (nullable = true)\n",
      " |    |    |-- Science: long (nullable = true)\n",
      " |    |    |-- Score Attack: long (nullable = true)\n",
      " |    |    |-- Sequel: long (nullable = true)\n",
      " |    |    |-- Sexual Content: long (nullable = true)\n",
      " |    |    |-- Shoot 'Em Up: long (nullable = true)\n",
      " |    |    |-- Shooter: long (nullable = true)\n",
      " |    |    |-- Shop Keeper: long (nullable = true)\n",
      " |    |    |-- Short: long (nullable = true)\n",
      " |    |    |-- Side Scroller: long (nullable = true)\n",
      " |    |    |-- Silent Protagonist: long (nullable = true)\n",
      " |    |    |-- Simulation: long (nullable = true)\n",
      " |    |    |-- Singleplayer: long (nullable = true)\n",
      " |    |    |-- Skateboarding: long (nullable = true)\n",
      " |    |    |-- Skating: long (nullable = true)\n",
      " |    |    |-- Skiing: long (nullable = true)\n",
      " |    |    |-- Sniper: long (nullable = true)\n",
      " |    |    |-- Snooker: long (nullable = true)\n",
      " |    |    |-- Snow: long (nullable = true)\n",
      " |    |    |-- Snowboarding: long (nullable = true)\n",
      " |    |    |-- Soccer: long (nullable = true)\n",
      " |    |    |-- Social Deduction: long (nullable = true)\n",
      " |    |    |-- Software: long (nullable = true)\n",
      " |    |    |-- Software Training: long (nullable = true)\n",
      " |    |    |-- Sokoban: long (nullable = true)\n",
      " |    |    |-- Solitaire: long (nullable = true)\n",
      " |    |    |-- Souls-like: long (nullable = true)\n",
      " |    |    |-- Soundtrack: long (nullable = true)\n",
      " |    |    |-- Space: long (nullable = true)\n",
      " |    |    |-- Space Sim: long (nullable = true)\n",
      " |    |    |-- Spaceships: long (nullable = true)\n",
      " |    |    |-- Spectacle fighter: long (nullable = true)\n",
      " |    |    |-- Spelling: long (nullable = true)\n",
      " |    |    |-- Split Screen: long (nullable = true)\n",
      " |    |    |-- Sports: long (nullable = true)\n",
      " |    |    |-- Stealth: long (nullable = true)\n",
      " |    |    |-- Steam Machine: long (nullable = true)\n",
      " |    |    |-- Steampunk: long (nullable = true)\n",
      " |    |    |-- Story Rich: long (nullable = true)\n",
      " |    |    |-- Strategy: long (nullable = true)\n",
      " |    |    |-- Strategy RPG: long (nullable = true)\n",
      " |    |    |-- Stylized: long (nullable = true)\n",
      " |    |    |-- Submarine: long (nullable = true)\n",
      " |    |    |-- Superhero: long (nullable = true)\n",
      " |    |    |-- Supernatural: long (nullable = true)\n",
      " |    |    |-- Surreal: long (nullable = true)\n",
      " |    |    |-- Survival: long (nullable = true)\n",
      " |    |    |-- Survival Horror: long (nullable = true)\n",
      " |    |    |-- Swordplay: long (nullable = true)\n",
      " |    |    |-- Tabletop: long (nullable = true)\n",
      " |    |    |-- Tactical: long (nullable = true)\n",
      " |    |    |-- Tactical RPG: long (nullable = true)\n",
      " |    |    |-- Tanks: long (nullable = true)\n",
      " |    |    |-- Team-Based: long (nullable = true)\n",
      " |    |    |-- Tennis: long (nullable = true)\n",
      " |    |    |-- Text-Based: long (nullable = true)\n",
      " |    |    |-- Third Person: long (nullable = true)\n",
      " |    |    |-- Third-Person Shooter: long (nullable = true)\n",
      " |    |    |-- Thriller: long (nullable = true)\n",
      " |    |    |-- Tile-Matching: long (nullable = true)\n",
      " |    |    |-- Time Attack: long (nullable = true)\n",
      " |    |    |-- Time Management: long (nullable = true)\n",
      " |    |    |-- Time Manipulation: long (nullable = true)\n",
      " |    |    |-- Time Travel: long (nullable = true)\n",
      " |    |    |-- Top-Down: long (nullable = true)\n",
      " |    |    |-- Top-Down Shooter: long (nullable = true)\n",
      " |    |    |-- Touch-Friendly: long (nullable = true)\n",
      " |    |    |-- Tower Defense: long (nullable = true)\n",
      " |    |    |-- TrackIR: long (nullable = true)\n",
      " |    |    |-- Trading: long (nullable = true)\n",
      " |    |    |-- Trading Card Game: long (nullable = true)\n",
      " |    |    |-- Traditional Roguelike: long (nullable = true)\n",
      " |    |    |-- Trains: long (nullable = true)\n",
      " |    |    |-- Transhumanism: long (nullable = true)\n",
      " |    |    |-- Transportation: long (nullable = true)\n",
      " |    |    |-- Trivia: long (nullable = true)\n",
      " |    |    |-- Turn-Based: long (nullable = true)\n",
      " |    |    |-- Turn-Based Combat: long (nullable = true)\n",
      " |    |    |-- Turn-Based Strategy: long (nullable = true)\n",
      " |    |    |-- Turn-Based Tactics: long (nullable = true)\n",
      " |    |    |-- Tutorial: long (nullable = true)\n",
      " |    |    |-- Twin Stick Shooter: long (nullable = true)\n",
      " |    |    |-- Typing: long (nullable = true)\n",
      " |    |    |-- Underground: long (nullable = true)\n",
      " |    |    |-- Underwater: long (nullable = true)\n",
      " |    |    |-- Unforgiving: long (nullable = true)\n",
      " |    |    |-- Utilities: long (nullable = true)\n",
      " |    |    |-- VR: long (nullable = true)\n",
      " |    |    |-- VR Only: long (nullable = true)\n",
      " |    |    |-- Vampire: long (nullable = true)\n",
      " |    |    |-- Vehicular Combat: long (nullable = true)\n",
      " |    |    |-- Video Production: long (nullable = true)\n",
      " |    |    |-- Vikings: long (nullable = true)\n",
      " |    |    |-- Villain Protagonist: long (nullable = true)\n",
      " |    |    |-- Violent: long (nullable = true)\n",
      " |    |    |-- Visual Novel: long (nullable = true)\n",
      " |    |    |-- Voice Control: long (nullable = true)\n",
      " |    |    |-- Volleyball: long (nullable = true)\n",
      " |    |    |-- Voxel: long (nullable = true)\n",
      " |    |    |-- Walking Simulator: long (nullable = true)\n",
      " |    |    |-- War: long (nullable = true)\n",
      " |    |    |-- Wargame: long (nullable = true)\n",
      " |    |    |-- Warhammer 40K: long (nullable = true)\n",
      " |    |    |-- Web Publishing: long (nullable = true)\n",
      " |    |    |-- Well-Written: long (nullable = true)\n",
      " |    |    |-- Werewolves: long (nullable = true)\n",
      " |    |    |-- Western: long (nullable = true)\n",
      " |    |    |-- Wholesome: long (nullable = true)\n",
      " |    |    |-- Word Game: long (nullable = true)\n",
      " |    |    |-- World War I: long (nullable = true)\n",
      " |    |    |-- World War II: long (nullable = true)\n",
      " |    |    |-- Wrestling: long (nullable = true)\n",
      " |    |    |-- Zombies: long (nullable = true)\n",
      " |    |    |-- e-sports: long (nullable = true)\n",
      " |    |-- type: string (nullable = true)\n",
      " |    |-- website: string (nullable = true)\n",
      " |-- id: string (nullable = true)\n",
      " |-- language: string (nullable = false)\n",
      "\n",
      "+--------------------+-------+--------------------+\n",
      "|                data|     id|            language|\n",
      "+--------------------+-------+--------------------+\n",
      "|{10, [Multi-playe...|     10|             English|\n",
      "|{10, [Multi-playe...|     10|              French|\n",
      "|{10, [Multi-playe...|     10|              German|\n",
      "|{10, [Multi-playe...|     10|             Italian|\n",
      "|{10, [Multi-playe...|     10|     Spanish - Spain|\n",
      "|{10, [Multi-playe...|     10|  Simplified Chinese|\n",
      "|{10, [Multi-playe...|     10| Traditional Chinese|\n",
      "|{10, [Multi-playe...|     10|              Korean|\n",
      "|{1000000, [Single...|1000000|             English|\n",
      "|{1000000, [Single...|1000000|              Korean|\n",
      "|{1000000, [Single...|1000000|  Simplified Chinese|\n",
      "|{1000010, [Single...|1000010|  Simplified Chinese|\n",
      "|{1000010, [Single...|1000010|             English|\n",
      "|{1000010, [Single...|1000010|            Japanese|\n",
      "|{1000010, [Single...|1000010| Traditional Chinese|\n",
      "|{1000010, [Single...|1000010|              French|\n",
      "|{1000010, [Single...|1000010|              German|\n",
      "|{1000010, [Single...|1000010|     Spanish - Spain|\n",
      "|{1000010, [Single...|1000010|             Russian|\n",
      "|{1000010, [Single...|1000010| Portuguese - Brazil|\n",
      "+--------------------+-------+--------------------+\n",
      "only showing top 20 rows\n",
      "\n"
     ]
    }
   ],
   "source": [
    "# explode \"language\" column\n",
    "df_lang_explode = language_explode.withColumn(\"language\", explode(\"language\"))\n",
    "df_lang_explode.printSchema()\n",
    "df_lang_explode.show()"
   ]
  },
  {
   "cell_type": "markdown",
   "metadata": {
    "application/vnd.databricks.v1+cell": {
     "cellMetadata": {
      "byteLimit": 2048000,
      "rowLimit": 10000
     },
     "inputWidgets": {},
     "nuid": "7bdb1c15-cf48-4bd0-b5da-ab410ff5fe0f",
     "showTitle": false,
     "title": ""
    }
   },
   "source": [
    "##### Insight\n",
    "- English has 4 times more appearances than the next language!\n",
    "- Top 10 languages:"
   ]
  },
  {
   "cell_type": "code",
   "execution_count": null,
   "metadata": {
    "application/vnd.databricks.v1+cell": {
     "cellMetadata": {
      "byteLimit": 2048000,
      "rowLimit": 10000
     },
     "inputWidgets": {},
     "nuid": "b8ff2fb8-672b-4822-80de-f3717f2e75c3",
     "showTitle": false,
     "title": ""
    }
   },
   "outputs": [
    {
     "name": "stdout",
     "output_type": "stream",
     "text": [
      "+--------------------+-----+\n",
      "|            language|count|\n",
      "+--------------------+-----+\n",
      "|             English|54646|\n",
      "|              German|13996|\n",
      "|              French|13406|\n",
      "|             Russian|12839|\n",
      "|     Spanish - Spain|12224|\n",
      "|  Simplified Chinese|12213|\n",
      "|            Japanese|10170|\n",
      "|             Italian| 9297|\n",
      "| Portuguese - Brazil| 6739|\n",
      "|              Korean| 6575|\n",
      "+--------------------+-----+\n",
      "only showing top 10 rows\n",
      "\n"
     ]
    }
   ],
   "source": [
    "# show top 10 languages\n",
    "df_lang_explode.groupBy(\"language\").count().orderBy(desc(\"count\")).show(10)"
   ]
  },
  {
   "cell_type": "markdown",
   "metadata": {
    "application/vnd.databricks.v1+cell": {
     "cellMetadata": {
      "byteLimit": 2048000,
      "rowLimit": 10000
     },
     "inputWidgets": {},
     "nuid": "d0adcb14-518e-421d-b575-474d15bf2ec6",
     "showTitle": false,
     "title": ""
    }
   },
   "source": [
    "### Are there many games prohibited for children under 16/18?"
   ]
  },
  {
   "cell_type": "code",
   "execution_count": null,
   "metadata": {
    "application/vnd.databricks.v1+cell": {
     "cellMetadata": {
      "byteLimit": 2048000,
      "rowLimit": 10000
     },
     "inputWidgets": {},
     "nuid": "3856d8b9-ac77-4747-bd65-b8805e72c9ca",
     "showTitle": false,
     "title": ""
    }
   },
   "outputs": [
    {
     "name": "stdout",
     "output_type": "stream",
     "text": [
      "root\n",
      " |-- required_age: integer (nullable = true)\n",
      "\n"
     ]
    }
   ],
   "source": [
    "# select required_age column and convert it to integer\n",
    "required_age = df.select(\"data.required_age\")\n",
    "required_age = required_age.withColumn(\"required_age\", col(\"required_age\").cast(IntegerType()))\n",
    "required_age.printSchema()"
   ]
  },
  {
   "cell_type": "code",
   "execution_count": null,
   "metadata": {
    "application/vnd.databricks.v1+cell": {
     "cellMetadata": {
      "byteLimit": 2048000,
      "rowLimit": 10000
     },
     "inputWidgets": {},
     "nuid": "4f140296-d998-4233-b609-82d991a68b80",
     "showTitle": false,
     "title": ""
    }
   },
   "outputs": [
    {
     "name": "stdout",
     "output_type": "stream",
     "text": [
      "Out[46]: DataFrame[summary: string, required_age: string]"
     ]
    }
   ],
   "source": [
    "# statistics\n",
    "required_age.describe()"
   ]
  },
  {
   "cell_type": "code",
   "execution_count": null,
   "metadata": {
    "application/vnd.databricks.v1+cell": {
     "cellMetadata": {
      "byteLimit": 2048000,
      "rowLimit": 10000
     },
     "inputWidgets": {},
     "nuid": "0bcb7fc6-cda4-4ac9-a433-248469a97a91",
     "showTitle": false,
     "title": ""
    }
   },
   "outputs": [
    {
     "name": "stdout",
     "output_type": "stream",
     "text": [
      "{16: 267, 18: 6}"
     ]
    }
   ],
   "source": [
    "# amount of games that require an age higher than ages 16 and 18\n",
    "\n",
    "# for loop, for selected ages append to empty dict the quantity of games having that age restriction\n",
    "ages = [16, 18]\n",
    "required_age_dict = {}\n",
    "\n",
    "for age in ages:\n",
    "    required_age_dict[age] = required_age.filter(required_age[\"required_age\" ] > age).count()\n",
    "\n",
    "display(required_age_dict)"
   ]
  },
  {
   "cell_type": "markdown",
   "metadata": {
    "application/vnd.databricks.v1+cell": {
     "cellMetadata": {
      "byteLimit": 2048000,
      "rowLimit": 10000
     },
     "inputWidgets": {},
     "nuid": "ef72a75d-e8f2-4810-be9f-c3913519adf3",
     "showTitle": false,
     "title": ""
    }
   },
   "source": [
    "##### Insight\n",
    "- 98.82% of games do not have age restriction, they are for everyone as it is 0.\n",
    "- 267 games require an age higher than 16, while only 6 require an age higher than 18."
   ]
  },
  {
   "cell_type": "markdown",
   "metadata": {
    "application/vnd.databricks.v1+cell": {
     "cellMetadata": {
      "byteLimit": 2048000,
      "rowLimit": 10000
     },
     "inputWidgets": {},
     "nuid": "a1097b4d-175a-4133-b81f-1a4c1daaa47e",
     "showTitle": false,
     "title": ""
    }
   },
   "source": [
    "### Genres Analysis\n",
    "- What are the most represented genres?\n",
    "\n",
    "- Are there any genres that have a better positive/negative review ratio?\n",
    "\n",
    "- Do some publishers have favorite genres?\n",
    "\n",
    "- What are the most lucrative genres?"
   ]
  },
  {
   "cell_type": "code",
   "execution_count": null,
   "metadata": {
    "application/vnd.databricks.v1+cell": {
     "cellMetadata": {
      "byteLimit": 2048000,
      "rowLimit": 10000
     },
     "inputWidgets": {},
     "nuid": "3c81e86f-365b-45c2-be11-92269564c49e",
     "showTitle": false,
     "title": ""
    }
   },
   "outputs": [
    {
     "name": "stdout",
     "output_type": "stream",
     "text": [
      "root\n",
      " |-- data: struct (nullable = true)\n",
      " |    |-- appid: long (nullable = true)\n",
      " |    |-- categories: array (nullable = true)\n",
      " |    |    |-- element: string (containsNull = true)\n",
      " |    |-- ccu: long (nullable = true)\n",
      " |    |-- developer: string (nullable = true)\n",
      " |    |-- discount: string (nullable = true)\n",
      " |    |-- genre: string (nullable = true)\n",
      " |    |-- header_image: string (nullable = true)\n",
      " |    |-- initialprice: string (nullable = true)\n",
      " |    |-- languages: string (nullable = true)\n",
      " |    |-- name: string (nullable = true)\n",
      " |    |-- negative: long (nullable = true)\n",
      " |    |-- owners: string (nullable = true)\n",
      " |    |-- platforms: struct (nullable = true)\n",
      " |    |    |-- linux: boolean (nullable = true)\n",
      " |    |    |-- mac: boolean (nullable = true)\n",
      " |    |    |-- windows: boolean (nullable = true)\n",
      " |    |-- positive: long (nullable = true)\n",
      " |    |-- price: string (nullable = true)\n",
      " |    |-- publisher: string (nullable = true)\n",
      " |    |-- release_date: string (nullable = true)\n",
      " |    |-- required_age: string (nullable = true)\n",
      " |    |-- short_description: string (nullable = true)\n",
      " |    |-- tags: struct (nullable = true)\n",
      " |    |    |-- 1980s: long (nullable = true)\n",
      " |    |    |-- 1990's: long (nullable = true)\n",
      " |    |    |-- 2.5D: long (nullable = true)\n",
      " |    |    |-- 2D: long (nullable = true)\n",
      " |    |    |-- 2D Fighter: long (nullable = true)\n",
      " |    |    |-- 2D Platformer: long (nullable = true)\n",
      " |    |    |-- 360 Video: long (nullable = true)\n",
      " |    |    |-- 3D: long (nullable = true)\n",
      " |    |    |-- 3D Fighter: long (nullable = true)\n",
      " |    |    |-- 3D Platformer: long (nullable = true)\n",
      " |    |    |-- 3D Vision: long (nullable = true)\n",
      " |    |    |-- 4 Player Local: long (nullable = true)\n",
      " |    |    |-- 4X: long (nullable = true)\n",
      " |    |    |-- 6DOF: long (nullable = true)\n",
      " |    |    |-- 8-bit Music: long (nullable = true)\n",
      " |    |    |-- ATV: long (nullable = true)\n",
      " |    |    |-- Abstract: long (nullable = true)\n",
      " |    |    |-- Action: long (nullable = true)\n",
      " |    |    |-- Action RPG: long (nullable = true)\n",
      " |    |    |-- Action RTS: long (nullable = true)\n",
      " |    |    |-- Action Roguelike: long (nullable = true)\n",
      " |    |    |-- Action-Adventure: long (nullable = true)\n",
      " |    |    |-- Addictive: long (nullable = true)\n",
      " |    |    |-- Adventure: long (nullable = true)\n",
      " |    |    |-- Agriculture: long (nullable = true)\n",
      " |    |    |-- Aliens: long (nullable = true)\n",
      " |    |    |-- Alternate History: long (nullable = true)\n",
      " |    |    |-- Ambient: long (nullable = true)\n",
      " |    |    |-- America: long (nullable = true)\n",
      " |    |    |-- Animation & Modeling: long (nullable = true)\n",
      " |    |    |-- Anime: long (nullable = true)\n",
      " |    |    |-- Arcade: long (nullable = true)\n",
      " |    |    |-- Archery: long (nullable = true)\n",
      " |    |    |-- Arena Shooter: long (nullable = true)\n",
      " |    |    |-- Artificial Intelligence: long (nullable = true)\n",
      " |    |    |-- Assassin: long (nullable = true)\n",
      " |    |    |-- Asymmetric VR: long (nullable = true)\n",
      " |    |    |-- Asynchronous Multiplayer: long (nullable = true)\n",
      " |    |    |-- Atmospheric: long (nullable = true)\n",
      " |    |    |-- Audio Production: long (nullable = true)\n",
      " |    |    |-- Auto Battler: long (nullable = true)\n",
      " |    |    |-- Automation: long (nullable = true)\n",
      " |    |    |-- Automobile Sim: long (nullable = true)\n",
      " |    |    |-- BMX: long (nullable = true)\n",
      " |    |    |-- Base-Building: long (nullable = true)\n",
      " |    |    |-- Baseball: long (nullable = true)\n",
      " |    |    |-- Based On A Novel: long (nullable = true)\n",
      " |    |    |-- Basketball: long (nullable = true)\n",
      " |    |    |-- Battle Royale: long (nullable = true)\n",
      " |    |    |-- Beat 'em up: long (nullable = true)\n",
      " |    |    |-- Beautiful: long (nullable = true)\n",
      " |    |    |-- Benchmark: long (nullable = true)\n",
      " |    |    |-- Bikes: long (nullable = true)\n",
      " |    |    |-- Blood: long (nullable = true)\n",
      " |    |    |-- Board Game: long (nullable = true)\n",
      " |    |    |-- Boss Rush: long (nullable = true)\n",
      " |    |    |-- Bowling: long (nullable = true)\n",
      " |    |    |-- Boxing: long (nullable = true)\n",
      " |    |    |-- Building: long (nullable = true)\n",
      " |    |    |-- Bullet Hell: long (nullable = true)\n",
      " |    |    |-- Bullet Time: long (nullable = true)\n",
      " |    |    |-- CRPG: long (nullable = true)\n",
      " |    |    |-- Capitalism: long (nullable = true)\n",
      " |    |    |-- Card Battler: long (nullable = true)\n",
      " |    |    |-- Card Game: long (nullable = true)\n",
      " |    |    |-- Cartoon: long (nullable = true)\n",
      " |    |    |-- Cartoony: long (nullable = true)\n",
      " |    |    |-- Casual: long (nullable = true)\n",
      " |    |    |-- Cats: long (nullable = true)\n",
      " |    |    |-- Character Action Game: long (nullable = true)\n",
      " |    |    |-- Character Customization: long (nullable = true)\n",
      " |    |    |-- Chess: long (nullable = true)\n",
      " |    |    |-- Choices Matter: long (nullable = true)\n",
      " |    |    |-- Choose Your Own Adventure: long (nullable = true)\n",
      " |    |    |-- Cinematic: long (nullable = true)\n",
      " |    |    |-- City Builder: long (nullable = true)\n",
      " |    |    |-- Class-Based: long (nullable = true)\n",
      " |    |    |-- Classic: long (nullable = true)\n",
      " |    |    |-- Clicker: long (nullable = true)\n",
      " |    |    |-- Co-op: long (nullable = true)\n",
      " |    |    |-- Co-op Campaign: long (nullable = true)\n",
      " |    |    |-- Coding: long (nullable = true)\n",
      " |    |    |-- Cold War: long (nullable = true)\n",
      " |    |    |-- Collectathon: long (nullable = true)\n",
      " |    |    |-- Colony Sim: long (nullable = true)\n",
      " |    |    |-- Colorful: long (nullable = true)\n",
      " |    |    |-- Combat: long (nullable = true)\n",
      " |    |    |-- Combat Racing: long (nullable = true)\n",
      " |    |    |-- Comedy: long (nullable = true)\n",
      " |    |    |-- Comic Book: long (nullable = true)\n",
      " |    |    |-- Competitive: long (nullable = true)\n",
      " |    |    |-- Conspiracy: long (nullable = true)\n",
      " |    |    |-- Controller: long (nullable = true)\n",
      " |    |    |-- Conversation: long (nullable = true)\n",
      " |    |    |-- Cooking: long (nullable = true)\n",
      " |    |    |-- Cozy: long (nullable = true)\n",
      " |    |    |-- Crafting: long (nullable = true)\n",
      " |    |    |-- Creature Collector: long (nullable = true)\n",
      " |    |    |-- Cricket: long (nullable = true)\n",
      " |    |    |-- Crime: long (nullable = true)\n",
      " |    |    |-- Crowdfunded: long (nullable = true)\n",
      " |    |    |-- Cult Classic: long (nullable = true)\n",
      " |    |    |-- Cute: long (nullable = true)\n",
      " |    |    |-- Cyberpunk: long (nullable = true)\n",
      " |    |    |-- Cycling: long (nullable = true)\n",
      " |    |    |-- Dark: long (nullable = true)\n",
      " |    |    |-- Dark Comedy: long (nullable = true)\n",
      " |    |    |-- Dark Fantasy: long (nullable = true)\n",
      " |    |    |-- Dark Humor: long (nullable = true)\n",
      " |    |    |-- Dating Sim: long (nullable = true)\n",
      " |    |    |-- Deckbuilding: long (nullable = true)\n",
      " |    |    |-- Demons: long (nullable = true)\n",
      " |    |    |-- Design & Illustration: long (nullable = true)\n",
      " |    |    |-- Destruction: long (nullable = true)\n",
      " |    |    |-- Detective: long (nullable = true)\n",
      " |    |    |-- Difficult: long (nullable = true)\n",
      " |    |    |-- Dinosaurs: long (nullable = true)\n",
      " |    |    |-- Diplomacy: long (nullable = true)\n",
      " |    |    |-- Documentary: long (nullable = true)\n",
      " |    |    |-- Dog: long (nullable = true)\n",
      " |    |    |-- Dragons: long (nullable = true)\n",
      " |    |    |-- Drama: long (nullable = true)\n",
      " |    |    |-- Driving: long (nullable = true)\n",
      " |    |    |-- Dungeon Crawler: long (nullable = true)\n",
      " |    |    |-- Dungeons & Dragons: long (nullable = true)\n",
      " |    |    |-- Dynamic Narration: long (nullable = true)\n",
      " |    |    |-- Dystopian : long (nullable = true)\n",
      " |    |    |-- Early Access: long (nullable = true)\n",
      " |    |    |-- Economy: long (nullable = true)\n",
      " |    |    |-- Education: long (nullable = true)\n",
      " |    |    |-- Electronic: long (nullable = true)\n",
      " |    |    |-- Electronic Music: long (nullable = true)\n",
      " |    |    |-- Emotional: long (nullable = true)\n",
      " |    |    |-- Epic: long (nullable = true)\n",
      " |    |    |-- Episodic: long (nullable = true)\n",
      " |    |    |-- Escape Room: long (nullable = true)\n",
      " |    |    |-- Experience: long (nullable = true)\n",
      " |    |    |-- Experimental: long (nullable = true)\n",
      " |    |    |-- Exploration: long (nullable = true)\n",
      " |    |    |-- FMV: long (nullable = true)\n",
      " |    |    |-- FPS: long (nullable = true)\n",
      " |    |    |-- Faith: long (nullable = true)\n",
      " |    |    |-- Family Friendly: long (nullable = true)\n",
      " |    |    |-- Fantasy: long (nullable = true)\n",
      " |    |    |-- Farming: long (nullable = true)\n",
      " |    |    |-- Farming Sim: long (nullable = true)\n",
      " |    |    |-- Fast-Paced: long (nullable = true)\n",
      " |    |    |-- Feature Film: long (nullable = true)\n",
      " |    |    |-- Female Protagonist: long (nullable = true)\n",
      " |    |    |-- Fighting: long (nullable = true)\n",
      " |    |    |-- First-Person: long (nullable = true)\n",
      " |    |    |-- Fishing: long (nullable = true)\n",
      " |    |    |-- Flight: long (nullable = true)\n",
      " |    |    |-- Football: long (nullable = true)\n",
      " |    |    |-- Foreign: long (nullable = true)\n",
      " |    |    |-- Free to Play: long (nullable = true)\n",
      " |    |    |-- Funny: long (nullable = true)\n",
      " |    |    |-- Futuristic: long (nullable = true)\n",
      " |    |    |-- Gambling: long (nullable = true)\n",
      " |    |    |-- Game Development: long (nullable = true)\n",
      " |    |    |-- GameMaker: long (nullable = true)\n",
      " |    |    |-- Games Workshop: long (nullable = true)\n",
      " |    |    |-- Gaming: long (nullable = true)\n",
      " |    |    |-- God Game: long (nullable = true)\n",
      " |    |    |-- Golf: long (nullable = true)\n",
      " |    |    |-- Gore: long (nullable = true)\n",
      " |    |    |-- Gothic: long (nullable = true)\n",
      " |    |    |-- Grand Strategy: long (nullable = true)\n",
      " |    |    |-- Great Soundtrack: long (nullable = true)\n",
      " |    |    |-- Grid-Based Movement: long (nullable = true)\n",
      " |    |    |-- Gun Customization: long (nullable = true)\n",
      " |    |    |-- Hack and Slash: long (nullable = true)\n",
      " |    |    |-- Hacking: long (nullable = true)\n",
      " |    |    |-- Hand-drawn: long (nullable = true)\n",
      " |    |    |-- Hardware: long (nullable = true)\n",
      " |    |    |-- Heist: long (nullable = true)\n",
      " |    |    |-- Hentai: long (nullable = true)\n",
      " |    |    |-- Hero Shooter: long (nullable = true)\n",
      " |    |    |-- Hex Grid: long (nullable = true)\n",
      " |    |    |-- Hidden Object: long (nullable = true)\n",
      " |    |    |-- Historical: long (nullable = true)\n",
      " |    |    |-- Hockey: long (nullable = true)\n",
      " |    |    |-- Horror: long (nullable = true)\n",
      " |    |    |-- Horses: long (nullable = true)\n",
      " |    |    |-- Hunting: long (nullable = true)\n",
      " |    |    |-- Idler: long (nullable = true)\n",
      " |    |    |-- Illuminati: long (nullable = true)\n",
      " |    |    |-- Immersive: long (nullable = true)\n",
      " |    |    |-- Immersive Sim: long (nullable = true)\n",
      " |    |    |-- Indie: long (nullable = true)\n",
      " |    |    |-- Instrumental Music: long (nullable = true)\n",
      " |    |    |-- Intentionally Awkward Controls: long (nullable = true)\n",
      " |    |    |-- Interactive Fiction: long (nullable = true)\n",
      " |    |    |-- Inventory Management: long (nullable = true)\n",
      " |    |    |-- Investigation: long (nullable = true)\n",
      " |    |    |-- Isometric: long (nullable = true)\n",
      " |    |    |-- JRPG: long (nullable = true)\n",
      " |    |    |-- Jet: long (nullable = true)\n",
      " |    |    |-- Job Simulator: long (nullable = true)\n",
      " |    |    |-- Jump Scare: long (nullable = true)\n",
      " |    |    |-- Kickstarter: long (nullable = true)\n",
      " |    |    |-- LEGO: long (nullable = true)\n",
      " |    |    |-- LGBTQ+: long (nullable = true)\n",
      " |    |    |-- Lemmings: long (nullable = true)\n",
      " |    |    |-- Level Editor: long (nullable = true)\n",
      " |    |    |-- Life Sim: long (nullable = true)\n",
      " |    |    |-- Linear: long (nullable = true)\n",
      " |    |    |-- Local Co-Op: long (nullable = true)\n",
      " |    |    |-- Local Multiplayer: long (nullable = true)\n",
      " |    |    |-- Logic: long (nullable = true)\n",
      " |    |    |-- Loot: long (nullable = true)\n",
      " |    |    |-- Looter Shooter: long (nullable = true)\n",
      " |    |    |-- Lore-Rich: long (nullable = true)\n",
      " |    |    |-- Lovecraftian: long (nullable = true)\n",
      " |    |    |-- MMORPG: long (nullable = true)\n",
      " |    |    |-- MOBA: long (nullable = true)\n",
      " |    |    |-- Magic: long (nullable = true)\n",
      " |    |    |-- Mahjong: long (nullable = true)\n",
      " |    |    |-- Management: long (nullable = true)\n",
      " |    |    |-- Mars: long (nullable = true)\n",
      " |    |    |-- Martial Arts: long (nullable = true)\n",
      " |    |    |-- Massively Multiplayer: long (nullable = true)\n",
      " |    |    |-- Masterpiece: long (nullable = true)\n",
      " |    |    |-- Match 3: long (nullable = true)\n",
      " |    |    |-- Mature: long (nullable = true)\n",
      " |    |    |-- Mechs: long (nullable = true)\n",
      " |    |    |-- Medical Sim: long (nullable = true)\n",
      " |    |    |-- Medieval: long (nullable = true)\n",
      " |    |    |-- Memes: long (nullable = true)\n",
      " |    |    |-- Metroidvania: long (nullable = true)\n",
      " |    |    |-- Military: long (nullable = true)\n",
      " |    |    |-- Mini Golf: long (nullable = true)\n",
      " |    |    |-- Minigames: long (nullable = true)\n",
      " |    |    |-- Minimalist: long (nullable = true)\n",
      " |    |    |-- Mining: long (nullable = true)\n",
      " |    |    |-- Mod: long (nullable = true)\n",
      " |    |    |-- Moddable: long (nullable = true)\n",
      " |    |    |-- Modern: long (nullable = true)\n",
      " |    |    |-- Motocross: long (nullable = true)\n",
      " |    |    |-- Motorbike: long (nullable = true)\n",
      " |    |    |-- Mouse only: long (nullable = true)\n",
      " |    |    |-- Movie: long (nullable = true)\n",
      " |    |    |-- Multiplayer: long (nullable = true)\n",
      " |    |    |-- Multiple Endings: long (nullable = true)\n",
      " |    |    |-- Music: long (nullable = true)\n",
      " |    |    |-- Music-Based Procedural Generation: long (nullable = true)\n",
      " |    |    |-- Musou: long (nullable = true)\n",
      " |    |    |-- Mystery: long (nullable = true)\n",
      " |    |    |-- Mystery Dungeon: long (nullable = true)\n",
      " |    |    |-- Mythology: long (nullable = true)\n",
      " |    |    |-- NSFW: long (nullable = true)\n",
      " |    |    |-- Narration: long (nullable = true)\n",
      " |    |    |-- Narrative: long (nullable = true)\n",
      " |    |    |-- Nature: long (nullable = true)\n",
      " |    |    |-- Naval: long (nullable = true)\n",
      " |    |    |-- Naval Combat: long (nullable = true)\n",
      " |    |    |-- Ninja: long (nullable = true)\n",
      " |    |    |-- Noir: long (nullable = true)\n",
      " |    |    |-- Nonlinear: long (nullable = true)\n",
      " |    |    |-- Nostalgia: long (nullable = true)\n",
      " |    |    |-- Nudity: long (nullable = true)\n",
      " |    |    |-- Offroad: long (nullable = true)\n",
      " |    |    |-- Old School: long (nullable = true)\n",
      " |    |    |-- On-Rails Shooter: long (nullable = true)\n",
      " |    |    |-- Online Co-Op: long (nullable = true)\n",
      " |    |    |-- Open World: long (nullable = true)\n",
      " |    |    |-- Open World Survival Craft: long (nullable = true)\n",
      " |    |    |-- Otome: long (nullable = true)\n",
      " |    |    |-- Outbreak Sim: long (nullable = true)\n",
      " |    |    |-- Parkour: long (nullable = true)\n",
      " |    |    |-- Parody : long (nullable = true)\n",
      " |    |    |-- Party: long (nullable = true)\n",
      " |    |    |-- Party Game: long (nullable = true)\n",
      " |    |    |-- Party-Based RPG: long (nullable = true)\n",
      " |    |    |-- Perma Death: long (nullable = true)\n",
      " |    |    |-- Philosophical: long (nullable = true)\n",
      " |    |    |-- Photo Editing: long (nullable = true)\n",
      " |    |    |-- Physics: long (nullable = true)\n",
      " |    |    |-- Pinball: long (nullable = true)\n",
      " |    |    |-- Pirates: long (nullable = true)\n",
      " |    |    |-- Pixel Graphics: long (nullable = true)\n",
      " |    |    |-- Platformer: long (nullable = true)\n",
      " |    |    |-- Point & Click: long (nullable = true)\n",
      " |    |    |-- Political: long (nullable = true)\n",
      " |    |    |-- Political Sim: long (nullable = true)\n",
      " |    |    |-- Politics: long (nullable = true)\n",
      " |    |    |-- Pool: long (nullable = true)\n",
      " |    |    |-- Post-apocalyptic: long (nullable = true)\n",
      " |    |    |-- Precision Platformer: long (nullable = true)\n",
      " |    |    |-- Procedural Generation: long (nullable = true)\n",
      " |    |    |-- Programming: long (nullable = true)\n",
      " |    |    |-- Psychedelic: long (nullable = true)\n",
      " |    |    |-- Psychological: long (nullable = true)\n",
      " |    |    |-- Psychological Horror: long (nullable = true)\n",
      " |    |    |-- Puzzle: long (nullable = true)\n",
      " |    |    |-- Puzzle-Platformer: long (nullable = true)\n",
      " |    |    |-- PvE: long (nullable = true)\n",
      " |    |    |-- PvP: long (nullable = true)\n",
      " |    |    |-- Quick-Time Events: long (nullable = true)\n",
      " |    |    |-- RPG: long (nullable = true)\n",
      " |    |    |-- RPGMaker: long (nullable = true)\n",
      " |    |    |-- RTS: long (nullable = true)\n",
      " |    |    |-- Racing: long (nullable = true)\n",
      " |    |    |-- Real Time Tactics: long (nullable = true)\n",
      " |    |    |-- Real-Time: long (nullable = true)\n",
      " |    |    |-- Real-Time with Pause: long (nullable = true)\n",
      " |    |    |-- Realistic: long (nullable = true)\n",
      " |    |    |-- Reboot: long (nullable = true)\n",
      " |    |    |-- Relaxing: long (nullable = true)\n",
      " |    |    |-- Remake: long (nullable = true)\n",
      " |    |    |-- Replay Value: long (nullable = true)\n",
      " |    |    |-- Resource Management: long (nullable = true)\n",
      " |    |    |-- Retro: long (nullable = true)\n",
      " |    |    |-- Rhythm: long (nullable = true)\n",
      " |    |    |-- Robots: long (nullable = true)\n",
      " |    |    |-- Rock Music: long (nullable = true)\n",
      " |    |    |-- Rogue-like: long (nullable = true)\n",
      " |    |    |-- Rogue-lite: long (nullable = true)\n",
      " |    |    |-- Roguelike Deckbuilder: long (nullable = true)\n",
      " |    |    |-- Roguevania: long (nullable = true)\n",
      " |    |    |-- Romance: long (nullable = true)\n",
      " |    |    |-- Rome: long (nullable = true)\n",
      " |    |    |-- Rugby: long (nullable = true)\n",
      " |    |    |-- Runner: long (nullable = true)\n",
      " |    |    |-- Sailing: long (nullable = true)\n",
      " |    |    |-- Sandbox: long (nullable = true)\n",
      " |    |    |-- Satire: long (nullable = true)\n",
      " |    |    |-- Sci-fi: long (nullable = true)\n",
      " |    |    |-- Science: long (nullable = true)\n",
      " |    |    |-- Score Attack: long (nullable = true)\n",
      " |    |    |-- Sequel: long (nullable = true)\n",
      " |    |    |-- Sexual Content: long (nullable = true)\n",
      " |    |    |-- Shoot 'Em Up: long (nullable = true)\n",
      " |    |    |-- Shooter: long (nullable = true)\n",
      " |    |    |-- Shop Keeper: long (nullable = true)\n",
      " |    |    |-- Short: long (nullable = true)\n",
      " |    |    |-- Side Scroller: long (nullable = true)\n",
      " |    |    |-- Silent Protagonist: long (nullable = true)\n",
      " |    |    |-- Simulation: long (nullable = true)\n",
      " |    |    |-- Singleplayer: long (nullable = true)\n",
      " |    |    |-- Skateboarding: long (nullable = true)\n",
      " |    |    |-- Skating: long (nullable = true)\n",
      " |    |    |-- Skiing: long (nullable = true)\n",
      " |    |    |-- Sniper: long (nullable = true)\n",
      " |    |    |-- Snooker: long (nullable = true)\n",
      " |    |    |-- Snow: long (nullable = true)\n",
      " |    |    |-- Snowboarding: long (nullable = true)\n",
      " |    |    |-- Soccer: long (nullable = true)\n",
      " |    |    |-- Social Deduction: long (nullable = true)\n",
      " |    |    |-- Software: long (nullable = true)\n",
      " |    |    |-- Software Training: long (nullable = true)\n",
      " |    |    |-- Sokoban: long (nullable = true)\n",
      " |    |    |-- Solitaire: long (nullable = true)\n",
      " |    |    |-- Souls-like: long (nullable = true)\n",
      " |    |    |-- Soundtrack: long (nullable = true)\n",
      " |    |    |-- Space: long (nullable = true)\n",
      " |    |    |-- Space Sim: long (nullable = true)\n",
      " |    |    |-- Spaceships: long (nullable = true)\n",
      " |    |    |-- Spectacle fighter: long (nullable = true)\n",
      " |    |    |-- Spelling: long (nullable = true)\n",
      " |    |    |-- Split Screen: long (nullable = true)\n",
      " |    |    |-- Sports: long (nullable = true)\n",
      " |    |    |-- Stealth: long (nullable = true)\n",
      " |    |    |-- Steam Machine: long (nullable = true)\n",
      " |    |    |-- Steampunk: long (nullable = true)\n",
      " |    |    |-- Story Rich: long (nullable = true)\n",
      " |    |    |-- Strategy: long (nullable = true)\n",
      " |    |    |-- Strategy RPG: long (nullable = true)\n",
      " |    |    |-- Stylized: long (nullable = true)\n",
      " |    |    |-- Submarine: long (nullable = true)\n",
      " |    |    |-- Superhero: long (nullable = true)\n",
      " |    |    |-- Supernatural: long (nullable = true)\n",
      " |    |    |-- Surreal: long (nullable = true)\n",
      " |    |    |-- Survival: long (nullable = true)\n",
      " |    |    |-- Survival Horror: long (nullable = true)\n",
      " |    |    |-- Swordplay: long (nullable = true)\n",
      " |    |    |-- Tabletop: long (nullable = true)\n",
      " |    |    |-- Tactical: long (nullable = true)\n",
      " |    |    |-- Tactical RPG: long (nullable = true)\n",
      " |    |    |-- Tanks: long (nullable = true)\n",
      " |    |    |-- Team-Based: long (nullable = true)\n",
      " |    |    |-- Tennis: long (nullable = true)\n",
      " |    |    |-- Text-Based: long (nullable = true)\n",
      " |    |    |-- Third Person: long (nullable = true)\n",
      " |    |    |-- Third-Person Shooter: long (nullable = true)\n",
      " |    |    |-- Thriller: long (nullable = true)\n",
      " |    |    |-- Tile-Matching: long (nullable = true)\n",
      " |    |    |-- Time Attack: long (nullable = true)\n",
      " |    |    |-- Time Management: long (nullable = true)\n",
      " |    |    |-- Time Manipulation: long (nullable = true)\n",
      " |    |    |-- Time Travel: long (nullable = true)\n",
      " |    |    |-- Top-Down: long (nullable = true)\n",
      " |    |    |-- Top-Down Shooter: long (nullable = true)\n",
      " |    |    |-- Touch-Friendly: long (nullable = true)\n",
      " |    |    |-- Tower Defense: long (nullable = true)\n",
      " |    |    |-- TrackIR: long (nullable = true)\n",
      " |    |    |-- Trading: long (nullable = true)\n",
      " |    |    |-- Trading Card Game: long (nullable = true)\n",
      " |    |    |-- Traditional Roguelike: long (nullable = true)\n",
      " |    |    |-- Trains: long (nullable = true)\n",
      " |    |    |-- Transhumanism: long (nullable = true)\n",
      " |    |    |-- Transportation: long (nullable = true)\n",
      " |    |    |-- Trivia: long (nullable = true)\n",
      " |    |    |-- Turn-Based: long (nullable = true)\n",
      " |    |    |-- Turn-Based Combat: long (nullable = true)\n",
      " |    |    |-- Turn-Based Strategy: long (nullable = true)\n",
      " |    |    |-- Turn-Based Tactics: long (nullable = true)\n",
      " |    |    |-- Tutorial: long (nullable = true)\n",
      " |    |    |-- Twin Stick Shooter: long (nullable = true)\n",
      " |    |    |-- Typing: long (nullable = true)\n",
      " |    |    |-- Underground: long (nullable = true)\n",
      " |    |    |-- Underwater: long (nullable = true)\n",
      " |    |    |-- Unforgiving: long (nullable = true)\n",
      " |    |    |-- Utilities: long (nullable = true)\n",
      " |    |    |-- VR: long (nullable = true)\n",
      " |    |    |-- VR Only: long (nullable = true)\n",
      " |    |    |-- Vampire: long (nullable = true)\n",
      " |    |    |-- Vehicular Combat: long (nullable = true)\n",
      " |    |    |-- Video Production: long (nullable = true)\n",
      " |    |    |-- Vikings: long (nullable = true)\n",
      " |    |    |-- Villain Protagonist: long (nullable = true)\n",
      " |    |    |-- Violent: long (nullable = true)\n",
      " |    |    |-- Visual Novel: long (nullable = true)\n",
      " |    |    |-- Voice Control: long (nullable = true)\n",
      " |    |    |-- Volleyball: long (nullable = true)\n",
      " |    |    |-- Voxel: long (nullable = true)\n",
      " |    |    |-- Walking Simulator: long (nullable = true)\n",
      " |    |    |-- War: long (nullable = true)\n",
      " |    |    |-- Wargame: long (nullable = true)\n",
      " |    |    |-- Warhammer 40K: long (nullable = true)\n",
      " |    |    |-- Web Publishing: long (nullable = true)\n",
      " |    |    |-- Well-Written: long (nullable = true)\n",
      " |    |    |-- Werewolves: long (nullable = true)\n",
      " |    |    |-- Western: long (nullable = true)\n",
      " |    |    |-- Wholesome: long (nullable = true)\n",
      " |    |    |-- Word Game: long (nullable = true)\n",
      " |    |    |-- World War I: long (nullable = true)\n",
      " |    |    |-- World War II: long (nullable = true)\n",
      " |    |    |-- Wrestling: long (nullable = true)\n",
      " |    |    |-- Zombies: long (nullable = true)\n",
      " |    |    |-- e-sports: long (nullable = true)\n",
      " |    |-- type: string (nullable = true)\n",
      " |    |-- website: string (nullable = true)\n",
      " |-- id: string (nullable = true)\n",
      " |-- genre: string (nullable = false)\n",
      "\n",
      "+--------------------+-------+-----------+\n",
      "|                data|     id|      genre|\n",
      "+--------------------+-------+-----------+\n",
      "|{10, [Multi-playe...|     10|     Action|\n",
      "|{1000000, [Single...|1000000|     Action|\n",
      "|{1000000, [Single...|1000000|  Adventure|\n",
      "|{1000000, [Single...|1000000|      Indie|\n",
      "|{1000010, [Single...|1000010|  Adventure|\n",
      "|{1000010, [Single...|1000010|      Indie|\n",
      "|{1000010, [Single...|1000010|        RPG|\n",
      "|{1000010, [Single...|1000010|   Strategy|\n",
      "|{1000030, [Multi-...|1000030|     Action|\n",
      "|{1000030, [Multi-...|1000030|      Indie|\n",
      "|{1000030, [Multi-...|1000030| Simulation|\n",
      "|{1000030, [Multi-...|1000030|   Strategy|\n",
      "|{1000040, [Single...|1000040|     Action|\n",
      "|{1000040, [Single...|1000040|     Casual|\n",
      "|{1000040, [Single...|1000040|      Indie|\n",
      "|{1000040, [Single...|1000040| Simulation|\n",
      "|{1000080, [Multi-...|1000080|     Action|\n",
      "|{1000080, [Multi-...|1000080|  Adventure|\n",
      "|{1000080, [Multi-...|1000080|      Indie|\n",
      "|{1000080, [Multi-...|1000080|        RPG|\n",
      "+--------------------+-------+-----------+\n",
      "only showing top 20 rows\n",
      "\n"
     ]
    }
   ],
   "source": [
    "# explode \"genre\" column\n",
    "genre_explode = df.withColumn(\"genre\", split(df[\"data.genre\"], \",\"))\n",
    "df_genre_explode = genre_explode.withColumn(\"genre\", explode(\"genre\"))\n",
    "df_genre_explode.printSchema()\n",
    "df_genre_explode.show()"
   ]
  },
  {
   "cell_type": "markdown",
   "metadata": {
    "application/vnd.databricks.v1+cell": {
     "cellMetadata": {
      "byteLimit": 2048000,
      "rowLimit": 10000
     },
     "inputWidgets": {},
     "nuid": "57352bf1-680b-471d-bb41-459f405b779c",
     "showTitle": false,
     "title": ""
    }
   },
   "source": [
    "#### What are the most represented genres?"
   ]
  },
  {
   "cell_type": "code",
   "execution_count": null,
   "metadata": {
    "application/vnd.databricks.v1+cell": {
     "cellMetadata": {
      "byteLimit": 2048000,
      "rowLimit": 10000
     },
     "inputWidgets": {},
     "nuid": "afe25a1d-6d5b-4324-89ed-92b938bf341b",
     "showTitle": false,
     "title": ""
    }
   },
   "outputs": [
    {
     "name": "stdout",
     "output_type": "stream",
     "text": [
      "+-------------+-----+\n",
      "|        genre|count|\n",
      "+-------------+-----+\n",
      "|        Indie|34271|\n",
      "|       Action|23616|\n",
      "|       Casual|12312|\n",
      "|    Adventure|11265|\n",
      "|    Adventure|10166|\n",
      "|     Strategy|10045|\n",
      "|       Casual| 9774|\n",
      "|   Simulation| 9629|\n",
      "|          RPG| 8719|\n",
      "| Early Access| 6125|\n",
      "+-------------+-----+\n",
      "only showing top 10 rows\n",
      "\n"
     ]
    }
   ],
   "source": [
    "# show top 10 genres\n",
    "df_genre_explode.groupBy(\"genre\").count().orderBy(desc(\"count\")).show(10)"
   ]
  },
  {
   "cell_type": "markdown",
   "metadata": {
    "application/vnd.databricks.v1+cell": {
     "cellMetadata": {
      "byteLimit": 2048000,
      "rowLimit": 10000
     },
     "inputWidgets": {},
     "nuid": "74accd0c-d9da-403c-83b2-ac8a0d49095f",
     "showTitle": false,
     "title": ""
    }
   },
   "source": [
    "#### Do some publishers have favorite genres?"
   ]
  },
  {
   "cell_type": "code",
   "execution_count": null,
   "metadata": {
    "application/vnd.databricks.v1+cell": {
     "cellMetadata": {
      "byteLimit": 2048000,
      "rowLimit": 10000
     },
     "inputWidgets": {},
     "nuid": "06c2d284-6dfd-46a5-84a8-c03bda3e6212",
     "showTitle": false,
     "title": ""
    }
   },
   "outputs": [
    {
     "name": "stdout",
     "output_type": "stream",
     "text": [
      "+---------+--------------------+-----+\n",
      "|    genre|           publisher|count|\n",
      "+---------+--------------------+-----+\n",
      "|Adventure|      Big Fish Games|  391|\n",
      "|   Casual|      Big Fish Games|  389|\n",
      "|   Casual|              8floor|  194|\n",
      "|      RPG|     Choice of Games|  136|\n",
      "|    Indie|     Choice of Games|  112|\n",
      "|    Indie|        Laush Studio|  106|\n",
      "|Adventure|     Choice of Games|   99|\n",
      "|    Indie|                    |   94|\n",
      "|Adventure|Alawar Entertainment|   94|\n",
      "|   Casual|Alawar Entertainment|   94|\n",
      "|    Indie|    Devolver Digital|   81|\n",
      "|   Action|                SEGA|   80|\n",
      "|   Casual|        Laush Studio|   79|\n",
      "|      RPG|        Hosted Games|   79|\n",
      "|    Indie|  Boogygames Studios|   78|\n",
      "|      RPG|        Kagura Games|   77|\n",
      "|    Indie|       Sekai Project|   76|\n",
      "|    Indie|      Piece Of Voxel|   76|\n",
      "|   Action|         Square Enix|   75|\n",
      "|    Indie|Alawar Entertainment|   75|\n",
      "|    Indie|        Hosted Games|   74|\n",
      "|Adventure|       Artifex Mundi|   72|\n",
      "| Strategy|  Boogygames Studios|   71|\n",
      "|   Casual|       Artifex Mundi|   71|\n",
      "|   Action|             Ubisoft|   70|\n",
      "|    Indie|       Blender Games|   70|\n",
      "|    Indie|         SA Industry|   70|\n",
      "|    Indie|            HH-Games|   69|\n",
      "|   Action|    Devolver Digital|   69|\n",
      "|   Action|                    |   69|\n",
      "|   Casual|            HH-Games|   68|\n",
      "|   Casual|       Blender Games|   68|\n",
      "|    Indie|     Plug In Digital|   67|\n",
      "|    Indie|   Sokpop Collective|   66|\n",
      "|    Indie|             PLAYISM|   66|\n",
      "|   Casual|  Boogygames Studios|   65|\n",
      "|    Indie|           tinyBuild|   64|\n",
      "|Adventure|        Hosted Games|   64|\n",
      "|   Casual|            HH-Games|   64|\n",
      "|    Indie|         Tero Lunkka|   62|\n",
      "|   Action|            Ziggurat|   58|\n",
      "|   Action|     Electronic Arts|   57|\n",
      "|    Indie|           RewindApp|   57|\n",
      "|   Action|          THQ Nordic|   57|\n",
      "|    Indie|        Garage Games|   54|\n",
      "|    Indie|      Reforged Group|   54|\n",
      "|    Indie|Daedalic Entertai...|   54|\n",
      "|    Indie|                Hede|   54|\n",
      "|   Action|                Hede|   54|\n",
      "|    Indie|Forever Entertain...|   52|\n",
      "+---------+--------------------+-----+\n",
      "only showing top 50 rows\n",
      "\n"
     ]
    }
   ],
   "source": [
    "# show top 50, of number of games made by publisher for each gender\n",
    "genre_publisher = df_genre_explode.withColumn(\"publisher\", df.data.publisher)\n",
    "genre_publisher.groupBy(\"genre\", \"publisher\").count().sort(desc(\"count\")).show(50)"
   ]
  },
  {
   "cell_type": "markdown",
   "metadata": {
    "application/vnd.databricks.v1+cell": {
     "cellMetadata": {
      "byteLimit": 2048000,
      "rowLimit": 10000
     },
     "inputWidgets": {},
     "nuid": "15bc69c4-3835-480f-99fd-96ec8b31d023",
     "showTitle": false,
     "title": ""
    }
   },
   "source": [
    "### What are the most lucrative genres?"
   ]
  },
  {
   "cell_type": "code",
   "execution_count": null,
   "metadata": {
    "application/vnd.databricks.v1+cell": {
     "cellMetadata": {
      "byteLimit": 2048000,
      "rowLimit": 10000
     },
     "inputWidgets": {},
     "nuid": "56b45ec3-8fb6-446a-8a18-c45f3c78ea71",
     "showTitle": false,
     "title": ""
    }
   },
   "outputs": [
    {
     "name": "stdout",
     "output_type": "stream",
     "text": [
      "+-----+\n",
      "|  ccu|\n",
      "+-----+\n",
      "|13990|\n",
      "|    0|\n",
      "|   99|\n",
      "|   76|\n",
      "|    0|\n",
      "+-----+\n",
      "only showing top 5 rows\n",
      "\n"
     ]
    }
   ],
   "source": [
    "# ccu = concurrent (active) users\n",
    "df.select(\"data.ccu\").show(5)"
   ]
  },
  {
   "cell_type": "code",
   "execution_count": null,
   "metadata": {
    "application/vnd.databricks.v1+cell": {
     "cellMetadata": {
      "byteLimit": 2048000,
      "rowLimit": 10000
     },
     "inputWidgets": {},
     "nuid": "b69d6afa-20d9-43fd-b8e8-e2825f83a10a",
     "showTitle": false,
     "title": ""
    }
   },
   "outputs": [
    {
     "name": "stdout",
     "output_type": "stream",
     "text": [
      "+--------------------+-------+-----------+------------+\n",
      "|                data|     id|      genre|number_users|\n",
      "+--------------------+-------+-----------+------------+\n",
      "|{10, [Multi-playe...|     10|     Action|       13990|\n",
      "|{1000000, [Single...|1000000|     Action|           0|\n",
      "|{1000000, [Single...|1000000|  Adventure|           0|\n",
      "|{1000000, [Single...|1000000|      Indie|           0|\n",
      "|{1000010, [Single...|1000010|  Adventure|          99|\n",
      "|{1000010, [Single...|1000010|      Indie|          99|\n",
      "|{1000010, [Single...|1000010|        RPG|          99|\n",
      "|{1000010, [Single...|1000010|   Strategy|          99|\n",
      "|{1000030, [Multi-...|1000030|     Action|          76|\n",
      "|{1000030, [Multi-...|1000030|      Indie|          76|\n",
      "|{1000030, [Multi-...|1000030| Simulation|          76|\n",
      "|{1000030, [Multi-...|1000030|   Strategy|          76|\n",
      "|{1000040, [Single...|1000040|     Action|           0|\n",
      "|{1000040, [Single...|1000040|     Casual|           0|\n",
      "|{1000040, [Single...|1000040|      Indie|           0|\n",
      "|{1000040, [Single...|1000040| Simulation|           0|\n",
      "|{1000080, [Multi-...|1000080|     Action|           3|\n",
      "|{1000080, [Multi-...|1000080|  Adventure|           3|\n",
      "|{1000080, [Multi-...|1000080|      Indie|           3|\n",
      "|{1000080, [Multi-...|1000080|        RPG|           3|\n",
      "+--------------------+-------+-----------+------------+\n",
      "only showing top 20 rows\n",
      "\n"
     ]
    }
   ],
   "source": [
    "genre_ccu = df_genre_explode.withColumn(\"number_users\", df.data.ccu)\n",
    "genre_ccu.show()"
   ]
  },
  {
   "cell_type": "markdown",
   "metadata": {
    "application/vnd.databricks.v1+cell": {
     "cellMetadata": {
      "byteLimit": 2048000,
      "rowLimit": 10000
     },
     "inputWidgets": {},
     "nuid": "05f49869-c765-48da-a715-f959abbd9cb3",
     "showTitle": false,
     "title": ""
    }
   },
   "source": [
    "##### Insight\n",
    "- Top 10 most popular genres:"
   ]
  },
  {
   "cell_type": "code",
   "execution_count": null,
   "metadata": {
    "application/vnd.databricks.v1+cell": {
     "cellMetadata": {
      "byteLimit": 2048000,
      "rowLimit": 10000
     },
     "inputWidgets": {},
     "nuid": "1872c375-997f-41e1-8e2c-b8de3b90d842",
     "showTitle": false,
     "title": ""
    }
   },
   "outputs": [
    {
     "name": "stdout",
     "output_type": "stream",
     "text": [
      "+--------------------+-----------------+\n",
      "|               genre|sum(number_users)|\n",
      "+--------------------+-----------------+\n",
      "|              Action|          5678393|\n",
      "|        Free to Play|          3349267|\n",
      "|           Adventure|          2362513|\n",
      "|            Strategy|          1707913|\n",
      "| Massively Multip...|          1562734|\n",
      "|                 RPG|          1547343|\n",
      "|               Indie|          1409669|\n",
      "|          Simulation|          1056561|\n",
      "|          Simulation|           451708|\n",
      "|        Early Access|           412260|\n",
      "+--------------------+-----------------+\n",
      "only showing top 10 rows\n",
      "\n"
     ]
    }
   ],
   "source": [
    "# top 10 genres with most users\n",
    "# altough not necessarily the most profitable,\n",
    "# there is a natural relationship between popularity and sales\n",
    "genre_ccu.select(\"genre\", \"number_users\").groupby(\"genre\")\\\n",
    "    .sum().orderBy(desc(\"sum(number_users)\")).show(10)\n"
   ]
  },
  {
   "cell_type": "markdown",
   "metadata": {
    "application/vnd.databricks.v1+cell": {
     "cellMetadata": {
      "byteLimit": 2048000,
      "rowLimit": 10000
     },
     "inputWidgets": {},
     "nuid": "01ac9222-2471-42fc-ae0c-5d07a1017164",
     "showTitle": false,
     "title": ""
    }
   },
   "source": [
    "### Platform Analysis\n",
    "- Are most games available on Windows/Mac/Linux instead?\n",
    "\n",
    "- Do certain genres tend to be preferentially available on certain platforms?"
   ]
  },
  {
   "cell_type": "markdown",
   "metadata": {
    "application/vnd.databricks.v1+cell": {
     "cellMetadata": {
      "byteLimit": 2048000,
      "rowLimit": 10000
     },
     "inputWidgets": {},
     "nuid": "f35da024-a183-49ac-a13d-fa35e20a0887",
     "showTitle": false,
     "title": ""
    }
   },
   "source": [
    "### Are most games available on Windows/Mac/Linux instead?"
   ]
  },
  {
   "cell_type": "code",
   "execution_count": null,
   "metadata": {
    "application/vnd.databricks.v1+cell": {
     "cellMetadata": {
      "byteLimit": 2048000,
      "rowLimit": 10000
     },
     "inputWidgets": {},
     "nuid": "0472e337-ba53-458b-a305-8ce9b6bf1ad1",
     "showTitle": false,
     "title": ""
    }
   },
   "outputs": [
    {
     "name": "stdout",
     "output_type": "stream",
     "text": [
      "+-----+-----+\n",
      "|linux|count|\n",
      "+-----+-----+\n",
      "|false|47233|\n",
      "| true| 8458|\n",
      "+-----+-----+\n",
      "\n"
     ]
    }
   ],
   "source": [
    "# value counts for linux\n",
    "df.groupBy(\"data.platforms.linux\").count().orderBy(desc(\"count\")).show()"
   ]
  },
  {
   "cell_type": "code",
   "execution_count": null,
   "metadata": {
    "application/vnd.databricks.v1+cell": {
     "cellMetadata": {
      "byteLimit": 2048000,
      "rowLimit": 10000
     },
     "inputWidgets": {},
     "nuid": "cb452f51-6d84-455e-ab76-72e715b7859b",
     "showTitle": false,
     "title": ""
    }
   },
   "outputs": [
    {
     "name": "stdout",
     "output_type": "stream",
     "text": [
      "+-----+-----+\n",
      "|  mac|count|\n",
      "+-----+-----+\n",
      "|false|42921|\n",
      "| true|12770|\n",
      "+-----+-----+\n",
      "\n"
     ]
    }
   ],
   "source": [
    "df.groupBy(\"data.platforms.mac\").count().orderBy(desc(\"count\")).show()"
   ]
  },
  {
   "cell_type": "code",
   "execution_count": null,
   "metadata": {
    "application/vnd.databricks.v1+cell": {
     "cellMetadata": {
      "byteLimit": 2048000,
      "rowLimit": 10000
     },
     "inputWidgets": {},
     "nuid": "ab81d080-c5e4-40ad-ad21-fde0fc7504f0",
     "showTitle": false,
     "title": ""
    }
   },
   "outputs": [
    {
     "name": "stdout",
     "output_type": "stream",
     "text": [
      "+-------+-----+\n",
      "|windows|count|\n",
      "+-------+-----+\n",
      "|   true|55676|\n",
      "|  false|   15|\n",
      "+-------+-----+\n",
      "\n"
     ]
    }
   ],
   "source": [
    "df.groupBy(\"data.platforms.windows\").count().orderBy(desc(\"count\")).show()"
   ]
  },
  {
   "cell_type": "code",
   "execution_count": null,
   "metadata": {
    "application/vnd.databricks.v1+cell": {
     "cellMetadata": {
      "byteLimit": 2048000,
      "rowLimit": 10000
     },
     "inputWidgets": {},
     "nuid": "6460a2d2-d72f-4984-a18e-262bfca54589",
     "showTitle": false,
     "title": ""
    }
   },
   "outputs": [
    {
     "name": "stdout",
     "output_type": "stream",
     "text": [
      "Percentage of games available in Linux: 0.15187373184176978\n",
      "Percentage of games available in Mac: 0.22930096424916055\n",
      "Percentage of games available in Windows: 0.9997306566590652\n"
     ]
    }
   ],
   "source": [
    "print(\"Percentage of games available in Linux:\", 8458/ df.count())\n",
    "print(\"Percentage of games available in Mac:\", 12770/ df.count())\n",
    "print(\"Percentage of games available in Windows:\", 55676/ df.count())"
   ]
  },
  {
   "cell_type": "markdown",
   "metadata": {
    "application/vnd.databricks.v1+cell": {
     "cellMetadata": {
      "byteLimit": 2048000,
      "rowLimit": 10000
     },
     "inputWidgets": {},
     "nuid": "88d832bc-a5aa-4dc8-8a84-d97f65771096",
     "showTitle": false,
     "title": ""
    }
   },
   "source": [
    "### Do certain genres tend to be preferentially available on certain platforms?"
   ]
  },
  {
   "cell_type": "code",
   "execution_count": null,
   "metadata": {
    "application/vnd.databricks.v1+cell": {
     "cellMetadata": {
      "byteLimit": 2048000,
      "rowLimit": 10000
     },
     "inputWidgets": {},
     "nuid": "f0df5a04-fa5f-4fa1-af51-27e6fec33476",
     "showTitle": false,
     "title": ""
    }
   },
   "outputs": [
    {
     "name": "stdout",
     "output_type": "stream",
     "text": [
      "+-----------+-----+\n",
      "|      genre|count|\n",
      "+-----------+-----+\n",
      "|      Indie| 5912|\n",
      "|     Action| 3369|\n",
      "|  Adventure| 1945|\n",
      "|     Casual| 1838|\n",
      "|   Strategy| 1707|\n",
      "|     Casual| 1467|\n",
      "|        RPG| 1438|\n",
      "| Simulation| 1399|\n",
      "|  Adventure| 1357|\n",
      "|      Indie| 1066|\n",
      "+-----------+-----+\n",
      "only showing top 10 rows\n",
      "\n"
     ]
    }
   ],
   "source": [
    "# linux\n",
    "genre_explode_linux = df_genre_explode.withColumn(\"linux\", df.data.platforms.linux,)\n",
    "genre_explode_linux = genre_explode_linux.filter(genre_explode_linux[\"linux\"] == True)\n",
    "genre_explode_linux.groupBy(\"genre\").count().orderBy(desc(\"count\")).show(10)"
   ]
  },
  {
   "cell_type": "code",
   "execution_count": null,
   "metadata": {
    "application/vnd.databricks.v1+cell": {
     "cellMetadata": {
      "byteLimit": 2048000,
      "rowLimit": 10000
     },
     "inputWidgets": {},
     "nuid": "07d312da-b306-4276-be45-d084e8c11c86",
     "showTitle": false,
     "title": ""
    }
   },
   "outputs": [
    {
     "name": "stdout",
     "output_type": "stream",
     "text": [
      "+-----------+-----+\n",
      "|      genre|count|\n",
      "+-----------+-----+\n",
      "|      Indie| 8367|\n",
      "|     Action| 4549|\n",
      "|  Adventure| 3150|\n",
      "|     Casual| 2776|\n",
      "|   Strategy| 2769|\n",
      "|     Casual| 2354|\n",
      "| Simulation| 2191|\n",
      "|        RPG| 2117|\n",
      "|  Adventure| 1889|\n",
      "|      Indie| 1568|\n",
      "+-----------+-----+\n",
      "only showing top 10 rows\n",
      "\n"
     ]
    }
   ],
   "source": [
    "# mac\n",
    "genre_explode_mac = df_genre_explode.withColumn(\"mac\", df.data.platforms.mac,)\n",
    "genre_mac = genre_explode_mac.filter(genre_explode_mac[\"mac\"] == True)\n",
    "genre_mac.groupBy(\"genre\").count().orderBy(desc(\"count\")).show(10)"
   ]
  },
  {
   "cell_type": "code",
   "execution_count": null,
   "metadata": {
    "application/vnd.databricks.v1+cell": {
     "cellMetadata": {
      "byteLimit": 2048000,
      "rowLimit": 10000
     },
     "inputWidgets": {},
     "nuid": "d2274664-89c5-44ff-95e0-39e94f3599b0",
     "showTitle": false,
     "title": ""
    }
   },
   "outputs": [
    {
     "name": "stdout",
     "output_type": "stream",
     "text": [
      "+-------------+-----+\n",
      "|        genre|count|\n",
      "+-------------+-----+\n",
      "|        Indie|34267|\n",
      "|       Action|23612|\n",
      "|       Casual|12309|\n",
      "|    Adventure|11262|\n",
      "|    Adventure|10165|\n",
      "|     Strategy|10042|\n",
      "|       Casual| 9773|\n",
      "|   Simulation| 9626|\n",
      "|          RPG| 8718|\n",
      "| Early Access| 6125|\n",
      "+-------------+-----+\n",
      "only showing top 10 rows\n",
      "\n"
     ]
    }
   ],
   "source": [
    "# windows\n",
    "genre_explode_windows = df_genre_explode.withColumn(\"windows\", df.data.platforms.windows,)\n",
    "genre_explode_windows = genre_explode_windows.filter(genre_explode_windows[\"windows\"] == True)\n",
    "genre_explode_windows.groupBy(\"genre\").count().orderBy(desc(\"count\")).show(10)"
   ]
  },
  {
   "cell_type": "markdown",
   "metadata": {
    "application/vnd.databricks.v1+cell": {
     "cellMetadata": {
      "byteLimit": 2048000,
      "rowLimit": 10000
     },
     "inputWidgets": {},
     "nuid": "5d97a1ec-845a-4d38-bdcb-c0306b005b28",
     "showTitle": false,
     "title": ""
    }
   },
   "source": [
    "##### Insight\n",
    "- An astonishing 99.97% of games are available on Windows!!! Meanwhile, only 22.93% and 15.19% are available on Mac and Linux\n",
    "- Movie tastes are very similar for Mac and Linux users, but differ a little more when compared to Windows users. This probably has to do with the fact that Windows users have access to practically all games, while Mac and Linux have access to very few."
   ]
  }
 ],
 "metadata": {
  "application/vnd.databricks.v1+notebook": {
   "dashboards": [],
   "language": "python",
   "notebookMetadata": {
    "pythonIndentUnit": 4
   },
   "notebookName": "Stream_BigData",
   "widgets": {}
  },
  "language_info": {
   "name": "python"
  }
 },
 "nbformat": 4,
 "nbformat_minor": 0
}
